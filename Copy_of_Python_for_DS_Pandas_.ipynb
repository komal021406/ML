{
  "cells": [
    {
      "cell_type": "markdown",
      "metadata": {
        "id": "view-in-github",
        "colab_type": "text"
      },
      "source": [
        "<a href=\"https://colab.research.google.com/github/komal021406/ML/blob/main/Copy_of_Python_for_DS_Pandas_.ipynb\" target=\"_parent\"><img src=\"https://colab.research.google.com/assets/colab-badge.svg\" alt=\"Open In Colab\"/></a>"
      ]
    },
    {
      "cell_type": "markdown",
      "id": "15cbe6a8",
      "metadata": {
        "id": "15cbe6a8"
      },
      "source": [
        "# Pandas Assignment"
      ]
    },
    {
      "cell_type": "markdown",
      "id": "517124a6",
      "metadata": {
        "id": "517124a6"
      },
      "source": [
        "### MCQ1"
      ]
    },
    {
      "cell_type": "code",
      "execution_count": null,
      "id": "d7755037",
      "metadata": {
        "id": "d7755037"
      },
      "outputs": [],
      "source": []
    },
    {
      "cell_type": "markdown",
      "id": "da62e346",
      "metadata": {
        "id": "da62e346"
      },
      "source": [
        "### MCQ2"
      ]
    },
    {
      "cell_type": "code",
      "execution_count": null,
      "id": "ff367783",
      "metadata": {
        "scrolled": true,
        "id": "ff367783",
        "outputId": "85bd2a13-5cbf-44c6-acbf-ac61b4eadfbb"
      },
      "outputs": [
        {
          "data": {
            "text/html": [
              "<div>\n",
              "<style scoped>\n",
              "    .dataframe tbody tr th:only-of-type {\n",
              "        vertical-align: middle;\n",
              "    }\n",
              "\n",
              "    .dataframe tbody tr th {\n",
              "        vertical-align: top;\n",
              "    }\n",
              "\n",
              "    .dataframe thead th {\n",
              "        text-align: right;\n",
              "    }\n",
              "</style>\n",
              "<table border=\"1\" class=\"dataframe\">\n",
              "  <thead>\n",
              "    <tr style=\"text-align: right;\">\n",
              "      <th></th>\n",
              "      <th>Nums</th>\n",
              "    </tr>\n",
              "  </thead>\n",
              "  <tbody>\n",
              "    <tr>\n",
              "      <th>0</th>\n",
              "      <td>0</td>\n",
              "    </tr>\n",
              "    <tr>\n",
              "      <th>1</th>\n",
              "      <td>1</td>\n",
              "    </tr>\n",
              "    <tr>\n",
              "      <th>2</th>\n",
              "      <td>0</td>\n",
              "    </tr>\n",
              "    <tr>\n",
              "      <th>3</th>\n",
              "      <td>3</td>\n",
              "    </tr>\n",
              "    <tr>\n",
              "      <th>4</th>\n",
              "      <td>0</td>\n",
              "    </tr>\n",
              "    <tr>\n",
              "      <th>5</th>\n",
              "      <td>5</td>\n",
              "    </tr>\n",
              "  </tbody>\n",
              "</table>\n",
              "</div>"
            ],
            "text/plain": [
              "   Nums\n",
              "0     0\n",
              "1     1\n",
              "2     0\n",
              "3     3\n",
              "4     0\n",
              "5     5"
            ]
          },
          "execution_count": 133,
          "metadata": {},
          "output_type": "execute_result"
        }
      ],
      "source": [
        "data = {\n",
        "    'Nums': [0, 1, 0, 3, 0, 5],\n",
        "}\n",
        "\n",
        "df = pd.DataFrame(data)\n",
        "\n",
        "df"
      ]
    },
    {
      "cell_type": "code",
      "execution_count": null,
      "id": "238898f7",
      "metadata": {
        "id": "238898f7",
        "outputId": "3fcf9ab0-b3f0-4329-9091-6e1329b00e75"
      },
      "outputs": [
        {
          "data": {
            "text/plain": [
              "0    1.5\n",
              "1    1.0\n",
              "2    1.5\n",
              "3    3.0\n",
              "4    1.5\n",
              "5    5.0\n",
              "Name: Nums, dtype: float64"
            ]
          },
          "execution_count": 134,
          "metadata": {},
          "output_type": "execute_result"
        }
      ],
      "source": [
        "df['Nums'].replace(0, df['Nums'].mean())"
      ]
    },
    {
      "cell_type": "markdown",
      "id": "56bbd687",
      "metadata": {
        "id": "56bbd687"
      },
      "source": [
        "### MCQ3"
      ]
    },
    {
      "cell_type": "code",
      "execution_count": null,
      "id": "49e0cecc",
      "metadata": {
        "scrolled": true,
        "id": "49e0cecc",
        "outputId": "980a9604-9347-4858-ccb5-405c3c7afcdd"
      },
      "outputs": [
        {
          "name": "stdout",
          "output_type": "stream",
          "text": [
            "   ID     Name\n",
            "0   1    Alice\n",
            "1   2      Bob\n",
            "2   3  Charlie\n",
            "\n",
            "   ID  Age\n",
            "0   2   25\n",
            "1   3   30\n",
            "2   4   22\n"
          ]
        }
      ],
      "source": [
        "df1 = pd.DataFrame({'ID': [1, 2, 3], 'Name': ['Alice', 'Bob', 'Charlie']})\n",
        "df2 = pd.DataFrame({'ID': [2, 3, 4], 'Age': [25, 30, 22]})\n",
        "\n",
        "print(df1)\n",
        "print()\n",
        "print(df2)"
      ]
    },
    {
      "cell_type": "code",
      "execution_count": null,
      "id": "c5e0211f",
      "metadata": {
        "id": "c5e0211f",
        "outputId": "bd6384bb-4c93-407a-cb12-12b504f70c9e"
      },
      "outputs": [
        {
          "name": "stdout",
          "output_type": "stream",
          "text": [
            "   ID     Name  Age\n",
            "0   2      Bob   25\n",
            "1   3  Charlie   30\n",
            "\n",
            "   ID     Name   Age\n",
            "0   1    Alice   NaN\n",
            "1   2      Bob   NaN\n",
            "2   3  Charlie   NaN\n",
            "0   2      NaN  25.0\n",
            "1   3      NaN  30.0\n",
            "2   4      NaN  22.0\n"
          ]
        }
      ],
      "source": [
        "merged_df = pd.merge(df1, df2, on='ID')\n",
        "concatenated_df = pd.concat([df1, df2], axis=0)\n",
        "\n",
        "print(merged_df)\n",
        "print()\n",
        "print(concatenated_df)"
      ]
    },
    {
      "cell_type": "markdown",
      "id": "758934fc",
      "metadata": {
        "id": "758934fc"
      },
      "source": [
        "### MCQ4"
      ]
    },
    {
      "cell_type": "code",
      "execution_count": null,
      "id": "ee90fdf4",
      "metadata": {
        "scrolled": true,
        "id": "ee90fdf4"
      },
      "outputs": [],
      "source": [
        "df = pd.DataFrame(np.random.randn(6, 4), columns=list('ABCD'))"
      ]
    },
    {
      "cell_type": "code",
      "execution_count": null,
      "id": "ceb2a0f8",
      "metadata": {
        "id": "ceb2a0f8",
        "outputId": "eb9c1f50-5d9a-4017-e479-eff6e7125bbe"
      },
      "outputs": [
        {
          "data": {
            "text/html": [
              "<div>\n",
              "<style scoped>\n",
              "    .dataframe tbody tr th:only-of-type {\n",
              "        vertical-align: middle;\n",
              "    }\n",
              "\n",
              "    .dataframe tbody tr th {\n",
              "        vertical-align: top;\n",
              "    }\n",
              "\n",
              "    .dataframe thead th {\n",
              "        text-align: right;\n",
              "    }\n",
              "</style>\n",
              "<table border=\"1\" class=\"dataframe\">\n",
              "  <thead>\n",
              "    <tr style=\"text-align: right;\">\n",
              "      <th></th>\n",
              "      <th>A</th>\n",
              "      <th>B</th>\n",
              "      <th>C</th>\n",
              "      <th>D</th>\n",
              "    </tr>\n",
              "  </thead>\n",
              "  <tbody>\n",
              "    <tr>\n",
              "      <th>0</th>\n",
              "      <td>1.732330</td>\n",
              "      <td>0.170162</td>\n",
              "      <td>0.561076</td>\n",
              "      <td>-0.188736</td>\n",
              "    </tr>\n",
              "    <tr>\n",
              "      <th>1</th>\n",
              "      <td>1.975203</td>\n",
              "      <td>-0.765898</td>\n",
              "      <td>-0.116659</td>\n",
              "      <td>0.581519</td>\n",
              "    </tr>\n",
              "    <tr>\n",
              "      <th>2</th>\n",
              "      <td>-0.468900</td>\n",
              "      <td>-0.289240</td>\n",
              "      <td>-0.488652</td>\n",
              "      <td>0.680196</td>\n",
              "    </tr>\n",
              "    <tr>\n",
              "      <th>3</th>\n",
              "      <td>-1.421544</td>\n",
              "      <td>-0.126406</td>\n",
              "      <td>0.425402</td>\n",
              "      <td>0.251182</td>\n",
              "    </tr>\n",
              "    <tr>\n",
              "      <th>4</th>\n",
              "      <td>-1.359909</td>\n",
              "      <td>0.635608</td>\n",
              "      <td>-1.680565</td>\n",
              "      <td>0.740843</td>\n",
              "    </tr>\n",
              "    <tr>\n",
              "      <th>5</th>\n",
              "      <td>-0.926680</td>\n",
              "      <td>2.050987</td>\n",
              "      <td>-1.835518</td>\n",
              "      <td>0.107860</td>\n",
              "    </tr>\n",
              "  </tbody>\n",
              "</table>\n",
              "</div>"
            ],
            "text/plain": [
              "          A         B         C         D\n",
              "0  1.732330  0.170162  0.561076 -0.188736\n",
              "1  1.975203 -0.765898 -0.116659  0.581519\n",
              "2 -0.468900 -0.289240 -0.488652  0.680196\n",
              "3 -1.421544 -0.126406  0.425402  0.251182\n",
              "4 -1.359909  0.635608 -1.680565  0.740843\n",
              "5 -0.926680  2.050987 -1.835518  0.107860"
            ]
          },
          "execution_count": 141,
          "metadata": {},
          "output_type": "execute_result"
        }
      ],
      "source": [
        "df"
      ]
    },
    {
      "cell_type": "code",
      "execution_count": null,
      "id": "40559596",
      "metadata": {
        "id": "40559596",
        "outputId": "db169119-b983-4858-94c5-6c4bb44bbb73"
      },
      "outputs": [
        {
          "data": {
            "text/html": [
              "<div>\n",
              "<style scoped>\n",
              "    .dataframe tbody tr th:only-of-type {\n",
              "        vertical-align: middle;\n",
              "    }\n",
              "\n",
              "    .dataframe tbody tr th {\n",
              "        vertical-align: top;\n",
              "    }\n",
              "\n",
              "    .dataframe thead th {\n",
              "        text-align: right;\n",
              "    }\n",
              "</style>\n",
              "<table border=\"1\" class=\"dataframe\">\n",
              "  <thead>\n",
              "    <tr style=\"text-align: right;\">\n",
              "      <th></th>\n",
              "      <th>A</th>\n",
              "      <th>B</th>\n",
              "      <th>C</th>\n",
              "      <th>D</th>\n",
              "    </tr>\n",
              "  </thead>\n",
              "  <tbody>\n",
              "    <tr>\n",
              "      <th>0</th>\n",
              "      <td>1.732330</td>\n",
              "      <td>0.170162</td>\n",
              "      <td>0.561076</td>\n",
              "      <td>-0.188736</td>\n",
              "    </tr>\n",
              "    <tr>\n",
              "      <th>3</th>\n",
              "      <td>-1.421544</td>\n",
              "      <td>-0.126406</td>\n",
              "      <td>0.425402</td>\n",
              "      <td>0.251182</td>\n",
              "    </tr>\n",
              "  </tbody>\n",
              "</table>\n",
              "</div>"
            ],
            "text/plain": [
              "          A         B         C         D\n",
              "0  1.732330  0.170162  0.561076 -0.188736\n",
              "3 -1.421544 -0.126406  0.425402  0.251182"
            ]
          },
          "execution_count": 140,
          "metadata": {},
          "output_type": "execute_result"
        }
      ],
      "source": [
        "df[df.C > 0]"
      ]
    },
    {
      "cell_type": "markdown",
      "id": "5e4286c6",
      "metadata": {
        "id": "5e4286c6"
      },
      "source": [
        "### MCQ5"
      ]
    },
    {
      "cell_type": "code",
      "execution_count": null,
      "id": "be77f1ce",
      "metadata": {
        "id": "be77f1ce"
      },
      "outputs": [],
      "source": [
        "data = {'A': [1, 2, 3], 'B': [4, 5, 6]}"
      ]
    },
    {
      "cell_type": "code",
      "execution_count": null,
      "id": "69e6b640",
      "metadata": {
        "scrolled": true,
        "id": "69e6b640",
        "outputId": "4fadbbe0-ddba-4c42-de27-ed6b2aaa0431"
      },
      "outputs": [
        {
          "data": {
            "text/html": [
              "<div>\n",
              "<style scoped>\n",
              "    .dataframe tbody tr th:only-of-type {\n",
              "        vertical-align: middle;\n",
              "    }\n",
              "\n",
              "    .dataframe tbody tr th {\n",
              "        vertical-align: top;\n",
              "    }\n",
              "\n",
              "    .dataframe thead th {\n",
              "        text-align: right;\n",
              "    }\n",
              "</style>\n",
              "<table border=\"1\" class=\"dataframe\">\n",
              "  <thead>\n",
              "    <tr style=\"text-align: right;\">\n",
              "      <th></th>\n",
              "      <th>A</th>\n",
              "      <th>B</th>\n",
              "    </tr>\n",
              "  </thead>\n",
              "  <tbody>\n",
              "    <tr>\n",
              "      <th>0</th>\n",
              "      <td>1</td>\n",
              "      <td>4</td>\n",
              "    </tr>\n",
              "    <tr>\n",
              "      <th>1</th>\n",
              "      <td>2</td>\n",
              "      <td>5</td>\n",
              "    </tr>\n",
              "    <tr>\n",
              "      <th>2</th>\n",
              "      <td>3</td>\n",
              "      <td>6</td>\n",
              "    </tr>\n",
              "  </tbody>\n",
              "</table>\n",
              "</div>"
            ],
            "text/plain": [
              "   A  B\n",
              "0  1  4\n",
              "1  2  5\n",
              "2  3  6"
            ]
          },
          "execution_count": 144,
          "metadata": {},
          "output_type": "execute_result"
        }
      ],
      "source": [
        "df = pd.DataFrame(data)\n",
        "\n",
        "df"
      ]
    },
    {
      "cell_type": "code",
      "execution_count": null,
      "id": "6fd288cc",
      "metadata": {
        "id": "6fd288cc",
        "outputId": "746059cd-f89b-42aa-bfc8-389189bd27a2"
      },
      "outputs": [
        {
          "data": {
            "text/html": [
              "<div>\n",
              "<style scoped>\n",
              "    .dataframe tbody tr th:only-of-type {\n",
              "        vertical-align: middle;\n",
              "    }\n",
              "\n",
              "    .dataframe tbody tr th {\n",
              "        vertical-align: top;\n",
              "    }\n",
              "\n",
              "    .dataframe thead th {\n",
              "        text-align: right;\n",
              "    }\n",
              "</style>\n",
              "<table border=\"1\" class=\"dataframe\">\n",
              "  <thead>\n",
              "    <tr style=\"text-align: right;\">\n",
              "      <th></th>\n",
              "      <th>0</th>\n",
              "      <th>1</th>\n",
              "      <th>2</th>\n",
              "    </tr>\n",
              "  </thead>\n",
              "  <tbody>\n",
              "    <tr>\n",
              "      <th>A</th>\n",
              "      <td>1</td>\n",
              "      <td>2</td>\n",
              "      <td>3</td>\n",
              "    </tr>\n",
              "    <tr>\n",
              "      <th>B</th>\n",
              "      <td>4</td>\n",
              "      <td>5</td>\n",
              "      <td>6</td>\n",
              "    </tr>\n",
              "  </tbody>\n",
              "</table>\n",
              "</div>"
            ],
            "text/plain": [
              "   0  1  2\n",
              "A  1  2  3\n",
              "B  4  5  6"
            ]
          },
          "execution_count": 145,
          "metadata": {},
          "output_type": "execute_result"
        }
      ],
      "source": [
        "df.T"
      ]
    },
    {
      "cell_type": "markdown",
      "id": "a73efbf2",
      "metadata": {
        "id": "a73efbf2"
      },
      "source": [
        "### MCQ6"
      ]
    },
    {
      "cell_type": "code",
      "execution_count": null,
      "id": "9b2781c5",
      "metadata": {
        "scrolled": true,
        "id": "9b2781c5",
        "outputId": "5b010d22-d5ff-400b-98d4-ae893079fa0f"
      },
      "outputs": [
        {
          "name": "stdout",
          "output_type": "stream",
          "text": [
            "   A  B\n",
            "0  1  5\n",
            "1  2  6\n",
            "2  3  7\n",
            "3  4  8\n"
          ]
        }
      ],
      "source": [
        "data = {'A': [1, 2, 3, 4],\n",
        "        'B': [5, 6, 7, 8]}\n",
        "df = pd.DataFrame(data)\n",
        "\n",
        "print(df)"
      ]
    },
    {
      "cell_type": "code",
      "execution_count": null,
      "id": "d7bdcb0b",
      "metadata": {
        "scrolled": true,
        "id": "d7bdcb0b"
      },
      "outputs": [],
      "source": [
        "df.drop([1, 3], inplace=True)"
      ]
    },
    {
      "cell_type": "code",
      "execution_count": null,
      "id": "c912e12b",
      "metadata": {
        "scrolled": true,
        "id": "c912e12b",
        "outputId": "f64123b6-3d92-43c0-b026-f0d972c3deba"
      },
      "outputs": [
        {
          "data": {
            "text/html": [
              "<div>\n",
              "<style scoped>\n",
              "    .dataframe tbody tr th:only-of-type {\n",
              "        vertical-align: middle;\n",
              "    }\n",
              "\n",
              "    .dataframe tbody tr th {\n",
              "        vertical-align: top;\n",
              "    }\n",
              "\n",
              "    .dataframe thead th {\n",
              "        text-align: right;\n",
              "    }\n",
              "</style>\n",
              "<table border=\"1\" class=\"dataframe\">\n",
              "  <thead>\n",
              "    <tr style=\"text-align: right;\">\n",
              "      <th></th>\n",
              "      <th>A</th>\n",
              "      <th>B</th>\n",
              "    </tr>\n",
              "  </thead>\n",
              "  <tbody>\n",
              "    <tr>\n",
              "      <th>0</th>\n",
              "      <td>1</td>\n",
              "      <td>5</td>\n",
              "    </tr>\n",
              "    <tr>\n",
              "      <th>2</th>\n",
              "      <td>3</td>\n",
              "      <td>7</td>\n",
              "    </tr>\n",
              "  </tbody>\n",
              "</table>\n",
              "</div>"
            ],
            "text/plain": [
              "   A  B\n",
              "0  1  5\n",
              "2  3  7"
            ]
          },
          "execution_count": 150,
          "metadata": {},
          "output_type": "execute_result"
        }
      ],
      "source": [
        "df"
      ]
    },
    {
      "cell_type": "code",
      "execution_count": null,
      "id": "f5857ecf",
      "metadata": {
        "id": "f5857ecf"
      },
      "outputs": [],
      "source": [
        "df.drop(['B'], axis=1, inplace=True)"
      ]
    },
    {
      "cell_type": "code",
      "execution_count": null,
      "id": "6d9b9cc3",
      "metadata": {
        "id": "6d9b9cc3",
        "outputId": "5b0f7048-93df-49c5-e717-acbc4dfadde0"
      },
      "outputs": [
        {
          "data": {
            "text/html": [
              "<div>\n",
              "<style scoped>\n",
              "    .dataframe tbody tr th:only-of-type {\n",
              "        vertical-align: middle;\n",
              "    }\n",
              "\n",
              "    .dataframe tbody tr th {\n",
              "        vertical-align: top;\n",
              "    }\n",
              "\n",
              "    .dataframe thead th {\n",
              "        text-align: right;\n",
              "    }\n",
              "</style>\n",
              "<table border=\"1\" class=\"dataframe\">\n",
              "  <thead>\n",
              "    <tr style=\"text-align: right;\">\n",
              "      <th></th>\n",
              "      <th>A</th>\n",
              "    </tr>\n",
              "  </thead>\n",
              "  <tbody>\n",
              "    <tr>\n",
              "      <th>0</th>\n",
              "      <td>1</td>\n",
              "    </tr>\n",
              "    <tr>\n",
              "      <th>2</th>\n",
              "      <td>3</td>\n",
              "    </tr>\n",
              "  </tbody>\n",
              "</table>\n",
              "</div>"
            ],
            "text/plain": [
              "   A\n",
              "0  1\n",
              "2  3"
            ]
          },
          "execution_count": 152,
          "metadata": {},
          "output_type": "execute_result"
        }
      ],
      "source": [
        "df"
      ]
    },
    {
      "cell_type": "markdown",
      "id": "cdd43941",
      "metadata": {
        "id": "cdd43941"
      },
      "source": [
        "### MCQ7"
      ]
    },
    {
      "cell_type": "code",
      "execution_count": null,
      "id": "91d6ddf0",
      "metadata": {
        "id": "91d6ddf0",
        "outputId": "5f5c00d7-bef5-4109-cae4-eec5bbdf8ef3"
      },
      "outputs": [
        {
          "data": {
            "text/html": [
              "<div>\n",
              "<style scoped>\n",
              "    .dataframe tbody tr th:only-of-type {\n",
              "        vertical-align: middle;\n",
              "    }\n",
              "\n",
              "    .dataframe tbody tr th {\n",
              "        vertical-align: top;\n",
              "    }\n",
              "\n",
              "    .dataframe thead th {\n",
              "        text-align: right;\n",
              "    }\n",
              "</style>\n",
              "<table border=\"1\" class=\"dataframe\">\n",
              "  <thead>\n",
              "    <tr style=\"text-align: right;\">\n",
              "      <th></th>\n",
              "      <th>A</th>\n",
              "      <th>B</th>\n",
              "    </tr>\n",
              "  </thead>\n",
              "  <tbody>\n",
              "    <tr>\n",
              "      <th>0</th>\n",
              "      <td>1</td>\n",
              "      <td>4</td>\n",
              "    </tr>\n",
              "    <tr>\n",
              "      <th>1</th>\n",
              "      <td>2</td>\n",
              "      <td>5</td>\n",
              "    </tr>\n",
              "    <tr>\n",
              "      <th>2</th>\n",
              "      <td>3</td>\n",
              "      <td>6</td>\n",
              "    </tr>\n",
              "  </tbody>\n",
              "</table>\n",
              "</div>"
            ],
            "text/plain": [
              "   A  B\n",
              "0  1  4\n",
              "1  2  5\n",
              "2  3  6"
            ]
          },
          "execution_count": 153,
          "metadata": {},
          "output_type": "execute_result"
        }
      ],
      "source": [
        "data = {'A': [1, 2, 3], 'B': [4, 5, 6]}\n",
        "\n",
        "df = pd.DataFrame(data)\n",
        "\n",
        "df"
      ]
    },
    {
      "cell_type": "code",
      "execution_count": null,
      "id": "316893ad",
      "metadata": {
        "id": "316893ad",
        "outputId": "75c709fe-376f-4762-aea7-45ca533231f3"
      },
      "outputs": [
        {
          "data": {
            "text/plain": [
              "5"
            ]
          },
          "execution_count": 154,
          "metadata": {},
          "output_type": "execute_result"
        }
      ],
      "source": [
        "df.at[1, 'B']"
      ]
    },
    {
      "cell_type": "code",
      "execution_count": null,
      "id": "47a19081",
      "metadata": {
        "id": "47a19081",
        "outputId": "40264b1f-656c-49b5-880b-90011570a2c1"
      },
      "outputs": [
        {
          "data": {
            "text/plain": [
              "B    5\n",
              "Name: 1, dtype: int64"
            ]
          },
          "execution_count": 157,
          "metadata": {},
          "output_type": "execute_result"
        }
      ],
      "source": [
        "df.loc[1, 'B']"
      ]
    },
    {
      "cell_type": "code",
      "execution_count": null,
      "id": "e87c7547",
      "metadata": {
        "id": "e87c7547"
      },
      "outputs": [],
      "source": [
        "\"\"\"\n",
        "the key difference between df.at and df.loc is that df.at is primarily used for\n",
        "efficient access or modification of single values by label, while df.loc is a\n",
        "more versatile tool for selecting, filtering, and modifying data based on labels\n",
        "and conditions. Use df.at when you need to work with specific individual values,\n",
        "and use df.loc when you require more complex data selection and manipulation.\n",
        "\"\"\""
      ]
    },
    {
      "cell_type": "markdown",
      "id": "a0acf398",
      "metadata": {
        "id": "a0acf398"
      },
      "source": [
        "### MCQ8"
      ]
    },
    {
      "cell_type": "code",
      "execution_count": null,
      "id": "4c59c83a",
      "metadata": {
        "id": "4c59c83a"
      },
      "outputs": [],
      "source": []
    },
    {
      "cell_type": "markdown",
      "id": "d6c59975",
      "metadata": {
        "id": "d6c59975"
      },
      "source": [
        "### MCQ9"
      ]
    },
    {
      "cell_type": "code",
      "execution_count": null,
      "id": "398eca78",
      "metadata": {
        "id": "398eca78"
      },
      "outputs": [],
      "source": []
    },
    {
      "cell_type": "markdown",
      "id": "84fdfc16",
      "metadata": {
        "id": "84fdfc16"
      },
      "source": [
        "### MCQ10"
      ]
    },
    {
      "cell_type": "code",
      "execution_count": null,
      "id": "ef5897b2",
      "metadata": {
        "id": "ef5897b2",
        "outputId": "dc41d882-a825-41e5-f6bb-595b5fcfa4cd"
      },
      "outputs": [
        {
          "data": {
            "text/html": [
              "<div>\n",
              "<style scoped>\n",
              "    .dataframe tbody tr th:only-of-type {\n",
              "        vertical-align: middle;\n",
              "    }\n",
              "\n",
              "    .dataframe tbody tr th {\n",
              "        vertical-align: top;\n",
              "    }\n",
              "\n",
              "    .dataframe thead th {\n",
              "        text-align: right;\n",
              "    }\n",
              "</style>\n",
              "<table border=\"1\" class=\"dataframe\">\n",
              "  <thead>\n",
              "    <tr style=\"text-align: right;\">\n",
              "      <th></th>\n",
              "      <th>A</th>\n",
              "      <th>B</th>\n",
              "    </tr>\n",
              "  </thead>\n",
              "  <tbody>\n",
              "    <tr>\n",
              "      <th>0</th>\n",
              "      <td>1</td>\n",
              "      <td>4</td>\n",
              "    </tr>\n",
              "    <tr>\n",
              "      <th>1</th>\n",
              "      <td>2</td>\n",
              "      <td>5</td>\n",
              "    </tr>\n",
              "    <tr>\n",
              "      <th>2</th>\n",
              "      <td>3</td>\n",
              "      <td>6</td>\n",
              "    </tr>\n",
              "  </tbody>\n",
              "</table>\n",
              "</div>"
            ],
            "text/plain": [
              "   A  B\n",
              "0  1  4\n",
              "1  2  5\n",
              "2  3  6"
            ]
          },
          "execution_count": 241,
          "metadata": {},
          "output_type": "execute_result"
        }
      ],
      "source": [
        "data = {'A': [1, 2, 3], 'B': [4, 5, 6]}\n",
        "\n",
        "df = pd.DataFrame(data)\n",
        "\n",
        "df"
      ]
    },
    {
      "cell_type": "code",
      "execution_count": null,
      "id": "3d1e390e",
      "metadata": {
        "scrolled": true,
        "id": "3d1e390e",
        "outputId": "37e46b9f-45ff-4b50-b339-0428b3659dae"
      },
      "outputs": [
        {
          "data": {
            "text/html": [
              "<div>\n",
              "<style scoped>\n",
              "    .dataframe tbody tr th:only-of-type {\n",
              "        vertical-align: middle;\n",
              "    }\n",
              "\n",
              "    .dataframe tbody tr th {\n",
              "        vertical-align: top;\n",
              "    }\n",
              "\n",
              "    .dataframe thead th {\n",
              "        text-align: right;\n",
              "    }\n",
              "</style>\n",
              "<table border=\"1\" class=\"dataframe\">\n",
              "  <thead>\n",
              "    <tr style=\"text-align: right;\">\n",
              "      <th></th>\n",
              "      <th>A</th>\n",
              "      <th>B</th>\n",
              "    </tr>\n",
              "  </thead>\n",
              "  <tbody>\n",
              "    <tr>\n",
              "      <th>0</th>\n",
              "      <td>1</td>\n",
              "      <td>16</td>\n",
              "    </tr>\n",
              "    <tr>\n",
              "      <th>1</th>\n",
              "      <td>4</td>\n",
              "      <td>25</td>\n",
              "    </tr>\n",
              "    <tr>\n",
              "      <th>2</th>\n",
              "      <td>9</td>\n",
              "      <td>36</td>\n",
              "    </tr>\n",
              "  </tbody>\n",
              "</table>\n",
              "</div>"
            ],
            "text/plain": [
              "   A   B\n",
              "0  1  16\n",
              "1  4  25\n",
              "2  9  36"
            ]
          },
          "execution_count": 176,
          "metadata": {},
          "output_type": "execute_result"
        }
      ],
      "source": [
        "# On all elements\n",
        "df.apply(lambda x: x**2)"
      ]
    },
    {
      "cell_type": "code",
      "execution_count": null,
      "id": "c61debdc",
      "metadata": {
        "id": "c61debdc",
        "outputId": "d4d3297e-848e-4551-a38b-8bbed6f097f1"
      },
      "outputs": [
        {
          "data": {
            "text/html": [
              "<div>\n",
              "<style scoped>\n",
              "    .dataframe tbody tr th:only-of-type {\n",
              "        vertical-align: middle;\n",
              "    }\n",
              "\n",
              "    .dataframe tbody tr th {\n",
              "        vertical-align: top;\n",
              "    }\n",
              "\n",
              "    .dataframe thead th {\n",
              "        text-align: right;\n",
              "    }\n",
              "</style>\n",
              "<table border=\"1\" class=\"dataframe\">\n",
              "  <thead>\n",
              "    <tr style=\"text-align: right;\">\n",
              "      <th></th>\n",
              "      <th>A</th>\n",
              "      <th>B</th>\n",
              "    </tr>\n",
              "  </thead>\n",
              "  <tbody>\n",
              "    <tr>\n",
              "      <th>0</th>\n",
              "      <td>1</td>\n",
              "      <td>16</td>\n",
              "    </tr>\n",
              "    <tr>\n",
              "      <th>1</th>\n",
              "      <td>2</td>\n",
              "      <td>25</td>\n",
              "    </tr>\n",
              "    <tr>\n",
              "      <th>2</th>\n",
              "      <td>3</td>\n",
              "      <td>36</td>\n",
              "    </tr>\n",
              "  </tbody>\n",
              "</table>\n",
              "</div>"
            ],
            "text/plain": [
              "   A   B\n",
              "0  1  16\n",
              "1  2  25\n",
              "2  3  36"
            ]
          },
          "execution_count": 242,
          "metadata": {},
          "output_type": "execute_result"
        }
      ],
      "source": [
        "# If only on column B\n",
        "df['B'] = df['B'].apply(lambda x: x**2)\n",
        "\n",
        "df"
      ]
    },
    {
      "cell_type": "markdown",
      "id": "ac43697a",
      "metadata": {
        "id": "ac43697a"
      },
      "source": [
        "### FF1"
      ]
    },
    {
      "cell_type": "code",
      "execution_count": null,
      "id": "e8883a94",
      "metadata": {
        "id": "e8883a94",
        "outputId": "9cb76f05-4498-446c-a7fe-9ae41906630a"
      },
      "outputs": [
        {
          "data": {
            "text/html": [
              "<div>\n",
              "<style scoped>\n",
              "    .dataframe tbody tr th:only-of-type {\n",
              "        vertical-align: middle;\n",
              "    }\n",
              "\n",
              "    .dataframe tbody tr th {\n",
              "        vertical-align: top;\n",
              "    }\n",
              "\n",
              "    .dataframe thead th {\n",
              "        text-align: right;\n",
              "    }\n",
              "</style>\n",
              "<table border=\"1\" class=\"dataframe\">\n",
              "  <thead>\n",
              "    <tr style=\"text-align: right;\">\n",
              "      <th></th>\n",
              "      <th>Title</th>\n",
              "      <th>Director</th>\n",
              "      <th>Rating</th>\n",
              "    </tr>\n",
              "  </thead>\n",
              "  <tbody>\n",
              "    <tr>\n",
              "      <th>1</th>\n",
              "      <td>Dunkirk</td>\n",
              "      <td>Christopher Nolan</td>\n",
              "      <td>7.9</td>\n",
              "    </tr>\n",
              "    <tr>\n",
              "      <th>3</th>\n",
              "      <td>The Prestige</td>\n",
              "      <td>Christopher Nolan</td>\n",
              "      <td>8.5</td>\n",
              "    </tr>\n",
              "    <tr>\n",
              "      <th>4</th>\n",
              "      <td>Memento</td>\n",
              "      <td>Christopher Nolan</td>\n",
              "      <td>8.4</td>\n",
              "    </tr>\n",
              "  </tbody>\n",
              "</table>\n",
              "</div>"
            ],
            "text/plain": [
              "          Title           Director  Rating\n",
              "1       Dunkirk  Christopher Nolan     7.9\n",
              "3  The Prestige  Christopher Nolan     8.5\n",
              "4       Memento  Christopher Nolan     8.4"
            ]
          },
          "execution_count": 166,
          "metadata": {},
          "output_type": "execute_result"
        }
      ],
      "source": [
        "# Calculate the average rating of movies directed by Christopher Nolan\n",
        "data = {\n",
        "    'Title': ['Inception', 'Dunkirk', 'Interstellar', 'The Prestige', 'Memento'],\n",
        "    'Director': ['Other Director', 'Christopher Nolan', 'Other Director', 'Christopher Nolan', 'Christopher Nolan'],\n",
        "    'Rating': [8.8, 7.9, 8.6, 8.5, 8.4]\n",
        "}\n",
        "\n",
        "df = pd.DataFrame(data)\n",
        "\n",
        "# df[df['Director'] == 'Christopher Nolan']\n",
        "df"
      ]
    },
    {
      "cell_type": "code",
      "execution_count": null,
      "id": "fdf8f9b4",
      "metadata": {
        "id": "fdf8f9b4",
        "outputId": "b7e17e16-1199-4db7-b10c-d09e1f18bd6c"
      },
      "outputs": [
        {
          "data": {
            "text/plain": [
              "Director\n",
              "Christopher Nolan    8.266667\n",
              "Other Director       8.700000\n",
              "Name: Rating, dtype: float64"
            ]
          },
          "execution_count": 164,
          "metadata": {},
          "output_type": "execute_result"
        }
      ],
      "source": [
        "df.groupby('Director')['Rating'].mean()"
      ]
    },
    {
      "cell_type": "markdown",
      "id": "e8f9f8cb",
      "metadata": {
        "id": "e8f9f8cb"
      },
      "source": [
        "### FF2"
      ]
    },
    {
      "cell_type": "code",
      "execution_count": null,
      "id": "88f6b969",
      "metadata": {
        "id": "88f6b969"
      },
      "outputs": [],
      "source": [
        "# Extract all rows where the price is greater than or equal to 20,000\n",
        "data = {\n",
        "    'Product': ['Laptop', 'Desktop', 'Tablet', 'Phone', 'Smartwatch'],\n",
        "    'Price': [25000, 12000, 8000, 22000, 5000]\n",
        "}\n",
        "\n",
        "df = pd.DataFrame(data)\n",
        "\n",
        "# Sort them in descending order by price\n",
        "\n",
        "#\n",
        "# df.where(df['Price'] >= 20000).dropna().sort_values(by='Price', ascending=False)\n",
        "df[df['Price'] >= 20000].sort_values(by='Price', ascending=False)"
      ]
    },
    {
      "cell_type": "code",
      "execution_count": null,
      "id": "efe8e4d4",
      "metadata": {
        "scrolled": false,
        "id": "efe8e4d4",
        "outputId": "4667c7a4-0bca-4bcc-9c46-b611414c9855"
      },
      "outputs": [
        {
          "data": {
            "text/html": [
              "<div>\n",
              "<style scoped>\n",
              "    .dataframe tbody tr th:only-of-type {\n",
              "        vertical-align: middle;\n",
              "    }\n",
              "\n",
              "    .dataframe tbody tr th {\n",
              "        vertical-align: top;\n",
              "    }\n",
              "\n",
              "    .dataframe thead th {\n",
              "        text-align: right;\n",
              "    }\n",
              "</style>\n",
              "<table border=\"1\" class=\"dataframe\">\n",
              "  <thead>\n",
              "    <tr style=\"text-align: right;\">\n",
              "      <th></th>\n",
              "      <th>Product</th>\n",
              "      <th>Price</th>\n",
              "    </tr>\n",
              "  </thead>\n",
              "  <tbody>\n",
              "    <tr>\n",
              "      <th>0</th>\n",
              "      <td>Laptop</td>\n",
              "      <td>25000.0</td>\n",
              "    </tr>\n",
              "    <tr>\n",
              "      <th>3</th>\n",
              "      <td>Phone</td>\n",
              "      <td>22000.0</td>\n",
              "    </tr>\n",
              "  </tbody>\n",
              "</table>\n",
              "</div>"
            ],
            "text/plain": [
              "  Product    Price\n",
              "0  Laptop  25000.0\n",
              "3   Phone  22000.0"
            ]
          },
          "execution_count": 247,
          "metadata": {},
          "output_type": "execute_result"
        }
      ],
      "source": [
        "# with where\n"
      ]
    },
    {
      "cell_type": "code",
      "execution_count": null,
      "id": "953ef6dd",
      "metadata": {
        "scrolled": true,
        "id": "953ef6dd",
        "outputId": "1fc038b4-7a31-4c51-dfe5-619894dff979"
      },
      "outputs": [
        {
          "data": {
            "text/html": [
              "<div>\n",
              "<style scoped>\n",
              "    .dataframe tbody tr th:only-of-type {\n",
              "        vertical-align: middle;\n",
              "    }\n",
              "\n",
              "    .dataframe tbody tr th {\n",
              "        vertical-align: top;\n",
              "    }\n",
              "\n",
              "    .dataframe thead th {\n",
              "        text-align: right;\n",
              "    }\n",
              "</style>\n",
              "<table border=\"1\" class=\"dataframe\">\n",
              "  <thead>\n",
              "    <tr style=\"text-align: right;\">\n",
              "      <th></th>\n",
              "      <th>Product</th>\n",
              "      <th>Price</th>\n",
              "    </tr>\n",
              "  </thead>\n",
              "  <tbody>\n",
              "    <tr>\n",
              "      <th>0</th>\n",
              "      <td>Laptop</td>\n",
              "      <td>25000</td>\n",
              "    </tr>\n",
              "    <tr>\n",
              "      <th>3</th>\n",
              "      <td>Phone</td>\n",
              "      <td>22000</td>\n",
              "    </tr>\n",
              "  </tbody>\n",
              "</table>\n",
              "</div>"
            ],
            "text/plain": [
              "  Product  Price\n",
              "0  Laptop  25000\n",
              "3   Phone  22000"
            ]
          },
          "execution_count": 251,
          "metadata": {},
          "output_type": "execute_result"
        }
      ],
      "source": []
    },
    {
      "cell_type": "markdown",
      "id": "9faa6b71",
      "metadata": {
        "id": "9faa6b71"
      },
      "source": [
        "### FF3"
      ]
    },
    {
      "cell_type": "code",
      "execution_count": null,
      "id": "55dadb9d",
      "metadata": {
        "id": "55dadb9d",
        "outputId": "d7b11b34-8056-411c-8592-efefb51379e6"
      },
      "outputs": [
        {
          "data": {
            "text/html": [
              "<div>\n",
              "<style scoped>\n",
              "    .dataframe tbody tr th:only-of-type {\n",
              "        vertical-align: middle;\n",
              "    }\n",
              "\n",
              "    .dataframe tbody tr th {\n",
              "        vertical-align: top;\n",
              "    }\n",
              "\n",
              "    .dataframe thead th {\n",
              "        text-align: right;\n",
              "    }\n",
              "</style>\n",
              "<table border=\"1\" class=\"dataframe\">\n",
              "  <thead>\n",
              "    <tr style=\"text-align: right;\">\n",
              "      <th></th>\n",
              "      <th>Store</th>\n",
              "      <th>Total_Revenue</th>\n",
              "      <th>Average_Price</th>\n",
              "    </tr>\n",
              "  </thead>\n",
              "  <tbody>\n",
              "    <tr>\n",
              "      <th>0</th>\n",
              "      <td>A</td>\n",
              "      <td>3040</td>\n",
              "      <td>42.00</td>\n",
              "    </tr>\n",
              "    <tr>\n",
              "      <th>1</th>\n",
              "      <td>B</td>\n",
              "      <td>4025</td>\n",
              "      <td>41.75</td>\n",
              "    </tr>\n",
              "  </tbody>\n",
              "</table>\n",
              "</div>"
            ],
            "text/plain": [
              "  Store  Total_Revenue  Average_Price\n",
              "0     A           3040          42.00\n",
              "1     B           4025          41.75"
            ]
          },
          "execution_count": 225,
          "metadata": {},
          "output_type": "execute_result"
        }
      ],
      "source": [
        "# Find the total revenue and average price of items sold in each store\n",
        "data = {\n",
        "    'Store': ['A', 'B', 'A', 'B', 'A', 'B', 'A', 'B'],\n",
        "    'Item': ['Apple', 'Banana', 'Orange', 'Grape', 'Apple', 'Banana', 'Orange', 'Grape'],\n",
        "    'Price': [50, 20, 30, 60, 55, 22, 33, 65],\n",
        "    'Quantity': [10, 12, 15, 16, 20, 25, 30, 35]\n",
        "}\n",
        "\n",
        "df = pd.DataFrame(data)\n",
        "\n",
        "df['Revenue'] = df['Price'] * df['Quantity']\n",
        "\n",
        "store_nums = df.groupby('Store').agg({'Revenue': 'sum', 'Price': 'mean'}).reset_index()\n",
        "\n",
        "store_nums.rename(columns={'Price': 'Average_Price', 'Revenue': 'Total_Revenue'}, inplace=True)\n",
        "\n",
        "store_nums"
      ]
    },
    {
      "cell_type": "markdown",
      "id": "18551383",
      "metadata": {
        "id": "18551383"
      },
      "source": [
        "### FF4"
      ]
    },
    {
      "cell_type": "code",
      "execution_count": null,
      "id": "1d81c387",
      "metadata": {
        "id": "1d81c387",
        "outputId": "848fbbed-9567-4830-b25d-ede6482314ad"
      },
      "outputs": [
        {
          "data": {
            "text/html": [
              "<div>\n",
              "<style scoped>\n",
              "    .dataframe tbody tr th:only-of-type {\n",
              "        vertical-align: middle;\n",
              "    }\n",
              "\n",
              "    .dataframe tbody tr th {\n",
              "        vertical-align: top;\n",
              "    }\n",
              "\n",
              "    .dataframe thead th {\n",
              "        text-align: right;\n",
              "    }\n",
              "</style>\n",
              "<table border=\"1\" class=\"dataframe\">\n",
              "  <thead>\n",
              "    <tr style=\"text-align: right;\">\n",
              "      <th></th>\n",
              "      <th>Customer</th>\n",
              "      <th>Total_Spent</th>\n",
              "    </tr>\n",
              "  </thead>\n",
              "  <tbody>\n",
              "    <tr>\n",
              "      <th>0</th>\n",
              "      <td>Alice</td>\n",
              "      <td>280</td>\n",
              "    </tr>\n",
              "    <tr>\n",
              "      <th>1</th>\n",
              "      <td>Bob</td>\n",
              "      <td>190</td>\n",
              "    </tr>\n",
              "  </tbody>\n",
              "</table>\n",
              "</div>"
            ],
            "text/plain": [
              "  Customer  Total_Spent\n",
              "0    Alice          280\n",
              "1      Bob          190"
            ]
          },
          "execution_count": 228,
          "metadata": {},
          "output_type": "execute_result"
        }
      ],
      "source": [
        "# Calculate the total amount spent by each customer\n",
        "data = {\n",
        "    'Customer': ['Alice', 'Bob', 'Alice', 'Alice', 'Bob', 'Bob', 'Alice', 'Bob'],\n",
        "    'Item': ['Pen', 'Pencil', 'Notebook', 'Eraser', 'Pen', 'Pencil', 'Notebook', 'Eraser'],\n",
        "    'Price': [10, 5, 50, 20, 10, 5, 50, 20],\n",
        "    'Quantity': [3, 4, 2, 5, 10, 6, 1, 2]\n",
        "}\n",
        "\n",
        "df = pd.DataFrame(data)\n",
        "\n",
        "df['Total_Spent'] = df['Price'] * df['Quantity']\n",
        "\n",
        "total_amount = df.groupby('Customer')['Total_Spent'].sum().reset_index()\n",
        "# total_amount = df.groupby('Customer').agg({'Total_Spent': 'sum'}).reset_index()\n",
        "\n",
        "total_amount"
      ]
    },
    {
      "cell_type": "markdown",
      "id": "d3b6e1c7",
      "metadata": {
        "id": "d3b6e1c7"
      },
      "source": [
        "### FF5"
      ]
    },
    {
      "cell_type": "code",
      "execution_count": null,
      "id": "ed4de8c3",
      "metadata": {
        "id": "ed4de8c3",
        "outputId": "4b4a8098-53dc-462d-eaea-06f0f9b3e348"
      },
      "outputs": [
        {
          "data": {
            "text/plain": [
              "'Jul'"
            ]
          },
          "execution_count": 197,
          "metadata": {},
          "output_type": "execute_result"
        }
      ],
      "source": [
        "# Find the month with the highest average temperature\n",
        "data = {\n",
        "    'Month': ['Jan', 'Feb', 'Mar', 'Apr', 'May', 'Jun', 'Jul', 'Aug', 'Sep', 'Oct', 'Nov', 'Dec'],\n",
        "    'Temperature': [20, 22, 25, 27, 30, 32, 35, 34, 30, 28, 24, 21]\n",
        "}\n",
        "\n",
        "df = pd.DataFrame(data)\n",
        "\n",
        "max_row_idx = df['Temperature'].idxmax()\n",
        "\n",
        "# month = df.at[max_row_idx, 'Month']\n",
        "month = df.loc[max_row_idx, 'Month']\n",
        "\n",
        "month"
      ]
    },
    {
      "cell_type": "markdown",
      "id": "659888e8",
      "metadata": {
        "id": "659888e8"
      },
      "source": [
        "### FF6"
      ]
    },
    {
      "cell_type": "code",
      "execution_count": null,
      "id": "b51c0e64",
      "metadata": {
        "id": "b51c0e64",
        "outputId": "0ba81a53-a736-47cb-d58f-183145a76e98"
      },
      "outputs": [
        {
          "data": {
            "text/html": [
              "<div>\n",
              "<style scoped>\n",
              "    .dataframe tbody tr th:only-of-type {\n",
              "        vertical-align: middle;\n",
              "    }\n",
              "\n",
              "    .dataframe tbody tr th {\n",
              "        vertical-align: top;\n",
              "    }\n",
              "\n",
              "    .dataframe thead th {\n",
              "        text-align: right;\n",
              "    }\n",
              "</style>\n",
              "<table border=\"1\" class=\"dataframe\">\n",
              "  <thead>\n",
              "    <tr style=\"text-align: right;\">\n",
              "      <th></th>\n",
              "      <th>Category</th>\n",
              "      <th>Name</th>\n",
              "      <th>Price</th>\n",
              "      <th>Quantity</th>\n",
              "    </tr>\n",
              "  </thead>\n",
              "  <tbody>\n",
              "    <tr>\n",
              "      <th>0</th>\n",
              "      <td>Fruit</td>\n",
              "      <td>Apple</td>\n",
              "      <td>2.0</td>\n",
              "      <td>10</td>\n",
              "    </tr>\n",
              "    <tr>\n",
              "      <th>1</th>\n",
              "      <td>Vegetable</td>\n",
              "      <td>Carrot</td>\n",
              "      <td>1.0</td>\n",
              "      <td>20</td>\n",
              "    </tr>\n",
              "    <tr>\n",
              "      <th>2</th>\n",
              "      <td>Fruit</td>\n",
              "      <td>Banana</td>\n",
              "      <td>1.5</td>\n",
              "      <td>15</td>\n",
              "    </tr>\n",
              "    <tr>\n",
              "      <th>3</th>\n",
              "      <td>Vegetable</td>\n",
              "      <td>Potato</td>\n",
              "      <td>0.5</td>\n",
              "      <td>30</td>\n",
              "    </tr>\n",
              "    <tr>\n",
              "      <th>4</th>\n",
              "      <td>Fruit</td>\n",
              "      <td>Grape</td>\n",
              "      <td>3.0</td>\n",
              "      <td>5</td>\n",
              "    </tr>\n",
              "    <tr>\n",
              "      <th>5</th>\n",
              "      <td>Vegetable</td>\n",
              "      <td>Onion</td>\n",
              "      <td>1.0</td>\n",
              "      <td>40</td>\n",
              "    </tr>\n",
              "  </tbody>\n",
              "</table>\n",
              "</div>"
            ],
            "text/plain": [
              "    Category    Name  Price  Quantity\n",
              "0      Fruit   Apple    2.0        10\n",
              "1  Vegetable  Carrot    1.0        20\n",
              "2      Fruit  Banana    1.5        15\n",
              "3  Vegetable  Potato    0.5        30\n",
              "4      Fruit   Grape    3.0         5\n",
              "5  Vegetable   Onion    1.0        40"
            ]
          },
          "execution_count": 201,
          "metadata": {},
          "output_type": "execute_result"
        }
      ],
      "source": [
        "data = {\n",
        "\n",
        "    'Category': ['Fruit', 'Vegetable', 'Fruit', 'Vegetable', 'Fruit', 'Vegetable'],\n",
        "\n",
        "    'Name': ['Apple', 'Carrot', 'Banana', 'Potato', 'Grape', 'Onion'],\n",
        "\n",
        "    'Price': [2, 1, 1.5, 0.5, 3, 1],\n",
        "\n",
        "    'Quantity': [10, 20, 15, 30, 5, 40]\n",
        "\n",
        "}\n",
        "\n",
        "\n",
        "\n",
        "df = pd.DataFrame(data)\n",
        "\n",
        "fruits = df[df['Category'] == 'Fruit']\n",
        "\n",
        "total_fruit_value = fruits['Price'].sum() * fruits['Quantity'].sum()\n",
        "\n",
        "df"
      ]
    },
    {
      "cell_type": "markdown",
      "id": "a81f3c1e",
      "metadata": {
        "id": "a81f3c1e"
      },
      "source": [
        "### FF7"
      ]
    },
    {
      "cell_type": "code",
      "execution_count": null,
      "id": "1fde421a",
      "metadata": {
        "id": "1fde421a",
        "outputId": "8ad6ae5c-058d-49a0-9cc6-04d5dcceaff9"
      },
      "outputs": [
        {
          "name": "stdout",
          "output_type": "stream",
          "text": [
            "Chicago\n"
          ]
        }
      ],
      "source": [
        "data = {\n",
        "\n",
        "    'Name': ['Alice', 'Bob', 'Charlie', 'David'],\n",
        "\n",
        "    'Age': [25, 30, 35, 40],\n",
        "\n",
        "    'City': ['New York', 'San Francisco', 'Los Angeles', 'Chicago']\n",
        "\n",
        "}\n",
        "\n",
        "\n",
        "\n",
        "df = pd.DataFrame(data)\n",
        "\n",
        "result = df[df['Age'] >= 30].sort_values(by='Age', ascending=False).iloc[0]['City']\n",
        "\n",
        "print(result)"
      ]
    },
    {
      "cell_type": "markdown",
      "id": "08b2e2ba",
      "metadata": {
        "id": "08b2e2ba"
      },
      "source": [
        "### FF8"
      ]
    },
    {
      "cell_type": "code",
      "execution_count": null,
      "id": "4f7c3e31",
      "metadata": {
        "scrolled": true,
        "id": "4f7c3e31",
        "outputId": "c06b1def-c1ad-4436-f5db-b35efe33cd2b"
      },
      "outputs": [
        {
          "data": {
            "text/html": [
              "<div>\n",
              "<style scoped>\n",
              "    .dataframe tbody tr th:only-of-type {\n",
              "        vertical-align: middle;\n",
              "    }\n",
              "\n",
              "    .dataframe tbody tr th {\n",
              "        vertical-align: top;\n",
              "    }\n",
              "\n",
              "    .dataframe thead th {\n",
              "        text-align: right;\n",
              "    }\n",
              "</style>\n",
              "<table border=\"1\" class=\"dataframe\">\n",
              "  <thead>\n",
              "    <tr style=\"text-align: right;\">\n",
              "      <th></th>\n",
              "      <th>Product</th>\n",
              "      <th>Price</th>\n",
              "      <th>Quantity</th>\n",
              "    </tr>\n",
              "  </thead>\n",
              "  <tbody>\n",
              "    <tr>\n",
              "      <th>0</th>\n",
              "      <td>A</td>\n",
              "      <td>100</td>\n",
              "      <td>10</td>\n",
              "    </tr>\n",
              "    <tr>\n",
              "      <th>1</th>\n",
              "      <td>B</td>\n",
              "      <td>200</td>\n",
              "      <td>5</td>\n",
              "    </tr>\n",
              "    <tr>\n",
              "      <th>2</th>\n",
              "      <td>C</td>\n",
              "      <td>300</td>\n",
              "      <td>7</td>\n",
              "    </tr>\n",
              "    <tr>\n",
              "      <th>3</th>\n",
              "      <td>A</td>\n",
              "      <td>150</td>\n",
              "      <td>12</td>\n",
              "    </tr>\n",
              "    <tr>\n",
              "      <th>4</th>\n",
              "      <td>B</td>\n",
              "      <td>250</td>\n",
              "      <td>8</td>\n",
              "    </tr>\n",
              "    <tr>\n",
              "      <th>5</th>\n",
              "      <td>C</td>\n",
              "      <td>350</td>\n",
              "      <td>5</td>\n",
              "    </tr>\n",
              "  </tbody>\n",
              "</table>\n",
              "</div>"
            ],
            "text/plain": [
              "  Product  Price  Quantity\n",
              "0       A    100        10\n",
              "1       B    200         5\n",
              "2       C    300         7\n",
              "3       A    150        12\n",
              "4       B    250         8\n",
              "5       C    350         5"
            ]
          },
          "execution_count": 211,
          "metadata": {},
          "output_type": "execute_result"
        }
      ],
      "source": [
        "data = {\n",
        "\n",
        "    'Product': ['A', 'B', 'C', 'A', 'B', 'C'],\n",
        "\n",
        "    'Price': [100, 200, 300, 150, 250, 350],\n",
        "\n",
        "    'Quantity': [10, 5, 7, 12, 8, 5]\n",
        "\n",
        "}\n",
        "\n",
        "\n",
        "\n",
        "df = pd.DataFrame(data)\n",
        "\n",
        "df"
      ]
    },
    {
      "cell_type": "code",
      "execution_count": null,
      "id": "3d9a69ba",
      "metadata": {
        "id": "3d9a69ba",
        "outputId": "13c727a2-55aa-4bbd-ea5d-5568f5e71184"
      },
      "outputs": [
        {
          "data": {
            "text/plain": [
              "9650"
            ]
          },
          "execution_count": 213,
          "metadata": {},
          "output_type": "execute_result"
        }
      ],
      "source": [
        "total_revenue = (df['Price'] * df['Quantity']).sum()\n",
        "\n",
        "total_revenue"
      ]
    },
    {
      "cell_type": "code",
      "execution_count": null,
      "id": "03e336e3",
      "metadata": {
        "id": "03e336e3",
        "outputId": "01786edd-1505-4c12-90ba-1b5827b4f236"
      },
      "outputs": [
        {
          "data": {
            "text/plain": [
              "225.0"
            ]
          },
          "execution_count": 214,
          "metadata": {},
          "output_type": "execute_result"
        }
      ],
      "source": [
        "average_price = df['Price'].mean()\n",
        "\n",
        "average_price"
      ]
    },
    {
      "cell_type": "markdown",
      "id": "d87556a2",
      "metadata": {
        "id": "d87556a2"
      },
      "source": [
        "### FF9"
      ]
    },
    {
      "cell_type": "code",
      "execution_count": null,
      "id": "3562422d",
      "metadata": {
        "id": "3562422d",
        "outputId": "92c8c6ce-159b-437b-f40c-36346758c678"
      },
      "outputs": [
        {
          "name": "stdout",
          "output_type": "stream",
          "text": [
            "       Item  Total_Spent\n",
            "0    Eraser          140\n",
            "1  Notebook          150\n",
            "2       Pen          130\n",
            "3    Pencil           50\n",
            "\n",
            "470\n"
          ]
        }
      ],
      "source": [
        "# Find the total amount spent per item, as well as the total amount spent by all customers\n",
        "data = {\n",
        "    'Customer': ['Alice', 'Bob', 'Alice', 'Alice', 'Bob', 'Bob', 'Alice', 'Bob'],\n",
        "    'Item': ['Pen', 'Pencil', 'Notebook', 'Eraser', 'Pen', 'Pencil', 'Notebook', 'Eraser'],\n",
        "    'Price': [10, 5, 50, 20, 10, 5, 50, 20],\n",
        "    'Quantity': [3, 4, 2, 5, 10, 6, 1, 2]\n",
        "}\n",
        "\n",
        "df = pd.DataFrame(data)\n",
        "\n",
        "df['Total_Spent'] = df['Price'] * df['Quantity']\n",
        "\n",
        "# per_item = df.groupby('Item')['Total_Spent'].sum().reset_index()\n",
        "per_item = df.groupby('Item').agg({'Total_Spent': 'sum'}).reset_index()\n",
        "\n",
        "# total = df['Total_Spent'].sum()\n",
        "total = per_item['Total_Spent'].sum()\n",
        "\n",
        "print(per_item)\n",
        "print()\n",
        "print(total)"
      ]
    },
    {
      "cell_type": "markdown",
      "id": "3dab497c",
      "metadata": {
        "id": "3dab497c"
      },
      "source": [
        "### FF10"
      ]
    },
    {
      "cell_type": "code",
      "execution_count": null,
      "id": "550254f0",
      "metadata": {
        "id": "550254f0",
        "outputId": "30c22782-8516-4408-f124-ad3fa5d151e9"
      },
      "outputs": [
        {
          "name": "stdout",
          "output_type": "stream",
          "text": [
            "   Month  City_A_Temp  City_B_Temp  Difference\n",
            "0    Jan           20           10          10\n",
            "1    Feb           22           12          10\n",
            "2    Mar           25           15          10\n",
            "3    Apr           27           17          10\n",
            "4    May           30           20          10\n",
            "5    Jun           32           22          10\n",
            "6    Jul           35           25          10\n",
            "7    Aug           34           24          10\n",
            "8    Sep           30           20          10\n",
            "9    Oct           28           18          10\n",
            "10   Nov           24           14          10\n",
            "11   Dec           21           11          10\n",
            "\n",
            "10.0\n"
          ]
        }
      ],
      "source": [
        "# Calculate the monthly average temperature difference between two cities\n",
        "data = {\n",
        "    'Month': ['Jan', 'Feb', 'Mar', 'Apr', 'May', 'Jun', 'Jul', 'Aug', 'Sep', 'Oct', 'Nov', 'Dec'],\n",
        "    'City_A_Temp': [20, 22, 25, 27, 30, 32, 35, 34, 30, 28, 24, 21],\n",
        "    'City_B_Temp': [10, 12, 15, 17, 20, 22, 25, 24, 20, 18, 14, 11]\n",
        "}\n",
        "\n",
        "df = pd.DataFrame(data)\n",
        "\n",
        "df['Difference'] = abs(df['City_A_Temp'] - df['City_B_Temp'])\n",
        "\n",
        "difference_mean = df['Difference'].mean()\n",
        "\n",
        "print(df)\n",
        "print()\n",
        "print(difference_mean)"
      ]
    }
  ],
  "metadata": {
    "kernelspec": {
      "display_name": "Python 3",
      "language": "python",
      "name": "python3"
    },
    "language_info": {
      "codemirror_mode": {
        "name": "ipython",
        "version": 3
      },
      "file_extension": ".py",
      "mimetype": "text/x-python",
      "name": "python",
      "nbconvert_exporter": "python",
      "pygments_lexer": "ipython3",
      "version": "3.8.8"
    },
    "colab": {
      "provenance": [],
      "include_colab_link": true
    }
  },
  "nbformat": 4,
  "nbformat_minor": 5
}