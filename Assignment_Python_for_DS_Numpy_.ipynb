{
  "cells": [
    {
      "cell_type": "markdown",
      "metadata": {
        "id": "view-in-github",
        "colab_type": "text"
      },
      "source": [
        "<a href=\"https://colab.research.google.com/github/komal021406/ML/blob/main/Assignment_Python_for_DS_Numpy_.ipynb\" target=\"_parent\"><img src=\"https://colab.research.google.com/assets/colab-badge.svg\" alt=\"Open In Colab\"/></a>"
      ]
    },
    {
      "cell_type": "markdown",
      "id": "48c49da4",
      "metadata": {
        "id": "48c49da4"
      },
      "source": [
        "# Numpy Assignment"
      ]
    },
    {
      "cell_type": "code",
      "execution_count": null,
      "id": "0e2715a6",
      "metadata": {
        "id": "0e2715a6"
      },
      "outputs": [],
      "source": [
        "import numpy as np"
      ]
    },
    {
      "cell_type": "markdown",
      "id": "1fec5c11",
      "metadata": {
        "id": "1fec5c11"
      },
      "source": [
        "### MCQ1"
      ]
    },
    {
      "cell_type": "code",
      "execution_count": null,
      "id": "36716d8c",
      "metadata": {
        "id": "36716d8c",
        "outputId": "af38879a-4d73-4260-cfb0-f4cfc6164c6b"
      },
      "outputs": [
        {
          "data": {
            "text/plain": [
              "(4, 4)"
            ]
          },
          "execution_count": 29,
          "metadata": {},
          "output_type": "execute_result"
        }
      ],
      "source": [
        "np.random.randint(1, 101, size=(4, 4)).shape"
      ]
    },
    {
      "cell_type": "markdown",
      "id": "d59aa100",
      "metadata": {
        "id": "d59aa100"
      },
      "source": [
        "### MCQ2"
      ]
    },
    {
      "cell_type": "code",
      "execution_count": null,
      "id": "54ffa058",
      "metadata": {
        "id": "54ffa058",
        "outputId": "02d94452-3023-4981-d377-3f630a075b21"
      },
      "outputs": [
        {
          "data": {
            "text/plain": [
              "array([2, 4, 6])"
            ]
          },
          "execution_count": 32,
          "metadata": {},
          "output_type": "execute_result"
        }
      ],
      "source": [
        "A = np.array([1, 2, 3])\n",
        "B = A*2\n",
        "B"
      ]
    },
    {
      "cell_type": "code",
      "source": [
        "import numpy as np\n",
        "\n",
        "A = np.array([1, 2, 3])\n",
        "B= np.array([1, 2, 3])\n",
        "\n",
        "\n",
        "A*B"
      ],
      "metadata": {
        "colab": {
          "base_uri": "https://localhost:8080/"
        },
        "id": "dnGlhbmn36jg",
        "outputId": "b0ac482b-d057-4be5-89bc-bc34dcb65268"
      },
      "id": "dnGlhbmn36jg",
      "execution_count": null,
      "outputs": [
        {
          "output_type": "execute_result",
          "data": {
            "text/plain": [
              "array([1, 4, 9])"
            ]
          },
          "metadata": {},
          "execution_count": 2
        }
      ]
    },
    {
      "cell_type": "code",
      "source": [
        "import numpy as np\n",
        "\n",
        "\n",
        "\n",
        "A = np.array([[1, 2, 3], [4, 5, 6], [7, 8, 9]])\n",
        "\n",
        "B = A[1:3, 0:2]\n",
        "\n",
        "\n",
        "\n",
        "B[0, 0] = 100\n",
        "\n",
        "print(A)"
      ],
      "metadata": {
        "colab": {
          "base_uri": "https://localhost:8080/"
        },
        "id": "_YtuYZ7Z5dWq",
        "outputId": "c9b7cddf-d231-4c7f-c363-a40e9eef6b9e"
      },
      "id": "_YtuYZ7Z5dWq",
      "execution_count": null,
      "outputs": [
        {
          "output_type": "stream",
          "name": "stdout",
          "text": [
            "[[  1   2   3]\n",
            " [100   5   6]\n",
            " [  7   8   9]]\n"
          ]
        }
      ]
    },
    {
      "cell_type": "code",
      "source": [
        "A[1,0]"
      ],
      "metadata": {
        "colab": {
          "base_uri": "https://localhost:8080/"
        },
        "id": "ExvqpQnB69WV",
        "outputId": "c974bb02-a51b-48fb-b980-14d19b01683d"
      },
      "id": "ExvqpQnB69WV",
      "execution_count": null,
      "outputs": [
        {
          "output_type": "execute_result",
          "data": {
            "text/plain": [
              "100"
            ]
          },
          "metadata": {},
          "execution_count": 8
        }
      ]
    },
    {
      "cell_type": "code",
      "source": [
        "B[0,0]"
      ],
      "metadata": {
        "colab": {
          "base_uri": "https://localhost:8080/"
        },
        "id": "pb2-fiP57AlD",
        "outputId": "25cf489a-83dc-4367-aa58-376a53fe854d"
      },
      "id": "pb2-fiP57AlD",
      "execution_count": null,
      "outputs": [
        {
          "output_type": "execute_result",
          "data": {
            "text/plain": [
              "100"
            ]
          },
          "metadata": {},
          "execution_count": 9
        }
      ]
    },
    {
      "cell_type": "code",
      "source": [
        "id(B[])"
      ],
      "metadata": {
        "colab": {
          "base_uri": "https://localhost:8080/"
        },
        "id": "tg5DCNqs6Q4J",
        "outputId": "46f5f4fd-9e34-458a-87c1-fcf1dbf8025d"
      },
      "id": "tg5DCNqs6Q4J",
      "execution_count": null,
      "outputs": [
        {
          "output_type": "execute_result",
          "data": {
            "text/plain": [
              "138058288059696"
            ]
          },
          "metadata": {},
          "execution_count": 12
        }
      ]
    },
    {
      "cell_type": "code",
      "source": [
        "id(A[])"
      ],
      "metadata": {
        "colab": {
          "base_uri": "https://localhost:8080/"
        },
        "id": "m0l6ME_L6UHW",
        "outputId": "88f1e8b9-c9e0-47a7-8f62-15c445125762"
      },
      "id": "m0l6ME_L6UHW",
      "execution_count": null,
      "outputs": [
        {
          "output_type": "execute_result",
          "data": {
            "text/plain": [
              "138058288055376"
            ]
          },
          "metadata": {},
          "execution_count": 13
        }
      ]
    },
    {
      "cell_type": "code",
      "source": [
        "print(id(B))\n",
        "print(id(A))"
      ],
      "metadata": {
        "colab": {
          "base_uri": "https://localhost:8080/"
        },
        "id": "dHagwD_n5mtY",
        "outputId": "e1ab6eb8-9aea-4955-a703-8d46b9952990"
      },
      "id": "dHagwD_n5mtY",
      "execution_count": null,
      "outputs": [
        {
          "output_type": "stream",
          "name": "stdout",
          "text": [
            "138059045394096\n",
            "138059045390352\n"
          ]
        }
      ]
    },
    {
      "cell_type": "markdown",
      "id": "06ff8acc",
      "metadata": {
        "id": "06ff8acc"
      },
      "source": [
        "### MCQ3"
      ]
    },
    {
      "cell_type": "code",
      "execution_count": null,
      "id": "c7ad0b62",
      "metadata": {
        "id": "c7ad0b62"
      },
      "outputs": [],
      "source": [
        "matrix = np.eye(4)"
      ]
    },
    {
      "cell_type": "code",
      "execution_count": null,
      "id": "2a5fe5ef",
      "metadata": {
        "id": "2a5fe5ef",
        "outputId": "0421c1ed-ef13-49e7-eb6f-b982b0fae756"
      },
      "outputs": [
        {
          "data": {
            "text/plain": [
              "array([1., 1., 1., 1.])"
            ]
          },
          "execution_count": 35,
          "metadata": {},
          "output_type": "execute_result"
        }
      ],
      "source": [
        "np.diagonal(matrix)"
      ]
    },
    {
      "cell_type": "code",
      "execution_count": null,
      "id": "e1dcbb6d",
      "metadata": {
        "id": "e1dcbb6d",
        "outputId": "8edcb669-cfa1-4e9d-eea0-756797b8a82a"
      },
      "outputs": [
        {
          "name": "stdout",
          "output_type": "stream",
          "text": [
            "[1. 1. 1. 1.]\n"
          ]
        }
      ],
      "source": [
        "matrix = np.eye(4)\n",
        "\n",
        "result = np.diagonal(matrix)\n",
        "\n",
        "print(result)"
      ]
    },
    {
      "cell_type": "markdown",
      "id": "32f9b0f6",
      "metadata": {
        "id": "32f9b0f6"
      },
      "source": [
        "### MCQ4"
      ]
    },
    {
      "cell_type": "code",
      "execution_count": null,
      "id": "e729bc85",
      "metadata": {
        "id": "e729bc85"
      },
      "outputs": [],
      "source": [
        "A = np.array([[1, 2], [3, 4]])"
      ]
    },
    {
      "cell_type": "code",
      "execution_count": null,
      "id": "0ad36553",
      "metadata": {
        "id": "0ad36553",
        "outputId": "b18c559b-10c2-4f33-e900-9b6f37ac10af"
      },
      "outputs": [
        {
          "data": {
            "text/plain": [
              "(2, 2)"
            ]
          },
          "execution_count": 38,
          "metadata": {},
          "output_type": "execute_result"
        }
      ],
      "source": [
        "A.shape"
      ]
    },
    {
      "cell_type": "code",
      "execution_count": null,
      "id": "7a16d94f",
      "metadata": {
        "id": "7a16d94f",
        "outputId": "528fbeb5-a7a7-4783-fcba-d949f133abe5"
      },
      "outputs": [
        {
          "data": {
            "text/plain": [
              "array([[1, 2],\n",
              "       [3, 4]])"
            ]
          },
          "execution_count": 39,
          "metadata": {},
          "output_type": "execute_result"
        }
      ],
      "source": [
        "A"
      ]
    },
    {
      "cell_type": "code",
      "execution_count": null,
      "id": "2749c134",
      "metadata": {
        "id": "2749c134",
        "outputId": "02c73a1a-80b5-41ba-9295-6f24c7a399a5"
      },
      "outputs": [
        {
          "data": {
            "text/plain": [
              "array([[1, 3],\n",
              "       [2, 4]])"
            ]
          },
          "execution_count": 40,
          "metadata": {},
          "output_type": "execute_result"
        }
      ],
      "source": [
        "A = np.array([[1, 2], [3, 4]])\n",
        "\n",
        "B = A.T\n",
        "\n",
        "B"
      ]
    },
    {
      "cell_type": "markdown",
      "id": "e7ad8318",
      "metadata": {
        "id": "e7ad8318"
      },
      "source": [
        "### MCQ5"
      ]
    },
    {
      "cell_type": "code",
      "execution_count": null,
      "id": "a75dcc9e",
      "metadata": {
        "id": "a75dcc9e"
      },
      "outputs": [],
      "source": [
        "A = np.array([[1, 2], [3, 4]])\n",
        "B = np.array([[5], [6]])\n",
        "C = np.array([5, 6])"
      ]
    },
    {
      "cell_type": "code",
      "execution_count": null,
      "id": "a772c679",
      "metadata": {
        "scrolled": false,
        "id": "a772c679",
        "outputId": "ee7e9efd-2115-429d-f892-4fb874b38f65"
      },
      "outputs": [
        {
          "name": "stdout",
          "output_type": "stream",
          "text": [
            "[[1 2]\n",
            " [3 4]]\n",
            "\n",
            "[[5]\n",
            " [6]]\n",
            "\n",
            "[5 6]\n"
          ]
        }
      ],
      "source": [
        "print(A)\n",
        "print()\n",
        "print(B)\n",
        "print()\n",
        "print(C)"
      ]
    },
    {
      "cell_type": "code",
      "execution_count": null,
      "id": "576721b9",
      "metadata": {
        "scrolled": true,
        "id": "576721b9",
        "outputId": "1464f98c-b753-4643-ffd4-8cedda14442e"
      },
      "outputs": [
        {
          "name": "stdout",
          "output_type": "stream",
          "text": [
            "[[1 2 5]\n",
            " [3 4 6]]\n",
            "\n",
            "[[1 2]\n",
            " [3 4]\n",
            " [5 6]]\n"
          ]
        }
      ],
      "source": [
        "D = np.hstack((A, B))\n",
        "E = np.vstack((A, C))\n",
        "\n",
        "print(D)\n",
        "print()\n",
        "print(E)"
      ]
    },
    {
      "cell_type": "code",
      "execution_count": null,
      "id": "d3404b18",
      "metadata": {
        "id": "d3404b18"
      },
      "outputs": [],
      "source": []
    },
    {
      "cell_type": "markdown",
      "id": "4f1b12dd",
      "metadata": {
        "id": "4f1b12dd"
      },
      "source": [
        "### MCQ6"
      ]
    },
    {
      "cell_type": "code",
      "execution_count": null,
      "id": "da321e3c",
      "metadata": {
        "scrolled": true,
        "id": "da321e3c",
        "outputId": "401354fc-386d-4f79-eb1f-df9e27332e55"
      },
      "outputs": [
        {
          "name": "stdout",
          "output_type": "stream",
          "text": [
            "[[1 2]\n",
            " [3 4]]\n",
            "\n",
            "[[5 7]\n",
            " [6 8]]\n",
            "\n"
          ]
        }
      ],
      "source": [
        "A = np.array([[1, 2], [3, 4]])\n",
        "B = np.array([[5, 7], [6, 8]])\n",
        "\n",
        "print(A)\n",
        "print()\n",
        "print(B)\n",
        "print()"
      ]
    },
    {
      "cell_type": "code",
      "execution_count": null,
      "id": "4a3048da",
      "metadata": {
        "id": "4a3048da",
        "outputId": "f997f73e-e182-4268-e089-4b454da64cbf"
      },
      "outputs": [
        {
          "name": "stdout",
          "output_type": "stream",
          "text": [
            "[[17 23]\n",
            " [39 53]]\n",
            "\n",
            "[[ 5 14]\n",
            " [18 32]]\n"
          ]
        }
      ],
      "source": [
        "D = np.matmul(A, B)\n",
        "E = np.multiply(A, B)\n",
        "\n",
        "print(D)\n",
        "print()\n",
        "print(E)"
      ]
    },
    {
      "cell_type": "code",
      "execution_count": null,
      "id": "cf85849a",
      "metadata": {
        "id": "cf85849a",
        "outputId": "2cbfb4cf-52cc-41dc-ff34-87410b033d59"
      },
      "outputs": [
        {
          "name": "stdout",
          "output_type": "stream",
          "text": [
            "[[17 23]\n",
            " [39 53]]\n",
            "\n",
            "[[17 23]\n",
            " [39 53]]\n"
          ]
        }
      ],
      "source": [
        "D = np.matmul(A, B)\n",
        "F = np.dot(A, B)\n",
        "\n",
        "print(D)\n",
        "print()\n",
        "print(F)"
      ]
    },
    {
      "cell_type": "markdown",
      "id": "fe3cf03c",
      "metadata": {
        "id": "fe3cf03c"
      },
      "source": [
        "### MCQ7"
      ]
    },
    {
      "cell_type": "code",
      "execution_count": null,
      "id": "d82642c8",
      "metadata": {
        "id": "d82642c8",
        "outputId": "5df09b23-62db-48cb-ea34-d91f0554f5e1"
      },
      "outputs": [
        {
          "name": "stdout",
          "output_type": "stream",
          "text": [
            "[10 20 30 40]\n"
          ]
        }
      ],
      "source": [
        "A = np.array([10, 20, 30, 40])\n",
        "\n",
        "print(A)"
      ]
    },
    {
      "cell_type": "code",
      "execution_count": null,
      "id": "f4941e96",
      "metadata": {
        "id": "f4941e96"
      },
      "outputs": [],
      "source": [
        "mask = (A >= 20) & (A <= 30)"
      ]
    },
    {
      "cell_type": "code",
      "execution_count": null,
      "id": "8d852870",
      "metadata": {
        "id": "8d852870",
        "outputId": "512b6c9d-3190-4a03-afce-391869d816a0"
      },
      "outputs": [
        {
          "data": {
            "text/plain": [
              "array([20, 30])"
            ]
          },
          "execution_count": 53,
          "metadata": {},
          "output_type": "execute_result"
        }
      ],
      "source": [
        "A[mask]"
      ]
    },
    {
      "cell_type": "markdown",
      "id": "ee197c33",
      "metadata": {
        "id": "ee197c33"
      },
      "source": [
        "### MCQ8"
      ]
    },
    {
      "cell_type": "code",
      "execution_count": null,
      "id": "946a8119",
      "metadata": {
        "id": "946a8119"
      },
      "outputs": [],
      "source": [
        "arr = np.array([1, 2, -1, 4, 5])"
      ]
    },
    {
      "cell_type": "code",
      "execution_count": null,
      "id": "8f29f26c",
      "metadata": {
        "id": "8f29f26c",
        "outputId": "377503dc-bdd8-4045-b50b-59c42382cfe7"
      },
      "outputs": [
        {
          "name": "stdout",
          "output_type": "stream",
          "text": [
            "2 4\n"
          ]
        }
      ],
      "source": [
        "min_index = np.argmin(arr)\n",
        "max_index = np.argmax(arr)\n",
        "\n",
        "print(min_index, max_index)"
      ]
    },
    {
      "cell_type": "code",
      "execution_count": null,
      "id": "51d59d38",
      "metadata": {
        "id": "51d59d38",
        "outputId": "4934072b-0830-49c9-a43e-65c9de0babd7"
      },
      "outputs": [
        {
          "name": "stdout",
          "output_type": "stream",
          "text": [
            "(array([3, 4], dtype=int64),)\n"
          ]
        }
      ],
      "source": [
        "indices = np.where(arr > 3)\n",
        "\n",
        "print(indices)"
      ]
    },
    {
      "cell_type": "code",
      "execution_count": null,
      "id": "95e83fd9",
      "metadata": {
        "id": "95e83fd9",
        "outputId": "f4d8715d-d62c-4f79-8acf-a4615337ef47"
      },
      "outputs": [
        {
          "data": {
            "text/plain": [
              "array([-1,  1,  2,  4,  5])"
            ]
          },
          "execution_count": 59,
          "metadata": {},
          "output_type": "execute_result"
        }
      ],
      "source": [
        "np.sort(arr)"
      ]
    },
    {
      "cell_type": "markdown",
      "id": "d6428899",
      "metadata": {
        "id": "d6428899"
      },
      "source": [
        "### MCQ9"
      ]
    },
    {
      "cell_type": "code",
      "execution_count": null,
      "id": "8f88a416",
      "metadata": {
        "id": "8f88a416",
        "outputId": "34c9876b-681a-41d2-c62c-15b11b39e22c"
      },
      "outputs": [
        {
          "data": {
            "text/plain": [
              "array([[1, 2, 3],\n",
              "       [4, 5, 6],\n",
              "       [7, 8, 9]])"
            ]
          },
          "execution_count": 64,
          "metadata": {},
          "output_type": "execute_result"
        }
      ],
      "source": [
        "np.arange(1, 10).reshape(3, 3)"
      ]
    },
    {
      "cell_type": "markdown",
      "id": "31c0ad6c",
      "metadata": {
        "id": "31c0ad6c"
      },
      "source": [
        "### MCQ10"
      ]
    },
    {
      "cell_type": "code",
      "execution_count": null,
      "id": "a74038ab",
      "metadata": {
        "id": "a74038ab",
        "outputId": "7e1794c0-a8a3-4836-f211-c9bf05d2a83e"
      },
      "outputs": [
        {
          "name": "stdout",
          "output_type": "stream",
          "text": [
            "[-3  6 -3]\n"
          ]
        }
      ],
      "source": [
        "arr1 = np.array([1, 2, 3])\n",
        "\n",
        "arr2 = np.array([4, 5, 6])\n",
        "\n",
        "result = np.cross(arr1, arr2)\n",
        "\n",
        "print(result)"
      ]
    },
    {
      "cell_type": "markdown",
      "id": "af10c9db",
      "metadata": {
        "id": "af10c9db"
      },
      "source": [
        "### FF1"
      ]
    },
    {
      "cell_type": "code",
      "execution_count": null,
      "id": "31491e84",
      "metadata": {
        "id": "31491e84",
        "outputId": "d11c50f9-12f4-4ddb-fb72-49e6a0b986a8"
      },
      "outputs": [
        {
          "name": "stdout",
          "output_type": "stream",
          "text": [
            "[[ 17  18  26  87  81]\n",
            " [ 58  62  29  87  61]\n",
            " [ 20   0  82  81   6]\n",
            " [ 75  87 100  58  51]\n",
            " [ 90  37  49  92  97]]\n"
          ]
        }
      ],
      "source": [
        "# Create a 5x5 matrix filled with random integers between 1 and 100\n",
        "A = np.random.randint(1, 101, size=(5, 5))\n",
        "\n",
        "print(A)"
      ]
    },
    {
      "cell_type": "code",
      "execution_count": null,
      "id": "466d32e0",
      "metadata": {
        "id": "466d32e0",
        "outputId": "c5a596c9-28db-44df-ab88-0a68120c7fff"
      },
      "outputs": [
        {
          "name": "stdout",
          "output_type": "stream",
          "text": [
            "43.72\n",
            "24.768560717167237\n"
          ]
        }
      ],
      "source": [
        "# Calculate the mean and standard deviation of the matrix and print them.\n",
        "mean = np.mean(A)\n",
        "std = np.std(A)\n",
        "\n",
        "print(mean)\n",
        "print(std)"
      ]
    },
    {
      "cell_type": "markdown",
      "id": "0426efe1",
      "metadata": {
        "id": "0426efe1"
      },
      "source": [
        "### FF2"
      ]
    },
    {
      "cell_type": "code",
      "execution_count": null,
      "id": "9e487a6c",
      "metadata": {
        "id": "9e487a6c",
        "outputId": "4850bc69-8140-498a-d56e-9fc62fde50a1"
      },
      "outputs": [
        {
          "data": {
            "text/plain": [
              "array([[6., 5., 5., 5., 5.],\n",
              "       [5., 6., 5., 5., 5.],\n",
              "       [5., 5., 6., 5., 5.],\n",
              "       [5., 5., 5., 6., 5.],\n",
              "       [5., 5., 5., 5., 6.]])"
            ]
          },
          "execution_count": 75,
          "metadata": {},
          "output_type": "execute_result"
        }
      ],
      "source": [
        "# Create a 5x5 identity matrix and add a scalar value of 5 to it\n",
        "I = np.eye(5)\n",
        "\n",
        "aug_I = I + 5\n",
        "\n",
        "aug_I"
      ]
    },
    {
      "cell_type": "code",
      "execution_count": null,
      "id": "9b5a29ba",
      "metadata": {
        "id": "9b5a29ba",
        "outputId": "a3d5e8f7-8060-43fe-8923-e4f13ea8c14c"
      },
      "outputs": [
        {
          "name": "stdout",
          "output_type": "stream",
          "text": [
            "[[173.]\n",
            " [166.]\n",
            " [175.]\n",
            " [173.]\n",
            " [171.]]\n"
          ]
        }
      ],
      "source": [
        "# Multiply the resulting matrix with a 5x1 column vector filled with random integers between 1 and 10\n",
        "rand_vec = np.random.randint(1, 11, size=(5, 1))\n",
        "\n",
        "result = np.matmul(aug_I, rand_vec)\n",
        "\n",
        "print(result)"
      ]
    },
    {
      "cell_type": "markdown",
      "id": "911dfbde",
      "metadata": {
        "id": "911dfbde"
      },
      "source": [
        "### FF3"
      ]
    },
    {
      "cell_type": "code",
      "execution_count": null,
      "id": "c7f2f8c2",
      "metadata": {
        "id": "c7f2f8c2",
        "outputId": "a5caac71-24ca-4270-8cdf-3bd0f033559d"
      },
      "outputs": [
        {
          "name": "stdout",
          "output_type": "stream",
          "text": [
            "[[54 78 76]\n",
            " [85 99 43]\n",
            " [27 85 75]]\n",
            "\n",
            "[[ 5 47 26]\n",
            " [60 50 47]\n",
            " [68 68 24]]\n"
          ]
        }
      ],
      "source": [
        "# Create two 3x3 matrices filled with random integers between 1 and 100\n",
        "A = np.random.randint(1, 101, size=(3, 3))\n",
        "B = np.random.randint(1, 101, size=(3, 3))\n",
        "\n",
        "print(A)\n",
        "print()\n",
        "print(B)"
      ]
    },
    {
      "cell_type": "code",
      "execution_count": null,
      "id": "4f95935d",
      "metadata": {
        "id": "4f95935d",
        "outputId": "c92f4127-b98f-4ae2-8a23-86137d2b96fc"
      },
      "outputs": [
        {
          "name": "stdout",
          "output_type": "stream",
          "text": [
            "[[ 270 3666 1976]\n",
            " [5100 4950 2021]\n",
            " [1836 5780 1800]]\n"
          ]
        }
      ],
      "source": [
        "# Compute their element-wise multiplication, and print the resulting matrix\n",
        "result = np.multiply(A, B)\n",
        "\n",
        "print(result)"
      ]
    },
    {
      "cell_type": "markdown",
      "id": "cad63799",
      "metadata": {
        "id": "cad63799"
      },
      "source": [
        "### FF4"
      ]
    },
    {
      "cell_type": "code",
      "execution_count": null,
      "id": "ca77a97c",
      "metadata": {
        "scrolled": true,
        "id": "ca77a97c",
        "outputId": "35b9b32d-ef93-45f2-99c4-8e0107be366f"
      },
      "outputs": [
        {
          "name": "stdout",
          "output_type": "stream",
          "text": [
            "[ 128  177  493  303  943  183  779  504  321   57  526  105  251  275\n",
            "  411  509  115  179  112  542  496  722  808  607  479  935  518  699\n",
            "  536  777  310  372  943  329  872  474  895  180  230  168  231  575\n",
            "  761  452  997  739  730  693  706  362  183    7  293  897  456  392\n",
            "  407  402  482  524  942  572  231  842  560  644  967  285  755  130\n",
            "  634  300  156  624  940  202  154  871  248  937  942   74    8  248\n",
            "  589  768  858  217  308  802  279  479   86   25  625  637  426  203\n",
            "  722   37  329  865  712    6  174  695   36  729  452  738  500  907\n",
            "  311  102  844  908  358  993  466   36  885  669  626  128  687  735\n",
            "  138  324  854  668  865  239    5  909  754  552  748  778  916  704\n",
            "  145  765  775  710  114  874  642  721  718  353  342  232  890  488\n",
            "  216  663  962  714  298  631  390  498  219  359  652  545   93 1000\n",
            "  558  112  378  805  851  885  587  444  976  232  892  547  879  825\n",
            "  782  765  148   43  237   43  298  250  866  460  730  236  453  738\n",
            "  185  662  799  814  421  296  249  339  555  899  273  802  245  346\n",
            "  148  883  633  699  508  212  818   41  287  474  562  607  438  662\n",
            "   57  438  830  748  314  980  144  194  612  466  347  853  224  684\n",
            "  672  990  643  881  225  339  704  903  437  692  676  904  437  492\n",
            "  301  528  599  517  759  275  162  594  853  818  128  663  544  912\n",
            "  157  387   75  869  351  122  714  699   26  333   42  369   27   10\n",
            "   90  413  535  918  612  213  814  535  532  932  558  188  821  280\n",
            "  690   83  142   98  444  897   58  178  878  843  492  710  498  816\n",
            "  249  771  109  122  408  751  418  795  322  626  401  392  800  675\n",
            "  366  795    7  363  395  707    3  398  934  950  758  450  543   83\n",
            "  449   39  148  873  606   78  610  136  746  147  782  529  692  338\n",
            "  807  738  655  935  609  484  608  717  973  400  512  351  517  611\n",
            "  713  853  156  430  422  112   49   97  860  216  724  540  622  392\n",
            "  379  630  523  120  646  794  818   26  636  530   89  307  928  435\n",
            "  519  405  673    3  508  653  979  262  872  409  379   91   14  419\n",
            "  132  623  673  653  870  278  961  759   67  527  523  377  698  423\n",
            "  585   79  341  894  459   55  580  501  824  357  407  462  808  979\n",
            "  382   36  999  772  670   95  197  908  850  177  274  677  665  281\n",
            "  923  177  114  944  559  810  406  872  114  887  202  469  679  320\n",
            "  633  393  951  415  916  792   11  624  308  759  608  909  796  507\n",
            "  740  886  147  107  853  449  162   85  672  460  347  622  624  549\n",
            "  213   11  389   48  803  283  842  271  794  219   99  135  946  871\n",
            "  325   21  271  636  145  379  597  180  336  591  905   75  651  985\n",
            "  327  159  718  143  786  631  702   34  448  704  834  933  401  258\n",
            "  117  647  467  978  915  886  519  489  184  379  956  363  307  119\n",
            "  819  735  198  491   42  194  805   51  642  414  913  352  456  661\n",
            "  544  976  530  757  531  804  467  107   37  520  381  688  102  606\n",
            "  709  475  356  778  875  220  400  693  385  604   81  812  591   95\n",
            "  988  444  931  607  387  798  663   91  784  881  734  914  551  505\n",
            "  667  772  558  245  950  797  511  724  261  924  679  539  678  923\n",
            "  963  832  367  771  512  824  763  486  834  805  740  956  975  318\n",
            "  977  777  202  295  383   33   54  875   53  645  670   30  754  142\n",
            "  844   82   90  849  365  305  295   94  931  868  633  727  154  173\n",
            "  837  179   72   12  656  211  139  651   62  796   88  480  174  227\n",
            "   62   47  234  187  264   82  989  472  415  755  756  532  758  103\n",
            "  654  251  839  721   29  176  878  621  696  944  505  459  399  644\n",
            "  409   72   20   35  631  532   33  922  536  668  876  787  229  665\n",
            "  904  412  730  896  735  817  368  946  535   55  948  428  572  542\n",
            "  225  933  725  941  111  430  866  287  863   76  652  666  462  861\n",
            "  521  133  449   42  345  400  318  369  417  221  502  409  536  537\n",
            "   68  235  181  461  615  975  610  510  132  986  319  696  689  753\n",
            "   20  997  372  262  377  935  222  635  512  999  753  810  163   72\n",
            "  754  167  183  607  613  435  996  115  691  595  685  583  694  521\n",
            "  961  210  654  241  762  792  478  198  821  743  652  471   12   37\n",
            "  636  495  729  492  187  726  756  629  802  425  432  791   59  920\n",
            "  609  990  866  678  670  736  206  262  504  983  103  493  767  423\n",
            "   58  837  684  866  811  961  396  325  765  397  597  968   77  505\n",
            "  130   92  992  529  734  563  972  342  333  879  157  797  892  602\n",
            "  322  566  500  686  802  816  854  183  538   52  785  368  999  530\n",
            "  421  598  529  961  426  608  802   75  628  144  585  736   61  763\n",
            "  865  740  566  864  128  217  251  960  453   50  757  752  316   20\n",
            "  157  209  369  107  314  768  591  424  244  484  483  297  976   24\n",
            "  786   91   84   75  627  502  256  956   18  576  952   45  985  942\n",
            "  508  205  319  332  497  238  719   26  105  800  997  898  967  240\n",
            "  562  292  446  875  128  747  428  633  536  356  612  839  312  531\n",
            "  338  115  696  104  767  605  521  202  251  538  456    5  641  522\n",
            "   40   82  467  601  136  446   55  814  640  356  910  575  956  860\n",
            "  819  363  863  562  651  246]\n"
          ]
        }
      ],
      "source": [
        "# Create a 1000-element array of random integers between 1 and 1000\n",
        "arr = np.random.randint(1, 1001, 1000)\n",
        "\n",
        "print(arr)"
      ]
    },
    {
      "cell_type": "code",
      "execution_count": null,
      "id": "3241d736",
      "metadata": {
        "scrolled": true,
        "id": "3241d736",
        "outputId": "b60a5320-ef8d-42ea-9b94-183a82c298a2"
      },
      "outputs": [
        {
          "name": "stdout",
          "output_type": "stream",
          "text": [
            "[   128    305    798   1101   2044   2227   3006   3510   3831   3888\n",
            "   4414   4519   4770   5045   5456   5965   6080   6259   6371   6913\n",
            "   7409   8131   8939   9546  10025  10960  11478  12177  12713  13490\n",
            "  13800  14172  15115  15444  16316  16790  17685  17865  18095  18263\n",
            "  18494  19069  19830  20282  21279  22018  22748  23441  24147  24509\n",
            "  24692  24699  24992  25889  26345  26737  27144  27546  28028  28552\n",
            "  29494  30066  30297  31139  31699  32343  33310  33595  34350  34480\n",
            "  35114  35414  35570  36194  37134  37336  37490  38361  38609  39546\n",
            "  40488  40562  40570  40818  41407  42175  43033  43250  43558  44360\n",
            "  44639  45118  45204  45229  45854  46491  46917  47120  47842  47879\n",
            "  48208  49073  49785  49791  49965  50660  50696  51425  51877  52615\n",
            "  53115  54022  54333  54435  55279  56187  56545  57538  58004  58040\n",
            "  58925  59594  60220  60348  61035  61770  61908  62232  63086  63754\n",
            "  64619  64858  64863  65772  66526  67078  67826  68604  69520  70224\n",
            "  70369  71134  71909  72619  72733  73607  74249  74970  75688  76041\n",
            "  76383  76615  77505  77993  78209  78872  79834  80548  80846  81477\n",
            "  81867  82365  82584  82943  83595  84140  84233  85233  85791  85903\n",
            "  86281  87086  87937  88822  89409  89853  90829  91061  91953  92500\n",
            "  93379  94204  94986  95751  95899  95942  96179  96222  96520  96770\n",
            "  97636  98096  98826  99062  99515 100253 100438 101100 101899 102713\n",
            " 103134 103430 103679 104018 104573 105472 105745 106547 106792 107138\n",
            " 107286 108169 108802 109501 110009 110221 111039 111080 111367 111841\n",
            " 112403 113010 113448 114110 114167 114605 115435 116183 116497 117477\n",
            " 117621 117815 118427 118893 119240 120093 120317 121001 121673 122663\n",
            " 123306 124187 124412 124751 125455 126358 126795 127487 128163 129067\n",
            " 129504 129996 130297 130825 131424 131941 132700 132975 133137 133731\n",
            " 134584 135402 135530 136193 136737 137649 137806 138193 138268 139137\n",
            " 139488 139610 140324 141023 141049 141382 141424 141793 141820 141830\n",
            " 141920 142333 142868 143786 144398 144611 145425 145960 146492 147424\n",
            " 147982 148170 148991 149271 149961 150044 150186 150284 150728 151625\n",
            " 151683 151861 152739 153582 154074 154784 155282 156098 156347 157118\n",
            " 157227 157349 157757 158508 158926 159721 160043 160669 161070 161462\n",
            " 162262 162937 163303 164098 164105 164468 164863 165570 165573 165971\n",
            " 166905 167855 168613 169063 169606 169689 170138 170177 170325 171198\n",
            " 171804 171882 172492 172628 173374 173521 174303 174832 175524 175862\n",
            " 176669 177407 178062 178997 179606 180090 180698 181415 182388 182788\n",
            " 183300 183651 184168 184779 185492 186345 186501 186931 187353 187465\n",
            " 187514 187611 188471 188687 189411 189951 190573 190965 191344 191974\n",
            " 192497 192617 193263 194057 194875 194901 195537 196067 196156 196463\n",
            " 197391 197826 198345 198750 199423 199426 199934 200587 201566 201828\n",
            " 202700 203109 203488 203579 203593 204012 204144 204767 205440 206093\n",
            " 206963 207241 208202 208961 209028 209555 210078 210455 211153 211576\n",
            " 212161 212240 212581 213475 213934 213989 214569 215070 215894 216251\n",
            " 216658 217120 217928 218907 219289 219325 220324 221096 221766 221861\n",
            " 222058 222966 223816 223993 224267 224944 225609 225890 226813 226990\n",
            " 227104 228048 228607 229417 229823 230695 230809 231696 231898 232367\n",
            " 233046 233366 233999 234392 235343 235758 236674 237466 237477 238101\n",
            " 238409 239168 239776 240685 241481 241988 242728 243614 243761 243868\n",
            " 244721 245170 245332 245417 246089 246549 246896 247518 248142 248691\n",
            " 248904 248915 249304 249352 250155 250438 251280 251551 252345 252564\n",
            " 252663 252798 253744 254615 254940 254961 255232 255868 256013 256392\n",
            " 256989 257169 257505 258096 259001 259076 259727 260712 261039 261198\n",
            " 261916 262059 262845 263476 264178 264212 264660 265364 266198 267131\n",
            " 267532 267790 267907 268554 269021 269999 270914 271800 272319 272808\n",
            " 272992 273371 274327 274690 274997 275116 275935 276670 276868 277359\n",
            " 277401 277595 278400 278451 279093 279507 280420 280772 281228 281889\n",
            " 282433 283409 283939 284696 285227 286031 286498 286605 286642 287162\n",
            " 287543 288231 288333 288939 289648 290123 290479 291257 292132 292352\n",
            " 292752 293445 293830 294434 294515 295327 295918 296013 297001 297445\n",
            " 298376 298983 299370 300168 300831 300922 301706 302587 303321 304235\n",
            " 304786 305291 305958 306730 307288 307533 308483 309280 309791 310515\n",
            " 310776 311700 312379 312918 313596 314519 315482 316314 316681 317452\n",
            " 317964 318788 319551 320037 320871 321676 322416 323372 324347 324665\n",
            " 325642 326419 326621 326916 327299 327332 327386 328261 328314 328959\n",
            " 329629 329659 330413 330555 331399 331481 331571 332420 332785 333090\n",
            " 333385 333479 334410 335278 335911 336638 336792 336965 337802 337981\n",
            " 338053 338065 338721 338932 339071 339722 339784 340580 340668 341148\n",
            " 341322 341549 341611 341658 341892 342079 342343 342425 343414 343886\n",
            " 344301 345056 345812 346344 347102 347205 347859 348110 348949 349670\n",
            " 349699 349875 350753 351374 352070 353014 353519 353978 354377 355021\n",
            " 355430 355502 355522 355557 356188 356720 356753 357675 358211 358879\n",
            " 359755 360542 360771 361436 362340 362752 363482 364378 365113 365930\n",
            " 366298 367244 367779 367834 368782 369210 369782 370324 370549 371482\n",
            " 372207 373148 373259 373689 374555 374842 375705 375781 376433 377099\n",
            " 377561 378422 378943 379076 379525 379567 379912 380312 380630 380999\n",
            " 381416 381637 382139 382548 383084 383621 383689 383924 384105 384566\n",
            " 385181 386156 386766 387276 387408 388394 388713 389409 390098 390851\n",
            " 390871 391868 392240 392502 392879 393814 394036 394671 395183 396182\n",
            " 396935 397745 397908 397980 398734 398901 399084 399691 400304 400739\n",
            " 401735 401850 402541 403136 403821 404404 405098 405619 406580 406790\n",
            " 407444 407685 408447 409239 409717 409915 410736 411479 412131 412602\n",
            " 412614 412651 413287 413782 414511 415003 415190 415916 416672 417301\n",
            " 418103 418528 418960 419751 419810 420730 421339 422329 423195 423873\n",
            " 424543 425279 425485 425747 426251 427234 427337 427830 428597 429020\n",
            " 429078 429915 430599 431465 432276 433237 433633 433958 434723 435120\n",
            " 435717 436685 436762 437267 437397 437489 438481 439010 439744 440307\n",
            " 441279 441621 441954 442833 442990 443787 444679 445281 445603 446169\n",
            " 446669 447355 448157 448973 449827 450010 450548 450600 451385 451753\n",
            " 452752 453282 453703 454301 454830 455791 456217 456825 457627 457702\n",
            " 458330 458474 459059 459795 459856 460619 461484 462224 462790 463654\n",
            " 463782 463999 464250 465210 465663 465713 466470 467222 467538 467558\n",
            " 467715 467924 468293 468400 468714 469482 470073 470497 470741 471225\n",
            " 471708 472005 472981 473005 473791 473882 473966 474041 474668 475170\n",
            " 475426 476382 476400 476976 477928 477973 478958 479900 480408 480613\n",
            " 480932 481264 481761 481999 482718 482744 482849 483649 484646 485544\n",
            " 486511 486751 487313 487605 488051 488926 489054 489801 490229 490862\n",
            " 491398 491754 492366 493205 493517 494048 494386 494501 495197 495301\n",
            " 496068 496673 497194 497396 497647 498185 498641 498646 499287 499809\n",
            " 499849 499931 500398 500999 501135 501581 501636 502450 503090 503446\n",
            " 504356 504931 505887 506747 507566 507929 508792 509354 510005 510251]\n"
          ]
        }
      ],
      "source": [
        "# Calculate the cumulative sum of the array\n",
        "cum_arr = np.cumsum(arr)\n",
        "\n",
        "print(cum_arr)"
      ]
    },
    {
      "cell_type": "code",
      "execution_count": null,
      "id": "f5844c3d",
      "metadata": {
        "id": "f5844c3d",
        "outputId": "dbced832-166c-4c58-da4a-495ddf7c3a0f"
      },
      "outputs": [
        {
          "name": "stdout",
          "output_type": "stream",
          "text": [
            "3888\n",
            "47879\n",
            "252564\n"
          ]
        }
      ],
      "source": [
        "# Print the 10th, 100th, and 500th elements of the cumulative sum array\n",
        "print(cum_arr[9])\n",
        "print(cum_arr[99])\n",
        "print(cum_arr[499])"
      ]
    },
    {
      "cell_type": "markdown",
      "id": "33556d3d",
      "metadata": {
        "id": "33556d3d"
      },
      "source": [
        "### FF5"
      ]
    },
    {
      "cell_type": "code",
      "execution_count": null,
      "id": "12d519dc",
      "metadata": {
        "id": "12d519dc",
        "outputId": "d3f915a2-ee6f-4288-9466-cfe61e975a89"
      },
      "outputs": [
        {
          "data": {
            "text/plain": [
              "array([[ 53,  11,  56,  63,  90,   9, 100,  96,  29,  30],\n",
              "       [ 60,  71,  31,  47,  28,  14,  10,  68,  94,  46],\n",
              "       [ 62,  25,  90,  80,  11,  15,  12,   4,  22,  11],\n",
              "       [ 95,  25,  23,  64,  26,  37,  10,  24,  67,  50],\n",
              "       [ 46,  99,  80,  33,  76,  22,  56,  81,  38,  37],\n",
              "       [ 77,  94,  32,  21,  33,   9,  70,  53,  78,  47],\n",
              "       [  4,  58,  24,  27,  11,   2,  83,  22,  23,  86],\n",
              "       [ 29,  12, 100,  99,  68,  78,  37,  35,  49,  28],\n",
              "       [ 59,  13,   1,  99,  98,  22,  16,  24,  23,  71],\n",
              "       [ 92,   4,  57,  71,  77,  85,  97,  39,  81,  99]])"
            ]
          },
          "execution_count": 91,
          "metadata": {},
          "output_type": "execute_result"
        }
      ],
      "source": [
        "# Create a 10x10 matrix filled with random integers between 1 and 100\n",
        "A = np.random.randint(1, 101, size=(10, 10))\n",
        "\n",
        "A"
      ]
    },
    {
      "cell_type": "code",
      "execution_count": null,
      "id": "277e16cf",
      "metadata": {
        "id": "277e16cf",
        "outputId": "66f01c43-ef0f-4a3e-9691-01d25647ca01"
      },
      "outputs": [
        {
          "name": "stdout",
          "output_type": "stream",
          "text": [
            "1 100\n"
          ]
        }
      ],
      "source": [
        "# Find the minimum and maximum values of the matrix along with their indices\n",
        "min_val = np.min(A)\n",
        "max_val = np.max(A)\n",
        "\n",
        "print(min_val, max_val)"
      ]
    },
    {
      "cell_type": "code",
      "execution_count": null,
      "id": "e0b14bc9",
      "metadata": {
        "id": "e0b14bc9",
        "outputId": "6bd1251d-a3c1-49f2-bec2-d36fe05b3c5e"
      },
      "outputs": [
        {
          "name": "stdout",
          "output_type": "stream",
          "text": [
            "82 6\n"
          ]
        }
      ],
      "source": [
        "min_val_idx = np.argmin(A)\n",
        "max_val_idx = np.argmax(A)\n",
        "\n",
        "print(min_val_idx, max_val_idx)"
      ]
    },
    {
      "cell_type": "code",
      "execution_count": null,
      "id": "0ea87dad",
      "metadata": {
        "id": "0ea87dad",
        "outputId": "ebc234a3-e8b2-47f3-9edd-e5eb922b853a"
      },
      "outputs": [
        {
          "name": "stdout",
          "output_type": "stream",
          "text": [
            "(8, 2) (0, 6)\n"
          ]
        }
      ],
      "source": [
        "min_idx = np.unravel_index(np.argmin(A), A.shape)\n",
        "max_idx = np.unravel_index(np.argmax(A), A.shape)\n",
        "\n",
        "print(min_idx, max_idx)"
      ]
    },
    {
      "cell_type": "markdown",
      "id": "4131036c",
      "metadata": {
        "id": "4131036c"
      },
      "source": [
        "### FF6"
      ]
    },
    {
      "cell_type": "code",
      "execution_count": null,
      "id": "6d15be07",
      "metadata": {
        "id": "6d15be07",
        "outputId": "7e2c251a-3238-4ac3-b782-e7509f0321ae"
      },
      "outputs": [
        {
          "name": "stdout",
          "output_type": "stream",
          "text": [
            "[[0.88724223 0.98864142 0.22230032 0.66341337 0.08823717]\n",
            " [0.90437875 0.98850822 0.33748577 0.63544255 0.6640637 ]\n",
            " [0.53954694 0.53985952 0.12451775 0.5115666  0.69385013]\n",
            " [0.54410975 0.05987213 0.18998327 0.5186918  0.0562846 ]\n",
            " [0.57163745 0.06070574 0.30295695 0.19475488 0.11622983]]\n"
          ]
        }
      ],
      "source": [
        "# Create a 5x5 matrix filled with random floats between 0 and 1\n",
        "A = np.random.random(size=(5, 5))\n",
        "# A = np.random.rand(5, 5)\n",
        "\n",
        "print(A)"
      ]
    },
    {
      "cell_type": "code",
      "execution_count": null,
      "id": "6e34f930",
      "metadata": {
        "id": "6e34f930",
        "outputId": "8f6be053-814c-42ce-cc57-6a4ce39a0938"
      },
      "outputs": [
        {
          "name": "stdout",
          "output_type": "stream",
          "text": [
            "(0, 1)\n"
          ]
        }
      ],
      "source": [
        "# Replace the maximum value in the matrix with 0 and print the original and modified matrices\n",
        "max_index = np.unravel_index(np.argmax(A), A.shape)\n",
        "\n",
        "print(max_index)"
      ]
    },
    {
      "cell_type": "code",
      "execution_count": null,
      "id": "456e7ade",
      "metadata": {
        "id": "456e7ade",
        "outputId": "73228414-cc3f-4b40-cced-7997ade64c93"
      },
      "outputs": [
        {
          "data": {
            "text/plain": [
              "array([[0.88724223, 0.        , 0.22230032, 0.66341337, 0.08823717],\n",
              "       [0.90437875, 0.98850822, 0.33748577, 0.63544255, 0.6640637 ],\n",
              "       [0.53954694, 0.53985952, 0.12451775, 0.5115666 , 0.69385013],\n",
              "       [0.54410975, 0.05987213, 0.18998327, 0.5186918 , 0.0562846 ],\n",
              "       [0.57163745, 0.06070574, 0.30295695, 0.19475488, 0.11622983]])"
            ]
          },
          "execution_count": 101,
          "metadata": {},
          "output_type": "execute_result"
        }
      ],
      "source": [
        "A[max_index] = 0\n",
        "\n",
        "A"
      ]
    },
    {
      "cell_type": "code",
      "execution_count": null,
      "id": "163a336f",
      "metadata": {
        "id": "163a336f"
      },
      "outputs": [],
      "source": [
        "max_val = np.max(A)\n",
        "\n",
        "A[A == max_val] = 0"
      ]
    },
    {
      "cell_type": "code",
      "execution_count": null,
      "id": "f110fd0f",
      "metadata": {
        "id": "f110fd0f",
        "outputId": "c10bbf4b-9853-40a5-bf82-fdcfc2b0f3b2"
      },
      "outputs": [
        {
          "data": {
            "text/plain": [
              "array([[0.88724223, 0.        , 0.22230032, 0.66341337, 0.08823717],\n",
              "       [0.90437875, 0.        , 0.33748577, 0.63544255, 0.6640637 ],\n",
              "       [0.53954694, 0.53985952, 0.12451775, 0.5115666 , 0.69385013],\n",
              "       [0.54410975, 0.05987213, 0.18998327, 0.5186918 , 0.0562846 ],\n",
              "       [0.57163745, 0.06070574, 0.30295695, 0.19475488, 0.11622983]])"
            ]
          },
          "execution_count": 103,
          "metadata": {},
          "output_type": "execute_result"
        }
      ],
      "source": [
        "A"
      ]
    },
    {
      "cell_type": "markdown",
      "id": "e1e1e35d",
      "metadata": {
        "id": "e1e1e35d"
      },
      "source": [
        "### FF7"
      ]
    },
    {
      "cell_type": "code",
      "execution_count": null,
      "id": "2ea65fa1",
      "metadata": {
        "scrolled": true,
        "id": "2ea65fa1"
      },
      "outputs": [],
      "source": [
        "A = np.array([[1, 2, 3], [4, 5, 6], [7, 8, 9]])"
      ]
    },
    {
      "cell_type": "code",
      "execution_count": null,
      "id": "29c54546",
      "metadata": {
        "id": "29c54546",
        "outputId": "080f4d84-1c56-4c67-b8b2-0b4b87b9eb5d"
      },
      "outputs": [
        {
          "data": {
            "text/plain": [
              "array([[100,   5],\n",
              "       [  7,   8]])"
            ]
          },
          "execution_count": 108,
          "metadata": {},
          "output_type": "execute_result"
        }
      ],
      "source": [
        "B = A[1:3, 0:2]\n",
        "\n",
        "B[0, 0] = 100\n",
        "\n",
        "B"
      ]
    },
    {
      "cell_type": "code",
      "execution_count": null,
      "id": "5bb1318d",
      "metadata": {
        "id": "5bb1318d",
        "outputId": "3d4373c1-6648-4206-b480-278f2bd6a399"
      },
      "outputs": [
        {
          "name": "stdout",
          "output_type": "stream",
          "text": [
            "[[  1   2   3]\n",
            " [100   5   6]\n",
            " [  7   8   9]]\n"
          ]
        }
      ],
      "source": [
        "A = np.array([[1, 2, 3], [4, 5, 6], [7, 8, 9]])\n",
        "\n",
        "B = A[1:3, 0:2]\n",
        "\n",
        "B[0, 0] = 100\n",
        "\n",
        "print(A)"
      ]
    },
    {
      "cell_type": "markdown",
      "id": "a1dbf23a",
      "metadata": {
        "id": "a1dbf23a"
      },
      "source": [
        "### FF8"
      ]
    },
    {
      "cell_type": "code",
      "execution_count": null,
      "id": "f92e9667",
      "metadata": {
        "id": "f92e9667",
        "outputId": "25f6936c-1db2-4de9-f60a-467ee21400f7"
      },
      "outputs": [
        {
          "data": {
            "text/plain": [
              "array([1, 1, 1, 0, 0, 0, 1, 1, 1, 0, 0, 0, 0, 0, 1, 0, 0, 0, 0, 0])"
            ]
          },
          "execution_count": 119,
          "metadata": {},
          "output_type": "execute_result"
        }
      ],
      "source": [
        "# Create a 1D array of 20 elements with random integers between 1 and 100\n",
        "arr = np.random.randint(0, 2, size)\n",
        "\n",
        "arr"
      ]
    },
    {
      "cell_type": "code",
      "execution_count": null,
      "id": "2359256e",
      "metadata": {
        "scrolled": true,
        "id": "2359256e",
        "outputId": "b0aa5920-b104-4fad-afb2-4d76b58ac615"
      },
      "outputs": [
        {
          "data": {
            "text/plain": [
              "7"
            ]
          },
          "execution_count": 135,
          "metadata": {},
          "output_type": "execute_result"
        }
      ],
      "source": [
        "np.count_nonzero(arr, axis=0)"
      ]
    },
    {
      "cell_type": "code",
      "execution_count": null,
      "id": "1c418f3e",
      "metadata": {
        "id": "1c418f3e",
        "outputId": "6393afda-b00e-41e9-ef8a-9e0c2a3eab99"
      },
      "outputs": [
        {
          "data": {
            "text/plain": [
              "array([ True,  True,  True, False, False, False,  True,  True,  True,\n",
              "       False, False, False, False, False,  True, False, False, False,\n",
              "       False, False])"
            ]
          },
          "execution_count": 132,
          "metadata": {},
          "output_type": "execute_result"
        }
      ],
      "source": [
        "arr % 2 == 1"
      ]
    },
    {
      "cell_type": "code",
      "execution_count": null,
      "id": "94f41e36",
      "metadata": {
        "id": "94f41e36",
        "outputId": "d74908e7-0b5a-415e-d712-f304e8991e70"
      },
      "outputs": [
        {
          "name": "stdout",
          "output_type": "stream",
          "text": [
            "13\n",
            "\n",
            "7\n"
          ]
        }
      ],
      "source": [
        "# Calculate the number of even and odd elements in the array and print the result\n",
        "even_count = np.count_nonzero(arr % 2 == 0)\n",
        "odd_count = np.count_nonzero(arr % 2 == 1)\n",
        "\n",
        "print(even_count)\n",
        "print()\n",
        "print(odd_count)"
      ]
    },
    {
      "cell_type": "markdown",
      "id": "7dc41ff7",
      "metadata": {
        "id": "7dc41ff7"
      },
      "source": [
        "### FF9"
      ]
    },
    {
      "cell_type": "code",
      "execution_count": null,
      "id": "e72cf0ce",
      "metadata": {
        "id": "e72cf0ce",
        "outputId": "bf825c24-5f89-4d07-deeb-204adbfbf73a"
      },
      "outputs": [
        {
          "name": "stdout",
          "output_type": "stream",
          "text": [
            "[[ 1  2  3  4]\n",
            " [ 5  6  7  8]\n",
            " [ 9 10 11 12]\n",
            " [13 14 15 16]]\n",
            "\n",
            "[[ 4  3  2  1]\n",
            " [ 8  7  6  5]\n",
            " [12 11 10  9]\n",
            " [16 15 14 13]]\n"
          ]
        }
      ],
      "source": [
        "A = np.arange(1, 17).reshape(4, 4)\n",
        "\n",
        "print(A)\n",
        "\n",
        "B = A[:, ::-1]\n",
        "\n",
        "print()\n",
        "print(B)"
      ]
    },
    {
      "cell_type": "markdown",
      "id": "57301812",
      "metadata": {
        "id": "57301812"
      },
      "source": [
        "### FF10"
      ]
    },
    {
      "cell_type": "code",
      "execution_count": null,
      "id": "70550496",
      "metadata": {
        "scrolled": true,
        "id": "70550496",
        "outputId": "b6b21451-61e3-4410-9f42-b29034ad374c"
      },
      "outputs": [
        {
          "name": "stdout",
          "output_type": "stream",
          "text": [
            "[[1. 1. 1. 1. 1. 1. 1. 1.]\n",
            " [1. 0. 0. 0. 0. 0. 0. 1.]\n",
            " [1. 0. 0. 0. 0. 0. 0. 1.]\n",
            " [1. 0. 0. 0. 0. 0. 0. 1.]\n",
            " [1. 0. 0. 0. 0. 0. 0. 1.]\n",
            " [1. 0. 0. 0. 0. 0. 0. 1.]\n",
            " [1. 0. 0. 0. 0. 0. 0. 1.]\n",
            " [1. 1. 1. 1. 1. 1. 1. 1.]]\n"
          ]
        }
      ],
      "source": [
        "# Create a 2D array of size 8x8, where the outer border elements are set to 1 and the inner elements are set to 0\n",
        "A = np.ones((8, 8))\n",
        "\n",
        "A[1:7, 1:7] = 0\n",
        "\n",
        "print(A)"
      ]
    },
    {
      "cell_type": "code",
      "execution_count": null,
      "id": "de9671db",
      "metadata": {
        "id": "de9671db",
        "outputId": "b628dd74-f589-41ef-f304-80b93bb23e09"
      },
      "outputs": [
        {
          "data": {
            "text/plain": [
              "array([[0, 1],\n",
              "       [2, 3]])"
            ]
          },
          "execution_count": 142,
          "metadata": {},
          "output_type": "execute_result"
        }
      ],
      "source": [
        "A"
      ]
    },
    {
      "cell_type": "code",
      "execution_count": null,
      "id": "ad5e2dc3",
      "metadata": {
        "id": "ad5e2dc3",
        "outputId": "ae1fd22d-70c7-43bc-e799-c3c96dd85e74"
      },
      "outputs": [
        {
          "data": {
            "text/plain": [
              "array([1, 2], dtype=int64)"
            ]
          },
          "execution_count": 144,
          "metadata": {},
          "output_type": "execute_result"
        }
      ],
      "source": [
        "A = np.array([[0, 1], [2, 3]])\n",
        "\n",
        "np.count_nonzero(A, axis=0)"
      ]
    },
    {
      "cell_type": "code",
      "execution_count": null,
      "id": "4e3a5406",
      "metadata": {
        "id": "4e3a5406",
        "outputId": "61b46ed6-3997-4e60-8c4a-df5ac6b326cc"
      },
      "outputs": [
        {
          "data": {
            "text/plain": [
              "array([[1., 0., 0., 0.],\n",
              "       [0., 1., 0., 0.],\n",
              "       [0., 0., 1., 0.],\n",
              "       [0., 0., 0., 1.]])"
            ]
          },
          "execution_count": 137,
          "metadata": {},
          "output_type": "execute_result"
        }
      ],
      "source": [
        "np.eye(4)"
      ]
    }
  ],
  "metadata": {
    "kernelspec": {
      "display_name": "Python 3",
      "language": "python",
      "name": "python3"
    },
    "language_info": {
      "codemirror_mode": {
        "name": "ipython",
        "version": 3
      },
      "file_extension": ".py",
      "mimetype": "text/x-python",
      "name": "python",
      "nbconvert_exporter": "python",
      "pygments_lexer": "ipython3",
      "version": "3.8.8"
    },
    "colab": {
      "provenance": [],
      "toc_visible": true,
      "include_colab_link": true
    }
  },
  "nbformat": 4,
  "nbformat_minor": 5
}