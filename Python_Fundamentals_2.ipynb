{
  "cells": [
    {
      "cell_type": "markdown",
      "metadata": {
        "id": "view-in-github",
        "colab_type": "text"
      },
      "source": [
        "<a href=\"https://colab.research.google.com/github/komal021406/ML/blob/main/Python_Fundamentals_2.ipynb\" target=\"_parent\"><img src=\"https://colab.research.google.com/assets/colab-badge.svg\" alt=\"Open In Colab\"/></a>"
      ]
    },
    {
      "cell_type": "markdown",
      "id": "b47fba79",
      "metadata": {
        "id": "b47fba79"
      },
      "source": [
        "# Python Fundamentals - Week 2"
      ]
    },
    {
      "cell_type": "markdown",
      "id": "cfccc0a5",
      "metadata": {
        "id": "cfccc0a5"
      },
      "source": [
        "## Tuples"
      ]
    },
    {
      "cell_type": "code",
      "execution_count": null,
      "id": "f150976a",
      "metadata": {
        "id": "f150976a",
        "outputId": "b97f5ecb-3187-4f5d-e917-c0c075b81dc9"
      },
      "outputs": [
        {
          "name": "stdout",
          "output_type": "stream",
          "text": [
            "('Max', 28, 'New York')\n",
            "<class 'tuple'>\n"
          ]
        }
      ],
      "source": [
        "# Define a new tuple\n",
        "tuple_1 = (\"Max\", 28, \"New York\")\n",
        "\n",
        "print(tuple_1)\n",
        "print(type(tuple_1))"
      ]
    },
    {
      "cell_type": "code",
      "execution_count": null,
      "id": "c64721dc",
      "metadata": {
        "id": "c64721dc",
        "outputId": "ce1da05a-eb0f-4659-c5f5-534fe55ab40f"
      },
      "outputs": [
        {
          "name": "stdout",
          "output_type": "stream",
          "text": [
            "('Linda', 25, 'Miami')\n",
            "<class 'tuple'>\n"
          ]
        }
      ],
      "source": [
        "# Parentheses are optional\n",
        "tuple_2 = \"Linda\", 25, \"Miami\"\n",
        "print(tuple_2)\n",
        "print(type(tuple_2))"
      ]
    },
    {
      "cell_type": "code",
      "execution_count": null,
      "id": "be04b55d",
      "metadata": {
        "scrolled": false,
        "id": "be04b55d",
        "outputId": "7db41795-bd0e-4dee-856f-fd09c37bba98"
      },
      "outputs": [
        {
          "ename": "TypeError",
          "evalue": "'tuple' object does not support item assignment",
          "output_type": "error",
          "traceback": [
            "\u001b[0;31m---------------------------------------------------------------------------\u001b[0m",
            "\u001b[0;31mTypeError\u001b[0m                                 Traceback (most recent call last)",
            "Cell \u001b[0;32mIn[6], line 2\u001b[0m\n\u001b[1;32m      1\u001b[0m \u001b[38;5;66;03m# Tuples are immutable (ERROR)\u001b[39;00m\n\u001b[0;32m----> 2\u001b[0m tuple_1[\u001b[38;5;241m2\u001b[39m] \u001b[38;5;241m=\u001b[39m \u001b[38;5;124m\"\u001b[39m\u001b[38;5;124mBoston\u001b[39m\u001b[38;5;124m\"\u001b[39m\n",
            "\u001b[0;31mTypeError\u001b[0m: 'tuple' object does not support item assignment"
          ]
        }
      ],
      "source": [
        "# Tuples are immutable (ERROR)\n",
        "tuple_1[2] = \"Boston\""
      ]
    },
    {
      "cell_type": "code",
      "execution_count": null,
      "id": "22b4d3da",
      "metadata": {
        "id": "22b4d3da",
        "outputId": "44092b39-1dc2-46e1-ec62-37183d0756dc"
      },
      "outputs": [
        {
          "name": "stdout",
          "output_type": "stream",
          "text": [
            "['Max', 28, 'Boston']\n"
          ]
        }
      ],
      "source": [
        "# Lists are mutable (unlike tuples)\n",
        "list_1 = [\"Max\", 28, \"New York\"]\n",
        "\n",
        "list_1[2] = \"Boston\"\n",
        "\n",
        "print(list_1)"
      ]
    },
    {
      "cell_type": "code",
      "execution_count": null,
      "id": "3d2abf36",
      "metadata": {
        "id": "3d2abf36",
        "outputId": "e085b96e-4c21-4b53-96db-b465983da66c"
      },
      "outputs": [
        {
          "name": "stdout",
          "output_type": "stream",
          "text": [
            "['Alice', 'Max']\n",
            "[25, 28]\n",
            "['New York', 'Boston']\n"
          ]
        }
      ],
      "source": [
        "# Tuples are iterable (combine tuples and lists)\n",
        "new_tuple = ([\"Alice\", 25, \"New York\"], [\"Max\", 28, \"Boston\"])\n",
        "\n",
        "# Use list comprehensions to split and bundle corresponding elements\n",
        "names = [item[0] for item in new_tuple]\n",
        "ages = [item[1] for item in new_tuple]\n",
        "cities = [item[-1] for item in new_tuple]\n",
        "\n",
        "print(names)\n",
        "print(ages)\n",
        "print(cities)"
      ]
    },
    {
      "cell_type": "code",
      "execution_count": null,
      "id": "b2ae69d8",
      "metadata": {
        "id": "b2ae69d8",
        "outputId": "368184f3-1845-433c-d8c6-8e315f640412"
      },
      "outputs": [
        {
          "name": "stdout",
          "output_type": "stream",
          "text": [
            "(1, 2, 3) <class 'tuple'>\n"
          ]
        }
      ],
      "source": [
        "myTuple = (1,2)\n",
        "myTuple = myTuple + (3,)\n",
        "# newTuple = myTuple + (3,)\n",
        "print(myTuple, type(myTuple))"
      ]
    },
    {
      "cell_type": "code",
      "execution_count": null,
      "id": "98ea3401",
      "metadata": {
        "id": "98ea3401",
        "outputId": "8ecd7539-ebea-4a53-8779-898837c9203b"
      },
      "outputs": [
        {
          "name": "stdout",
          "output_type": "stream",
          "text": [
            "Alice\n",
            "25\n",
            "New York\n"
          ]
        }
      ],
      "source": [
        "# Tuple unpacking\n",
        "person = (\"Alice\", 25, \"New York\")\n",
        "\n",
        "name, age, city = person\n",
        "\n",
        "print(name)\n",
        "print(age)\n",
        "print(city)"
      ]
    },
    {
      "cell_type": "code",
      "execution_count": null,
      "id": "eab5caf9",
      "metadata": {
        "scrolled": true,
        "id": "eab5caf9",
        "outputId": "0c4beabe-a53c-40e5-c1ef-9587f5360d41"
      },
      "outputs": [
        {
          "name": "stdout",
          "output_type": "stream",
          "text": [
            "5\n",
            "<class 'int'>\n",
            "\n"
          ]
        }
      ],
      "source": [
        "# Integers: One element Tuple definition\n",
        "\n",
        "tuple_1 = (5) # Not a tuple\n",
        "\n",
        "print(tuple_1)\n",
        "print(type(tuple_1))\n",
        "print()"
      ]
    },
    {
      "cell_type": "code",
      "execution_count": null,
      "id": "37b9b648",
      "metadata": {
        "id": "37b9b648",
        "outputId": "b678d664-f9fa-4fcf-bad3-40aa13483317"
      },
      "outputs": [
        {
          "name": "stdout",
          "output_type": "stream",
          "text": [
            "(5,)\n",
            "<class 'tuple'>\n",
            "\n"
          ]
        }
      ],
      "source": [
        "tuple_2 = (5,) # tuple\n",
        "\n",
        "print(tuple_2)\n",
        "print(type(tuple_2))\n",
        "print()"
      ]
    },
    {
      "cell_type": "code",
      "execution_count": null,
      "id": "5c11a4ae",
      "metadata": {
        "id": "5c11a4ae",
        "outputId": "98f09ca4-fa55-44df-e96a-2eef36f14ae3"
      },
      "outputs": [
        {
          "name": "stdout",
          "output_type": "stream",
          "text": [
            "('a',)\n",
            "<class 'tuple'>\n"
          ]
        }
      ],
      "source": [
        "# Also true for strings\n",
        "new_tuple = ('a',)\n",
        "\n",
        "print(new_tuple)\n",
        "print(type(new_tuple))"
      ]
    },
    {
      "cell_type": "markdown",
      "id": "0afff9f1",
      "metadata": {
        "id": "0afff9f1"
      },
      "source": [
        "#### Iteration through Tuples"
      ]
    },
    {
      "cell_type": "code",
      "execution_count": null,
      "id": "3565606d",
      "metadata": {
        "id": "3565606d"
      },
      "outputs": [],
      "source": [
        "# Iterate through a tuple\n",
        "tuple_1 = (\"Max\", 28, \"New York\")"
      ]
    },
    {
      "cell_type": "code",
      "execution_count": null,
      "id": "959372c8",
      "metadata": {
        "id": "959372c8",
        "outputId": "6ce66fdc-9a95-4bb2-8912-7c61fd1e04b9"
      },
      "outputs": [
        {
          "name": "stdout",
          "output_type": "stream",
          "text": [
            "Max  28  New York  "
          ]
        }
      ],
      "source": [
        "# Iterate by item\n",
        "for item in tuple_1:\n",
        "    print(item, end=\"  \")"
      ]
    },
    {
      "cell_type": "code",
      "execution_count": null,
      "id": "479e4237",
      "metadata": {
        "id": "479e4237",
        "outputId": "9a513cde-056c-46de-f47e-b7d4680d2d5a"
      },
      "outputs": [
        {
          "name": "stdout",
          "output_type": "stream",
          "text": [
            "0 Max\n",
            "1 28\n",
            "2 New York\n"
          ]
        }
      ],
      "source": [
        "n = len(tuple_1)\n",
        "\n",
        "# Iterate by index\n",
        "for i in range(n):\n",
        "    print(i, tuple_1[i])"
      ]
    },
    {
      "cell_type": "code",
      "execution_count": null,
      "id": "d8822716",
      "metadata": {
        "id": "d8822716",
        "outputId": "11a7b4c7-99cb-4ba3-ffe5-265da14042c6"
      },
      "outputs": [
        {
          "name": "stdout",
          "output_type": "stream",
          "text": [
            "0 Max\n",
            "1 28\n",
            "2 New York\n"
          ]
        }
      ],
      "source": [
        "# Iterate by index and item (enumerate)\n",
        "for idx, val in enumerate(tuple_1):\n",
        "    print(idx, val)"
      ]
    },
    {
      "cell_type": "code",
      "execution_count": null,
      "id": "f9326cc0",
      "metadata": {
        "id": "f9326cc0",
        "outputId": "b6b2375a-2432-49f4-ad3a-e57c09bcfc35"
      },
      "outputs": [
        {
          "name": "stdout",
          "output_type": "stream",
          "text": [
            "True False True\n"
          ]
        }
      ],
      "source": [
        "# Search a tuple\n",
        "tuple_1 = (\"Max\", 28, \"New York\")\n",
        "\n",
        "result1 = \"New York\" in tuple_1\n",
        "result2 = \"Chicago\" in tuple_1\n",
        "result3 = \"Boston\" not in tuple_1\n",
        "\n",
        "print(result1, result2, result3)"
      ]
    },
    {
      "cell_type": "code",
      "execution_count": null,
      "id": "0643272b",
      "metadata": {
        "scrolled": true,
        "id": "0643272b",
        "outputId": "d95db498-f994-4b57-9d8f-2ea495adb65d"
      },
      "outputs": [
        {
          "name": "stdout",
          "output_type": "stream",
          "text": [
            "5\n",
            "2\n",
            "3\n"
          ]
        }
      ],
      "source": [
        "# Some tuples properties\n",
        "my_tuple = ('a','p','p','l','e')\n",
        "\n",
        "# len() : get the number of elements in a tuple\n",
        "print(len(my_tuple))\n",
        "\n",
        "# count(x) : Return the number of items that is equal to x\n",
        "print(my_tuple.count('p'))\n",
        "\n",
        "# index(x) : Return index of first item that is equal to x\n",
        "print(my_tuple.index('l'))"
      ]
    },
    {
      "cell_type": "code",
      "execution_count": null,
      "id": "39703784",
      "metadata": {
        "id": "39703784",
        "outputId": "8bbb8e2e-e461-448d-e410-8d258b231a88"
      },
      "outputs": [
        {
          "name": "stdout",
          "output_type": "stream",
          "text": [
            "('a', 'p', 'p', 'l', 'e', 'a', 'p', 'p', 'l', 'e')\n"
          ]
        }
      ],
      "source": [
        "# repetition (such as lists and strings)\n",
        "print(('a','p','p','l','e') * 2)"
      ]
    },
    {
      "cell_type": "markdown",
      "id": "28f3167c",
      "metadata": {
        "id": "28f3167c"
      },
      "source": [
        "#### Type Conversions"
      ]
    },
    {
      "cell_type": "code",
      "execution_count": null,
      "id": "91e3b88f",
      "metadata": {
        "id": "91e3b88f",
        "outputId": "a315a00f-880e-4a7b-c9c9-a129a471be32"
      },
      "outputs": [
        {
          "name": "stdout",
          "output_type": "stream",
          "text": [
            "(1, 2, 3)\n"
          ]
        }
      ],
      "source": [
        "# Convert itearable to tuple\n",
        "my_list = [1, 2, 3]\n",
        "tuple_4 = tuple(my_list)\n",
        "print(tuple_4)"
      ]
    },
    {
      "cell_type": "code",
      "execution_count": null,
      "id": "4abb38bf",
      "metadata": {
        "id": "4abb38bf",
        "outputId": "60e4cced-a14e-4feb-9dcc-e0d2469e8041"
      },
      "outputs": [
        {
          "name": "stdout",
          "output_type": "stream",
          "text": [
            "('a', 'b', 'c', 'd')\n"
          ]
        }
      ],
      "source": [
        "# Convert list to tuple\n",
        "my_list = ['a', 'b', 'c', 'd']\n",
        "list_to_tuple = tuple(my_list)\n",
        "print(list_to_tuple)"
      ]
    },
    {
      "cell_type": "code",
      "execution_count": null,
      "id": "f1467546",
      "metadata": {
        "id": "f1467546",
        "outputId": "3d7b5a3e-c013-4571-cb34-5861e91fa7bc"
      },
      "outputs": [
        {
          "name": "stdout",
          "output_type": "stream",
          "text": [
            "['a', 'b', 'c', 'd']\n"
          ]
        }
      ],
      "source": [
        "# Convert tuple to list\n",
        "my_tuple = ('a', 'b', 'c', 'd')\n",
        "tuple_to_list = list(my_tuple)\n",
        "print(tuple_to_list)"
      ]
    },
    {
      "cell_type": "code",
      "execution_count": null,
      "id": "a59f9e1b",
      "metadata": {
        "id": "a59f9e1b",
        "outputId": "93b5b411-18a4-4ae2-df4f-5d4c76a5b3eb"
      },
      "outputs": [
        {
          "name": "stdout",
          "output_type": "stream",
          "text": [
            "('H', 'e', 'l', 'l', 'o')\n"
          ]
        }
      ],
      "source": [
        "# convert string to tuple\n",
        "my_str = 'Hello'\n",
        "str_to_tuple = tuple(my_str)\n",
        "print(str_to_tuple)"
      ]
    },
    {
      "cell_type": "markdown",
      "id": "4bfc009c",
      "metadata": {
        "id": "4bfc009c"
      },
      "source": [
        "#### Memory Usage"
      ]
    },
    {
      "cell_type": "code",
      "execution_count": null,
      "id": "8f3462da",
      "metadata": {
        "id": "8f3462da"
      },
      "outputs": [],
      "source": [
        "my_list = [0, 1, 2, 5, 10]\n",
        "my_tuple = (0, 1, 2, 5, 10)"
      ]
    },
    {
      "cell_type": "code",
      "execution_count": null,
      "id": "8587c6d8",
      "metadata": {
        "id": "8587c6d8",
        "outputId": "d4605f83-9f97-4a8b-81ea-06d5f10f6fae"
      },
      "outputs": [
        {
          "name": "stdout",
          "output_type": "stream",
          "text": [
            "104 bytes\n",
            "80 bytes\n"
          ]
        }
      ],
      "source": [
        "# compare the size\n",
        "import sys\n",
        "\n",
        "print(sys.getsizeof(my_list), \"bytes\")\n",
        "print(sys.getsizeof(my_tuple), \"bytes\")"
      ]
    },
    {
      "cell_type": "markdown",
      "id": "f0ab431a",
      "metadata": {
        "id": "f0ab431a"
      },
      "source": [
        "#### Function Output"
      ]
    },
    {
      "cell_type": "code",
      "execution_count": null,
      "id": "852cb6f2",
      "metadata": {
        "id": "852cb6f2"
      },
      "outputs": [],
      "source": [
        "# Using a tuple to return multiple values\n",
        "def divide(a, b):\n",
        "    quotient = a // b\n",
        "    remainder = a % b\n",
        "    return quotient, remainder"
      ]
    },
    {
      "cell_type": "code",
      "execution_count": null,
      "id": "28033711",
      "metadata": {
        "id": "28033711",
        "outputId": "d37a52d8-3276-4249-f71a-c8a1a17a364b"
      },
      "outputs": [
        {
          "name": "stdout",
          "output_type": "stream",
          "text": [
            "3 1\n"
          ]
        }
      ],
      "source": [
        "# result = divide(10, 3) # 10 = 3 x 3 + 1\n",
        "\n",
        "quotient, remainder = divide(10, 3)\n",
        "print(quotient, remainder)\n",
        "\n",
        "# result = divide(10, 3)\n",
        "# print(result[0], result[1])"
      ]
    },
    {
      "cell_type": "markdown",
      "id": "f11b8688",
      "metadata": {
        "id": "f11b8688"
      },
      "source": [
        "## Sets"
      ]
    },
    {
      "cell_type": "code",
      "execution_count": null,
      "id": "d86b5344",
      "metadata": {
        "id": "d86b5344",
        "outputId": "a8e383b7-ffb3-4bbb-f12f-f4edb38533d4"
      },
      "outputs": [
        {
          "name": "stdout",
          "output_type": "stream",
          "text": [
            "Our set: {1, 19, 4, 5, 6, 9, 10}\n",
            "\n",
            "length of the set: 7\n",
            "\n",
            "Maximum element of the set 19\n"
          ]
        }
      ],
      "source": [
        "# Define a new set\n",
        "set1 = {1, 5, 10, 4, 6, 9, 19}\n",
        "\n",
        "print(\"Our set:\", set1)\n",
        "print(\"\\nlength of the set:\", len(set1))\n",
        "print(\"\\nMaximum element of the set\", max(set1))"
      ]
    },
    {
      "cell_type": "code",
      "execution_count": null,
      "id": "7da1baa3",
      "metadata": {
        "id": "7da1baa3"
      },
      "outputs": [],
      "source": [
        "empty_list = [] # list()\n",
        "empty_tuple = () # tuple()\n",
        "empty_set = set()\n",
        "empty_dictionary = {} # dict()"
      ]
    },
    {
      "cell_type": "code",
      "execution_count": null,
      "id": "b1b1c738",
      "metadata": {
        "id": "b1b1c738",
        "outputId": "c9095f87-86e5-4d0f-dc42-ba44cec4d41c"
      },
      "outputs": [
        {
          "name": "stdout",
          "output_type": "stream",
          "text": [
            "set()\n",
            "<class 'set'>\n"
          ]
        }
      ],
      "source": [
        "# Define an empty set\n",
        "empty_set = set()\n",
        "print(empty_set)\n",
        "print(type(empty_set))"
      ]
    },
    {
      "cell_type": "code",
      "execution_count": null,
      "id": "1124b084",
      "metadata": {
        "id": "1124b084",
        "outputId": "e18979b8-c300-44d8-b1a1-a77263e2a61f"
      },
      "outputs": [
        {
          "name": "stdout",
          "output_type": "stream",
          "text": [
            "{}\n",
            "<class 'dict'>\n"
          ]
        }
      ],
      "source": [
        "# Don't confuse it with dictionary\n",
        "empty_dict = {}\n",
        "# empty_dict = dict()\n",
        "print(empty_dict)\n",
        "print(type(empty_dict))"
      ]
    },
    {
      "cell_type": "code",
      "execution_count": null,
      "id": "91520d3a",
      "metadata": {
        "scrolled": true,
        "id": "91520d3a",
        "outputId": "6922ce5c-c5fe-41d4-e33d-47b482835ccf"
      },
      "outputs": [
        {
          "ename": "TypeError",
          "evalue": "'set' object is not subscriptable",
          "output_type": "error",
          "traceback": [
            "\u001b[0;31m---------------------------------------------------------------------------\u001b[0m",
            "\u001b[0;31mTypeError\u001b[0m                                 Traceback (most recent call last)",
            "Cell \u001b[0;32mIn[39], line 4\u001b[0m\n\u001b[1;32m      1\u001b[0m \u001b[38;5;66;03m# Set is not indexed\u001b[39;00m\n\u001b[1;32m      2\u001b[0m set1 \u001b[38;5;241m=\u001b[39m {\u001b[38;5;241m1\u001b[39m, \u001b[38;5;241m5\u001b[39m, \u001b[38;5;241m10\u001b[39m, \u001b[38;5;241m4\u001b[39m, \u001b[38;5;241m6\u001b[39m, \u001b[38;5;241m9\u001b[39m, \u001b[38;5;241m19\u001b[39m}\n\u001b[0;32m----> 4\u001b[0m \u001b[43mset1\u001b[49m\u001b[43m[\u001b[49m\u001b[38;5;241;43m2\u001b[39;49m\u001b[43m]\u001b[49m\n",
            "\u001b[0;31mTypeError\u001b[0m: 'set' object is not subscriptable"
          ]
        }
      ],
      "source": [
        "# Set is not indexed\n",
        "set1 = {1, 5, 10, 4, 6, 9, 19}\n",
        "\n",
        "set1[2]"
      ]
    },
    {
      "cell_type": "code",
      "execution_count": null,
      "id": "4da025d9",
      "metadata": {
        "id": "4da025d9",
        "outputId": "866b0498-b3c3-4197-c186-e7f09148a78a"
      },
      "outputs": [
        {
          "name": "stdout",
          "output_type": "stream",
          "text": [
            "{1, 2, 'a'}\n"
          ]
        }
      ],
      "source": [
        "# Sets are heterogeneous\n",
        "new_set = {2, 1, \"a\"}\n",
        "print(new_set)"
      ]
    },
    {
      "cell_type": "code",
      "execution_count": null,
      "id": "fd207339",
      "metadata": {
        "id": "fd207339",
        "outputId": "d3ea9f0b-b016-4b32-a4c1-91d28428221d"
      },
      "outputs": [
        {
          "name": "stdout",
          "output_type": "stream",
          "text": [
            "{8, 2, 4, 6}\n"
          ]
        }
      ],
      "source": [
        "# Sets remove duplicate elements\n",
        "numbers = {2, 4, 6, 6, 2, 8, 6, 6, 6, 6}\n",
        "print(numbers)"
      ]
    },
    {
      "cell_type": "markdown",
      "id": "30f114df",
      "metadata": {
        "id": "30f114df"
      },
      "source": [
        "#### Sets Built-in Functions"
      ]
    },
    {
      "cell_type": "code",
      "execution_count": null,
      "id": "135cea0c",
      "metadata": {
        "id": "135cea0c",
        "outputId": "3da27be3-6bd1-4926-e6ee-95dad8b27bc1"
      },
      "outputs": [
        {
          "name": "stdout",
          "output_type": "stream",
          "text": [
            "{'cherry', 'banana', 'apple'}\n"
          ]
        }
      ],
      "source": [
        "# Set built-in functions\n",
        "fruits = {\"apple\", \"banana\", \"cherry\"}\n",
        "print(fruits)"
      ]
    },
    {
      "cell_type": "code",
      "execution_count": null,
      "id": "98705e80",
      "metadata": {
        "id": "98705e80",
        "outputId": "2d379311-072a-437e-f072-437021f58822"
      },
      "outputs": [
        {
          "name": "stdout",
          "output_type": "stream",
          "text": [
            "{'cherry', 'orange', 'banana', 'apple'}\n"
          ]
        }
      ],
      "source": [
        "# Adding an element\n",
        "fruits.add(\"orange\")\n",
        "print(fruits)"
      ]
    },
    {
      "cell_type": "code",
      "execution_count": null,
      "id": "60f1d7a8",
      "metadata": {
        "id": "60f1d7a8",
        "outputId": "0393502e-d126-435c-d92c-0be662ebeb85"
      },
      "outputs": [
        {
          "name": "stdout",
          "output_type": "stream",
          "text": [
            "{'orange', 'banana', 'apple'}\n"
          ]
        }
      ],
      "source": [
        "# Removing an element\n",
        "fruits.remove(\"cherry\")\n",
        "print(fruits)"
      ]
    },
    {
      "cell_type": "code",
      "execution_count": null,
      "id": "7bdca4e9",
      "metadata": {
        "id": "7bdca4e9",
        "outputId": "d1873611-e968-4fd5-ab8b-bf891303cfa0"
      },
      "outputs": [
        {
          "name": "stdout",
          "output_type": "stream",
          "text": [
            "{'kiwi', 'orange', 'strawberry'}\n"
          ]
        }
      ],
      "source": [
        "more_fruits = {\"orange\", \"strawberry\", \"kiwi\"}\n",
        "print(more_fruits)"
      ]
    },
    {
      "cell_type": "code",
      "execution_count": null,
      "id": "f833dfb0",
      "metadata": {
        "id": "f833dfb0",
        "outputId": "2aba19ed-8580-4a83-a28c-d32664b294a7"
      },
      "outputs": [
        {
          "name": "stdout",
          "output_type": "stream",
          "text": [
            "{'orange', 'banana', 'apple'}\n",
            "{'kiwi', 'orange', 'strawberry'}\n",
            "{'banana', 'kiwi', 'orange', 'strawberry', 'apple'}\n"
          ]
        }
      ],
      "source": [
        "# Union\n",
        "all_fruits = fruits.union(more_fruits)\n",
        "print(fruits)\n",
        "print(more_fruits)\n",
        "print(all_fruits)"
      ]
    },
    {
      "cell_type": "code",
      "execution_count": null,
      "id": "7afb6ac6",
      "metadata": {
        "id": "7afb6ac6",
        "outputId": "95a601ea-4334-4e43-f643-e1ece40ea33d"
      },
      "outputs": [
        {
          "name": "stdout",
          "output_type": "stream",
          "text": [
            "{'orange'}\n"
          ]
        }
      ],
      "source": [
        "# Intersection\n",
        "common_fruits = fruits.intersection(more_fruits)\n",
        "print(common_fruits)"
      ]
    },
    {
      "cell_type": "code",
      "execution_count": null,
      "id": "c465969a",
      "metadata": {
        "id": "c465969a",
        "outputId": "f203977d-04be-43d1-8f88-1cb77d58bac1"
      },
      "outputs": [
        {
          "name": "stdout",
          "output_type": "stream",
          "text": [
            "{'kiwi', 'strawberry', 'banana', 'apple'}\n"
          ]
        }
      ],
      "source": [
        "# Difference\n",
        "different_fruits = all_fruits.difference(common_fruits)\n",
        "print(different_fruits)"
      ]
    },
    {
      "cell_type": "code",
      "execution_count": null,
      "id": "bc99612e",
      "metadata": {
        "id": "bc99612e",
        "outputId": "999f8a9f-ba4a-450e-e964-d48563074621"
      },
      "outputs": [
        {
          "name": "stdout",
          "output_type": "stream",
          "text": [
            "{'banana', 'kiwi', 'orange', 'strawberry', 'apple'}\n"
          ]
        }
      ],
      "source": [
        "# Update\n",
        "fruits = {\"apple\", \"banana\", \"orange\"}\n",
        "more_fruits = {\"orange\", \"strawberry\", \"kiwi\"}\n",
        "fruits.update(more_fruits)\n",
        "print(fruits)"
      ]
    },
    {
      "cell_type": "code",
      "execution_count": null,
      "id": "68c4f172",
      "metadata": {
        "id": "68c4f172",
        "outputId": "3cda1d4b-3fbf-4c1b-b9eb-db0c2f4b7aed"
      },
      "outputs": [
        {
          "ename": "KeyError",
          "evalue": "'watermelon'",
          "output_type": "error",
          "traceback": [
            "\u001b[0;31m---------------------------------------------------------------------------\u001b[0m",
            "\u001b[0;31mKeyError\u001b[0m                                  Traceback (most recent call last)",
            "Cell \u001b[0;32mIn[51], line 2\u001b[0m\n\u001b[1;32m      1\u001b[0m \u001b[38;5;66;03m# Removed element has to be in the set (ERROR)\u001b[39;00m\n\u001b[0;32m----> 2\u001b[0m \u001b[43mfruits\u001b[49m\u001b[38;5;241;43m.\u001b[39;49m\u001b[43mremove\u001b[49m\u001b[43m(\u001b[49m\u001b[38;5;124;43m\"\u001b[39;49m\u001b[38;5;124;43mwatermelon\u001b[39;49m\u001b[38;5;124;43m\"\u001b[39;49m\u001b[43m)\u001b[49m\n",
            "\u001b[0;31mKeyError\u001b[0m: 'watermelon'"
          ]
        }
      ],
      "source": [
        "# Removed element has to be in the set (ERROR)\n",
        "fruits.remove(\"watermelon\")"
      ]
    },
    {
      "cell_type": "code",
      "execution_count": null,
      "id": "35539f42",
      "metadata": {
        "id": "35539f42",
        "outputId": "9a1b7de6-1d1a-4368-c385-b2d6ed9fc0d1"
      },
      "outputs": [
        {
          "name": "stdout",
          "output_type": "stream",
          "text": [
            "{'kiwi', 'orange', 'strawberry', 'apple'}\n"
          ]
        }
      ],
      "source": [
        "# discard(x): removes x, nothing if element is not present\n",
        "fruits.discard(\"banana\")\n",
        "print(fruits)"
      ]
    },
    {
      "cell_type": "code",
      "execution_count": null,
      "id": "1317b3c2",
      "metadata": {
        "id": "1317b3c2",
        "outputId": "6be1d538-4b72-47cc-d4c6-7efd84a7329e"
      },
      "outputs": [
        {
          "name": "stdout",
          "output_type": "stream",
          "text": [
            "{'kiwi', 'orange', 'strawberry', 'apple'}\n"
          ]
        }
      ],
      "source": [
        "fruits.discard(\"blueberry\")\n",
        "print(fruits)"
      ]
    },
    {
      "cell_type": "code",
      "execution_count": null,
      "id": "73b118f8",
      "metadata": {
        "id": "73b118f8",
        "outputId": "b5323b7f-c356-49bf-933e-06e3da0cfbd4"
      },
      "outputs": [
        {
          "name": "stdout",
          "output_type": "stream",
          "text": [
            "set()\n"
          ]
        }
      ],
      "source": [
        "# clear() : remove all elements\n",
        "fruits.clear()\n",
        "print(fruits)"
      ]
    },
    {
      "cell_type": "markdown",
      "id": "9801e7d9",
      "metadata": {
        "id": "9801e7d9"
      },
      "source": [
        "## Class Activity"
      ]
    },
    {
      "cell_type": "markdown",
      "id": "2828c8e2",
      "metadata": {
        "id": "2828c8e2"
      },
      "source": [
        "### LeetCode 217"
      ]
    },
    {
      "cell_type": "markdown",
      "id": "6be7c981",
      "metadata": {
        "id": "6be7c981"
      },
      "source": [
        "Given an integer array nums, return true if any value appears at least twice in the array, and return false if every element is distinct."
      ]
    },
    {
      "cell_type": "code",
      "execution_count": null,
      "id": "770d3ef2",
      "metadata": {
        "id": "770d3ef2"
      },
      "outputs": [],
      "source": [
        "# Solution 1\n",
        "def containsDuplicate(nums):\n",
        "    checker = set()\n",
        "    for num in nums:\n",
        "        if num not in checker:\n",
        "            checker.add(num)\n",
        "        else:\n",
        "            return True\n",
        "    return False"
      ]
    },
    {
      "cell_type": "code",
      "execution_count": null,
      "id": "4d6d05fe",
      "metadata": {
        "id": "4d6d05fe"
      },
      "outputs": [],
      "source": [
        "# Solution 2\n",
        "def containsDuplicate(nums):\n",
        "    return len(nums) != len(set(nums))"
      ]
    },
    {
      "cell_type": "code",
      "execution_count": null,
      "id": "79bbc76e",
      "metadata": {
        "id": "79bbc76e",
        "outputId": "df02b8a9-73b6-4cff-9fa7-53255aaba0d1"
      },
      "outputs": [
        {
          "name": "stdout",
          "output_type": "stream",
          "text": [
            "True\n"
          ]
        }
      ],
      "source": [
        "# Test Case 1\n",
        "nums = [1, 2, 3, 1]\n",
        "print(containsDuplicate(nums))"
      ]
    },
    {
      "cell_type": "code",
      "execution_count": null,
      "id": "00a572aa",
      "metadata": {
        "id": "00a572aa",
        "outputId": "f52999a7-6c5a-4064-acf2-c871dafcdcc9"
      },
      "outputs": [
        {
          "name": "stdout",
          "output_type": "stream",
          "text": [
            "False\n"
          ]
        }
      ],
      "source": [
        "# Test Case 2\n",
        "nums = [1, 2, 3, 4]\n",
        "print(containsDuplicate(nums))"
      ]
    },
    {
      "cell_type": "code",
      "execution_count": null,
      "id": "1870be73",
      "metadata": {
        "id": "1870be73",
        "outputId": "4cdb1172-cd23-48d5-de85-f6cc9491148b"
      },
      "outputs": [
        {
          "name": "stdout",
          "output_type": "stream",
          "text": [
            "True\n"
          ]
        }
      ],
      "source": [
        "# Test Case 3\n",
        "nums = [1, 1, 1, 3, 3, 4, 3, 2, 4, 2]\n",
        "print(containsDuplicate(nums))"
      ]
    },
    {
      "cell_type": "markdown",
      "id": "6ac95b8f",
      "metadata": {
        "id": "6ac95b8f"
      },
      "source": [
        "### LeetCode 349"
      ]
    },
    {
      "cell_type": "markdown",
      "id": "37e94c7f",
      "metadata": {
        "id": "37e94c7f"
      },
      "source": [
        "Given two integer arrays nums1 and nums2, return an array of their intersection. Each element in the result must be unique and you may return the result in any order."
      ]
    },
    {
      "cell_type": "code",
      "execution_count": null,
      "id": "24c3b225",
      "metadata": {
        "id": "24c3b225"
      },
      "outputs": [],
      "source": [
        "# Solution 1\n",
        "def intersection(nums1, nums2):\n",
        "    # convert both to sets then intersection\n",
        "    set1 = set(nums1)\n",
        "    set2 = set(nums2)\n",
        "    return list(set1.intersection(set2))"
      ]
    },
    {
      "cell_type": "code",
      "execution_count": null,
      "id": "f5e28305",
      "metadata": {
        "id": "f5e28305"
      },
      "outputs": [],
      "source": [
        "# Solution 2\n",
        "def intersection(nums1, nums2):\n",
        "    return list(set(nums1).intersection(set(nums2)))"
      ]
    },
    {
      "cell_type": "code",
      "execution_count": null,
      "id": "4f25325b",
      "metadata": {
        "scrolled": true,
        "id": "4f25325b",
        "outputId": "48474bed-a91f-42f8-e6d5-9b428090da95"
      },
      "outputs": [
        {
          "name": "stdout",
          "output_type": "stream",
          "text": [
            "[2]\n"
          ]
        }
      ],
      "source": [
        "# Test Case 1\n",
        "nums1 = [1, 2, 2, 1] # {1, 2}\n",
        "nums2 = [2, 2] # {2}\n",
        "print(intersection(nums1, nums2))"
      ]
    },
    {
      "cell_type": "code",
      "execution_count": null,
      "id": "e2da2aa5",
      "metadata": {
        "id": "e2da2aa5",
        "outputId": "1809c6ea-c7df-4a06-cb21-5553f895c865"
      },
      "outputs": [
        {
          "name": "stdout",
          "output_type": "stream",
          "text": [
            "[9, 4]\n"
          ]
        }
      ],
      "source": [
        "# Test Case 2\n",
        "nums1 = [4, 9, 5] # {4, 9, 5}\n",
        "nums2 = [9, 4, 9, 8, 4] # {9, 4, 8}\n",
        "print(intersection(nums1, nums2))"
      ]
    },
    {
      "cell_type": "markdown",
      "id": "7f47bd92",
      "metadata": {
        "id": "7f47bd92"
      },
      "source": [
        "## Dictionaries"
      ]
    },
    {
      "cell_type": "code",
      "execution_count": null,
      "id": "9c3742ca",
      "metadata": {
        "id": "9c3742ca",
        "outputId": "7f116c8b-5548-4ded-a56c-e10a5d2af3af"
      },
      "outputs": [
        {
          "name": "stdout",
          "output_type": "stream",
          "text": [
            "{'Nepal': 'Kathmandu', 'Italy': 'Rome', 'England': 'London'}\n",
            "<class 'dict'>\n"
          ]
        }
      ],
      "source": [
        "# Define a new dictionary\n",
        "capital_city = {\"Nepal\": \"Kathmandu\", \"Italy\": \"Rome\", \"England\": \"London\"}\n",
        "print(capital_city)\n",
        "print(type(capital_city))"
      ]
    },
    {
      "cell_type": "code",
      "execution_count": null,
      "id": "17b710ee",
      "metadata": {
        "id": "17b710ee",
        "outputId": "38234a3d-abc1-4119-e95e-6755f53e55e9"
      },
      "outputs": [
        {
          "name": "stdout",
          "output_type": "stream",
          "text": [
            "Capital of Italy: Rome\n"
          ]
        }
      ],
      "source": [
        "# Retrieve value for a given key\n",
        "print(\"Capital of Italy:\", capital_city[\"Italy\"])"
      ]
    },
    {
      "cell_type": "code",
      "execution_count": null,
      "id": "95c773d8",
      "metadata": {
        "id": "95c773d8",
        "outputId": "e61f30a3-f314-4c10-ef80-76841c0cf35e"
      },
      "outputs": [
        {
          "ename": "KeyError",
          "evalue": "'Spain'",
          "output_type": "error",
          "traceback": [
            "\u001b[0;31m---------------------------------------------------------------------------\u001b[0m",
            "\u001b[0;31mKeyError\u001b[0m                                  Traceback (most recent call last)",
            "Cell \u001b[0;32mIn[72], line 1\u001b[0m\n\u001b[0;32m----> 1\u001b[0m \u001b[43mcapital_city\u001b[49m\u001b[43m[\u001b[49m\u001b[38;5;124;43m\"\u001b[39;49m\u001b[38;5;124;43mSpain\u001b[39;49m\u001b[38;5;124;43m\"\u001b[39;49m\u001b[43m]\u001b[49m\n",
            "\u001b[0;31mKeyError\u001b[0m: 'Spain'"
          ]
        }
      ],
      "source": [
        "capital_city[\"Spain\"]"
      ]
    },
    {
      "cell_type": "code",
      "execution_count": null,
      "id": "d52f27a8",
      "metadata": {
        "id": "d52f27a8",
        "outputId": "a2898d1a-f7d2-40c1-871e-bc54318326d6"
      },
      "outputs": [
        {
          "name": "stdout",
          "output_type": "stream",
          "text": [
            "Country not provided\n"
          ]
        }
      ],
      "source": [
        "# Retrieve value with a default option\n",
        "print(capital_city.get(\"Spain\", \"Country not provided\"))"
      ]
    },
    {
      "cell_type": "code",
      "execution_count": null,
      "id": "33b0d43a",
      "metadata": {
        "id": "33b0d43a",
        "outputId": "7452c00a-2f65-4f9b-990f-dea56f705edf"
      },
      "outputs": [
        {
          "name": "stdout",
          "output_type": "stream",
          "text": [
            "Updated Dictionary:  {'Nepal': 'Kathmandu', 'Italy': 'Rome', 'England': 'London', 'Japan': 'Tokyo'}\n"
          ]
        }
      ],
      "source": [
        "# Store a new key-value pair\n",
        "capital_city[\"Japan\"] = \"Tokyo\"\n",
        "print(\"Updated Dictionary: \", capital_city)"
      ]
    },
    {
      "cell_type": "markdown",
      "id": "591cbbc8",
      "metadata": {
        "id": "591cbbc8"
      },
      "source": [
        "#### Dictionary Methods"
      ]
    },
    {
      "cell_type": "code",
      "execution_count": null,
      "id": "f821cf06",
      "metadata": {
        "id": "f821cf06",
        "outputId": "166c7d4c-8794-42d9-8ad7-f670f0ce722f"
      },
      "outputs": [
        {
          "name": "stdout",
          "output_type": "stream",
          "text": [
            "{'name': 'Alice', 'age': 25, 'city': 'New York'}\n"
          ]
        }
      ],
      "source": [
        "# Another example\n",
        "person = {\n",
        "    \"name\": \"Alice\",\n",
        "    \"age\": 25,\n",
        "    \"city\": \"New York\"\n",
        "}\n",
        "print(person)"
      ]
    },
    {
      "cell_type": "code",
      "execution_count": null,
      "id": "6dcc2c37",
      "metadata": {
        "scrolled": true,
        "id": "6dcc2c37",
        "outputId": "82160f7a-d0d5-4c58-e6f6-c763c3ecc8e4"
      },
      "outputs": [
        {
          "name": "stdout",
          "output_type": "stream",
          "text": [
            "dict_keys(['name', 'age', 'city'])\n",
            "<class 'dict_keys'>\n"
          ]
        }
      ],
      "source": [
        "# Get dict keys\n",
        "keys = person.keys()\n",
        "print(keys)\n",
        "print(type(keys))"
      ]
    },
    {
      "cell_type": "code",
      "execution_count": null,
      "id": "e726876e",
      "metadata": {
        "id": "e726876e",
        "outputId": "818126b3-66cd-4bd8-f887-5f66ce4a9d89"
      },
      "outputs": [
        {
          "name": "stdout",
          "output_type": "stream",
          "text": [
            "dict_values(['Alice', 25, 'New York'])\n",
            "<class 'dict_values'>\n"
          ]
        }
      ],
      "source": [
        "# Get dict vals\n",
        "values = person.values()\n",
        "print(values)\n",
        "print(type(values))"
      ]
    },
    {
      "cell_type": "code",
      "execution_count": null,
      "id": "b6b38b53",
      "metadata": {
        "id": "b6b38b53",
        "outputId": "637e0ac2-e636-4454-ec83-db42abe288eb"
      },
      "outputs": [
        {
          "name": "stdout",
          "output_type": "stream",
          "text": [
            "dict_items([('name', 'Alice'), ('age', 25), ('city', 'New York')])\n",
            "<class 'dict_items'>\n"
          ]
        }
      ],
      "source": [
        "# Get dict key-val pairs\n",
        "items = person.items()\n",
        "print(items)\n",
        "print(type(items))"
      ]
    },
    {
      "cell_type": "code",
      "execution_count": null,
      "id": "c6ee92a3",
      "metadata": {
        "id": "c6ee92a3",
        "outputId": "be4706e2-c6a0-46e5-90b1-f370bcdf2d79"
      },
      "outputs": [
        {
          "name": "stdout",
          "output_type": "stream",
          "text": [
            "['name', 'age', 'city']\n",
            "['Alice', 25, 'New York']\n",
            "[('name', 'Alice'), ('age', 25), ('city', 'New York')]\n"
          ]
        }
      ],
      "source": [
        "# Converted to list\n",
        "print(list(keys))\n",
        "print(list(values))\n",
        "print(list(items))"
      ]
    },
    {
      "cell_type": "code",
      "execution_count": null,
      "id": "893800cf",
      "metadata": {
        "id": "893800cf",
        "outputId": "45e8698b-90a2-45f5-9a6a-cca1224d6f0b"
      },
      "outputs": [
        {
          "name": "stdout",
          "output_type": "stream",
          "text": [
            "Returned value: 25\n",
            "Updated dictionary: {'name': 'Alice', 'city': 'New York'}\n"
          ]
        }
      ],
      "source": [
        "# Removing values\n",
        "\n",
        "# pop - returns the value\n",
        "val = person.pop('age')\n",
        "\n",
        "print(\"Returned value:\", val)\n",
        "print(\"Updated dictionary:\", person)"
      ]
    },
    {
      "cell_type": "code",
      "execution_count": null,
      "id": "59f40661",
      "metadata": {
        "id": "59f40661",
        "outputId": "93e6d348-b1c4-463f-f334-8537efbd5b6e"
      },
      "outputs": [
        {
          "name": "stdout",
          "output_type": "stream",
          "text": [
            "Returned value: ('city', 'New York')\n",
            "Updated dictionary: {'name': 'Alice'}\n"
          ]
        }
      ],
      "source": [
        "val = person.popitem()\n",
        "\n",
        "print(\"Returned value:\", val)\n",
        "print(\"Updated dictionary:\", person)"
      ]
    },
    {
      "cell_type": "code",
      "execution_count": null,
      "id": "aaecd808",
      "metadata": {
        "id": "aaecd808",
        "outputId": "efea4036-3d14-42c6-ea84-db0376599c98"
      },
      "outputs": [
        {
          "ename": "KeyError",
          "evalue": "'name'",
          "output_type": "error",
          "traceback": [
            "\u001b[0;31m---------------------------------------------------------------------------\u001b[0m",
            "\u001b[0;31mKeyError\u001b[0m                                  Traceback (most recent call last)",
            "Cell \u001b[0;32mIn[83], line 2\u001b[0m\n\u001b[1;32m      1\u001b[0m \u001b[38;5;66;03m# Del - does not return the value\u001b[39;00m\n\u001b[0;32m----> 2\u001b[0m \u001b[38;5;28;01mdel\u001b[39;00m person[\u001b[38;5;124m'\u001b[39m\u001b[38;5;124mname\u001b[39m\u001b[38;5;124m'\u001b[39m]\n\u001b[1;32m      3\u001b[0m \u001b[38;5;28mprint\u001b[39m(person)\n",
            "\u001b[0;31mKeyError\u001b[0m: 'name'"
          ]
        }
      ],
      "source": [
        "# Del - does not return the value\n",
        "del person['name']\n",
        "print(person)"
      ]
    },
    {
      "cell_type": "markdown",
      "id": "d71ce109",
      "metadata": {
        "id": "d71ce109"
      },
      "source": [
        "#### Iteration and Existence"
      ]
    },
    {
      "cell_type": "code",
      "execution_count": null,
      "id": "5e79239b",
      "metadata": {
        "id": "5e79239b",
        "outputId": "7aca193c-1655-4447-d783-e4d2aa7b83a4"
      },
      "outputs": [
        {
          "name": "stdout",
          "output_type": "stream",
          "text": [
            "{1: 1, 3: 9, 5: 25, 7: 49, 9: 81}\n"
          ]
        }
      ],
      "source": [
        "# Membership Test for Dictionary Keys\n",
        "squares = {\n",
        "    1: 1,\n",
        "    3: 9,\n",
        "    5: 25,\n",
        "    7: 49,\n",
        "    9: 81\n",
        "}\n",
        "print(squares)"
      ]
    },
    {
      "cell_type": "code",
      "execution_count": null,
      "id": "4d6bba92",
      "metadata": {
        "id": "4d6bba92",
        "outputId": "1676dd8d-7da2-4f54-869c-ada4c33dc3c0"
      },
      "outputs": [
        {
          "name": "stdout",
          "output_type": "stream",
          "text": [
            "Iteration through dict:\n",
            "1 1\n",
            "3 9\n",
            "5 25\n",
            "7 49\n",
            "9 81\n"
          ]
        }
      ],
      "source": [
        "# Iterate through a dict\n",
        "print(\"Iteration through dict:\")\n",
        "\n",
        "for key in squares:\n",
        "    print(key, squares[key])"
      ]
    },
    {
      "cell_type": "code",
      "execution_count": null,
      "id": "7f50dbd9",
      "metadata": {
        "id": "7f50dbd9",
        "outputId": "72a1e0fb-cd25-4df8-da72-5c84b51cef98"
      },
      "outputs": [
        {
          "name": "stdout",
          "output_type": "stream",
          "text": [
            "Iteration through dict keys:\n",
            "1 1\n",
            "3 9\n",
            "5 25\n",
            "7 49\n",
            "9 81\n"
          ]
        }
      ],
      "source": [
        "# Iterate through keys\n",
        "print(\"Iteration through dict keys:\")\n",
        "\n",
        "for key in squares.keys():\n",
        "    print(key, squares[key])"
      ]
    },
    {
      "cell_type": "code",
      "execution_count": null,
      "id": "be764c2a",
      "metadata": {
        "id": "be764c2a",
        "outputId": "e9b5b68a-2a4e-4ade-8f7b-93c0d2e3f5cf"
      },
      "outputs": [
        {
          "name": "stdout",
          "output_type": "stream",
          "text": [
            "Iteration through dict vals:\n",
            "1\n",
            "9\n",
            "25\n",
            "49\n",
            "81\n"
          ]
        }
      ],
      "source": [
        "# # Iterate through vals\n",
        "print(\"Iteration through dict vals:\")\n",
        "\n",
        "for value in squares.values():\n",
        "    print(value)"
      ]
    },
    {
      "cell_type": "code",
      "execution_count": null,
      "id": "bc1b98c6",
      "metadata": {
        "scrolled": false,
        "id": "bc1b98c6",
        "outputId": "6d13572a-fb90-4675-b825-875f102ea8f3"
      },
      "outputs": [
        {
          "name": "stdout",
          "output_type": "stream",
          "text": [
            "Iteration through dict key-val pairs:\n",
            "(1, 1)\n",
            "(3, 9)\n",
            "(5, 25)\n",
            "(7, 49)\n",
            "(9, 81)\n"
          ]
        }
      ],
      "source": [
        "# Iterate through key-val pairs\n",
        "print(\"Iteration through dict key-val pairs:\")\n",
        "\n",
        "for item in squares.items():\n",
        "    print(item)"
      ]
    },
    {
      "cell_type": "markdown",
      "id": "a357ceea",
      "metadata": {
        "id": "a357ceea"
      },
      "source": [
        "#### Exercise"
      ]
    },
    {
      "cell_type": "code",
      "execution_count": null,
      "id": "983c976d",
      "metadata": {
        "id": "983c976d",
        "outputId": "87dc039f-11b5-41db-9036-00df126c2410"
      },
      "outputs": [
        {
          "name": "stdout",
          "output_type": "stream",
          "text": [
            "The original dictionary: {1: 1, 3: 9, 5: 25, 7: 49, 9: 81}\n"
          ]
        }
      ],
      "source": [
        "print(\"The original dictionary:\", squares)"
      ]
    },
    {
      "cell_type": "code",
      "execution_count": null,
      "id": "a2fd1baf",
      "metadata": {
        "id": "a2fd1baf",
        "outputId": "29891b60-f7e5-43ad-b9e1-16ec3992c3a0"
      },
      "outputs": [
        {
          "name": "stdout",
          "output_type": "stream",
          "text": [
            "2\n"
          ]
        }
      ],
      "source": [
        "# Check existence - True = 1 / False = 0\n",
        "a = 1 in squares # True\n",
        "b = 2 not in squares # True\n",
        "c = 49 in squares # False\n",
        "d = 49 in squares.keys() # False\n",
        "e = 49 in squares.values() # True\n",
        "\n",
        "result = (a+b+c)**d+e\n",
        "\n",
        "print(result)"
      ]
    },
    {
      "cell_type": "markdown",
      "id": "17aae0bb",
      "metadata": {
        "id": "17aae0bb"
      },
      "source": [
        "#### Exercise"
      ]
    },
    {
      "cell_type": "code",
      "execution_count": null,
      "id": "f2ba300f",
      "metadata": {
        "id": "f2ba300f",
        "outputId": "ee0be139-4f9a-4bda-b73e-8758b08694d5"
      },
      "outputs": [
        {
          "name": "stdout",
          "output_type": "stream",
          "text": [
            "{3: 9, 6: 36, 9: 81}\n"
          ]
        }
      ],
      "source": [
        "my_dict = {3: 9, 6: 36, 9: 81}\n",
        "print(my_dict)"
      ]
    },
    {
      "cell_type": "code",
      "execution_count": null,
      "id": "b6840de8",
      "metadata": {
        "id": "b6840de8",
        "outputId": "793569ac-e991-41ba-8c03-947ce5eba6a1"
      },
      "outputs": [
        {
          "name": "stdout",
          "output_type": "stream",
          "text": [
            "9\n"
          ]
        }
      ],
      "source": [
        "print(my_dict[3])"
      ]
    },
    {
      "cell_type": "code",
      "execution_count": null,
      "id": "5100cb33",
      "metadata": {
        "id": "5100cb33",
        "outputId": "cbebfab7-d438-4aed-f5a0-e4ef9e97f2ab"
      },
      "outputs": [
        {
          "ename": "KeyError",
          "evalue": "2",
          "output_type": "error",
          "traceback": [
            "\u001b[0;31m---------------------------------------------------------------------------\u001b[0m",
            "\u001b[0;31mKeyError\u001b[0m                                  Traceback (most recent call last)",
            "Cell \u001b[0;32mIn[94], line 1\u001b[0m\n\u001b[0;32m----> 1\u001b[0m \u001b[38;5;28mprint\u001b[39m(\u001b[43mmy_dict\u001b[49m\u001b[43m[\u001b[49m\u001b[38;5;241;43m2\u001b[39;49m\u001b[43m]\u001b[49m)\n",
            "\u001b[0;31mKeyError\u001b[0m: 2"
          ]
        }
      ],
      "source": [
        "print(my_dict[2])"
      ]
    },
    {
      "cell_type": "code",
      "execution_count": null,
      "id": "4eda99f3",
      "metadata": {
        "scrolled": true,
        "id": "4eda99f3",
        "outputId": "a4281ce6-4794-4e02-c005-d97bcf1d173c"
      },
      "outputs": [
        {
          "name": "stdout",
          "output_type": "stream",
          "text": [
            "!\n"
          ]
        }
      ],
      "source": [
        "print(my_dict.get(2, \"!\"))"
      ]
    },
    {
      "cell_type": "markdown",
      "id": "57699acf",
      "metadata": {
        "id": "57699acf"
      },
      "source": [
        "#### Exercise"
      ]
    },
    {
      "cell_type": "code",
      "execution_count": null,
      "id": "614952fb",
      "metadata": {
        "id": "614952fb",
        "outputId": "cb283cdb-8e67-4f83-afc9-572e5e0063f8"
      },
      "outputs": [
        {
          "name": "stdout",
          "output_type": "stream",
          "text": [
            "{}\n"
          ]
        }
      ],
      "source": [
        "new_dict = {}\n",
        "print(new_dict)"
      ]
    },
    {
      "cell_type": "code",
      "execution_count": null,
      "id": "f572bff7",
      "metadata": {
        "scrolled": true,
        "id": "f572bff7",
        "outputId": "d3a6ed35-3e78-4556-c223-bd7378229f64"
      },
      "outputs": [
        {
          "name": "stdout",
          "output_type": "stream",
          "text": [
            "{(8, 7): 15, (8, 3, 4): 15}\n"
          ]
        }
      ],
      "source": [
        "# Tuple as key - immutable\n",
        "new_dict[(8, 3, 4)] = 15\n",
        "print(new_dict)"
      ]
    },
    {
      "cell_type": "code",
      "execution_count": null,
      "id": "75b786f1",
      "metadata": {
        "id": "75b786f1",
        "outputId": "a0907803-d59a-4a4b-99a6-be91993e4960"
      },
      "outputs": [
        {
          "name": "stdout",
          "output_type": "stream",
          "text": [
            "{(8, 7): 15, (8, 3, 4): 15, 7: [3, 4]}\n"
          ]
        }
      ],
      "source": [
        "# List as key - mutable\n",
        "new_dict[[3, 4]] = 7\n",
        "print(new_dict)"
      ]
    },
    {
      "cell_type": "markdown",
      "id": "12bfd6ff",
      "metadata": {
        "id": "12bfd6ff"
      },
      "source": [
        "## Modules"
      ]
    },
    {
      "cell_type": "markdown",
      "id": "25002ec1",
      "metadata": {
        "id": "25002ec1"
      },
      "source": [
        "#### Built-in Modules"
      ]
    },
    {
      "cell_type": "code",
      "execution_count": null,
      "id": "e48bd0a0",
      "metadata": {
        "id": "e48bd0a0"
      },
      "outputs": [],
      "source": [
        "import math"
      ]
    },
    {
      "cell_type": "code",
      "execution_count": null,
      "id": "d225df4b",
      "metadata": {
        "id": "d225df4b",
        "outputId": "3300ad4f-4b58-4925-80f3-5ff7ba58152c"
      },
      "outputs": [
        {
          "name": "stdout",
          "output_type": "stream",
          "text": [
            "4.0\n"
          ]
        }
      ],
      "source": [
        "num = 16\n",
        "print(math.sqrt(num))"
      ]
    },
    {
      "cell_type": "code",
      "execution_count": null,
      "id": "8082860a",
      "metadata": {
        "id": "8082860a",
        "outputId": "db65577a-f7d2-4a32-c333-c0653edb1bd9"
      },
      "outputs": [
        {
          "name": "stdout",
          "output_type": "stream",
          "text": [
            "24\n"
          ]
        }
      ],
      "source": [
        "num = 4\n",
        "print(math.factorial(num))"
      ]
    },
    {
      "cell_type": "code",
      "execution_count": null,
      "id": "bd23286f",
      "metadata": {
        "id": "bd23286f",
        "outputId": "409f34c0-7a5f-4a53-bd04-ee320cd03268"
      },
      "outputs": [
        {
          "name": "stdout",
          "output_type": "stream",
          "text": [
            "3.141592653589793\n"
          ]
        }
      ],
      "source": [
        "print(math.pi)"
      ]
    },
    {
      "cell_type": "code",
      "execution_count": null,
      "id": "d9c9c7c6",
      "metadata": {
        "id": "d9c9c7c6",
        "outputId": "f010c8fa-beae-452c-f466-1880af2473d0"
      },
      "outputs": [
        {
          "name": "stdout",
          "output_type": "stream",
          "text": [
            "1.2246467991473532e-16\n"
          ]
        }
      ],
      "source": [
        "val = math.pi\n",
        "print(math.sin(val))"
      ]
    },
    {
      "cell_type": "code",
      "execution_count": null,
      "id": "a1ea2c36",
      "metadata": {
        "id": "a1ea2c36",
        "outputId": "2a571d63-0be4-4b55-afc5-9f23483ee1f4"
      },
      "outputs": [
        {
          "name": "stdout",
          "output_type": "stream",
          "text": [
            "3\n",
            "2\n"
          ]
        }
      ],
      "source": [
        "# Ceiling of a number\n",
        "num = 2.3\n",
        "print(math.ceil(num))\n",
        "print(math.floor(num))"
      ]
    },
    {
      "cell_type": "code",
      "execution_count": null,
      "id": "de55beb6",
      "metadata": {
        "id": "de55beb6"
      },
      "outputs": [],
      "source": [
        "import random"
      ]
    },
    {
      "cell_type": "code",
      "execution_count": null,
      "id": "aa543777",
      "metadata": {
        "id": "aa543777",
        "outputId": "d7566311-87ec-4285-9772-19826305936c"
      },
      "outputs": [
        {
          "data": {
            "text/plain": [
              "10"
            ]
          },
          "execution_count": 138,
          "metadata": {},
          "output_type": "execute_result"
        }
      ],
      "source": [
        "random.randint(1, 10)"
      ]
    },
    {
      "cell_type": "code",
      "execution_count": null,
      "id": "b7cbc406",
      "metadata": {
        "id": "b7cbc406",
        "outputId": "1d1ac983-07f6-4687-f92f-ec8326cde563"
      },
      "outputs": [
        {
          "data": {
            "text/plain": [
              "0.82"
            ]
          },
          "execution_count": 148,
          "metadata": {},
          "output_type": "execute_result"
        }
      ],
      "source": [
        "round(random.random(), 2)"
      ]
    },
    {
      "cell_type": "code",
      "execution_count": null,
      "id": "65d8ef2c",
      "metadata": {
        "scrolled": true,
        "id": "65d8ef2c",
        "outputId": "10be61fd-0686-43fa-9178-22d9487a96a8"
      },
      "outputs": [
        {
          "data": {
            "text/plain": [
              "10"
            ]
          },
          "execution_count": 153,
          "metadata": {},
          "output_type": "execute_result"
        }
      ],
      "source": [
        "random.choice([3, 4, 6, 10])"
      ]
    },
    {
      "cell_type": "markdown",
      "id": "5b1d71a9",
      "metadata": {
        "id": "5b1d71a9"
      },
      "source": [
        "#### from ... import ..."
      ]
    },
    {
      "cell_type": "code",
      "execution_count": null,
      "id": "1f28602e",
      "metadata": {
        "id": "1f28602e",
        "outputId": "6d6976b7-1e88-47da-cecd-9681984b9f30"
      },
      "outputs": [
        {
          "name": "stdout",
          "output_type": "stream",
          "text": [
            "4.0\n"
          ]
        }
      ],
      "source": [
        "from math import sqrt, floor, ceil\n",
        "\n",
        "# square root of a number\n",
        "num = 16\n",
        "print(sqrt(num))"
      ]
    },
    {
      "cell_type": "code",
      "execution_count": null,
      "id": "8fa0c03b",
      "metadata": {
        "id": "8fa0c03b",
        "outputId": "13e5c056-04aa-46a8-8c89-5d67cf0ebad8"
      },
      "outputs": [
        {
          "name": "stdout",
          "output_type": "stream",
          "text": [
            "4\n"
          ]
        }
      ],
      "source": [
        "from random import randint\n",
        "\n",
        "# Draw random integer in a range\n",
        "print(randint(1, 10))"
      ]
    },
    {
      "cell_type": "markdown",
      "id": "3d4b88c2",
      "metadata": {
        "id": "3d4b88c2"
      },
      "source": [
        "#### User-Defined Modules"
      ]
    },
    {
      "cell_type": "code",
      "execution_count": null,
      "id": "fd117ba2",
      "metadata": {
        "id": "fd117ba2"
      },
      "outputs": [],
      "source": [
        "import math_calculator as mc"
      ]
    },
    {
      "cell_type": "code",
      "execution_count": null,
      "id": "67ddb99b",
      "metadata": {
        "id": "67ddb99b"
      },
      "outputs": [],
      "source": [
        "mc.pi = 3.14"
      ]
    },
    {
      "cell_type": "code",
      "execution_count": null,
      "id": "344070d7",
      "metadata": {
        "id": "344070d7"
      },
      "outputs": [],
      "source": [
        "mc.e = 2.73"
      ]
    },
    {
      "cell_type": "code",
      "execution_count": null,
      "id": "dd19a23e",
      "metadata": {
        "id": "dd19a23e",
        "outputId": "683306f1-ba7a-4bbf-c4f8-45a397c4906d"
      },
      "outputs": [
        {
          "data": {
            "text/plain": [
              "2.73"
            ]
          },
          "execution_count": 168,
          "metadata": {},
          "output_type": "execute_result"
        }
      ],
      "source": [
        "mc.e"
      ]
    },
    {
      "cell_type": "code",
      "execution_count": null,
      "id": "4cffedbe",
      "metadata": {
        "id": "4cffedbe",
        "outputId": "1d1138a5-5618-4cbb-e444-5aa7c7ace585"
      },
      "outputs": [
        {
          "name": "stdout",
          "output_type": "stream",
          "text": [
            "3.14 John\n"
          ]
        }
      ],
      "source": [
        "print(mc.pi, mc.person1['name'])"
      ]
    },
    {
      "cell_type": "code",
      "execution_count": null,
      "id": "31d7f9c2",
      "metadata": {
        "id": "31d7f9c2",
        "outputId": "d17bcbfd-4658-443b-8f24-cf1fd2141db4"
      },
      "outputs": [
        {
          "name": "stdout",
          "output_type": "stream",
          "text": [
            "100\n"
          ]
        }
      ],
      "source": [
        "print(mc.find_sqaure(10))"
      ]
    },
    {
      "cell_type": "code",
      "execution_count": null,
      "id": "af18cb91",
      "metadata": {
        "id": "af18cb91",
        "outputId": "b669baaf-68f1-4bd4-e4ff-419b666072b9"
      },
      "outputs": [
        {
          "name": "stdout",
          "output_type": "stream",
          "text": [
            "7.0\n"
          ]
        }
      ],
      "source": [
        "from math_calculator import find_square_root\n",
        "\n",
        "print(find_square_root(49))"
      ]
    },
    {
      "cell_type": "code",
      "execution_count": null,
      "id": "9f65d53e",
      "metadata": {
        "id": "9f65d53e"
      },
      "outputs": [],
      "source": [
        "def find_square_root(a, b):\n",
        "    return a**0.5, b**0.5"
      ]
    },
    {
      "cell_type": "code",
      "execution_count": null,
      "id": "fb55f615",
      "metadata": {
        "scrolled": true,
        "id": "fb55f615",
        "outputId": "6b7dcc20-ac40-4c09-bf93-9261c734279f"
      },
      "outputs": [
        {
          "data": {
            "text/plain": [
              "(6.0, 7.0)"
            ]
          },
          "execution_count": 175,
          "metadata": {},
          "output_type": "execute_result"
        }
      ],
      "source": [
        "find_square_root(36, 49)"
      ]
    },
    {
      "cell_type": "markdown",
      "id": "4b20d162",
      "metadata": {
        "id": "4b20d162"
      },
      "source": [
        "## Functional Programming"
      ]
    },
    {
      "cell_type": "markdown",
      "id": "0c1afaa6",
      "metadata": {
        "id": "0c1afaa6"
      },
      "source": [
        "#### Lambda Function"
      ]
    },
    {
      "cell_type": "code",
      "execution_count": null,
      "id": "abb0ef96",
      "metadata": {
        "id": "abb0ef96",
        "outputId": "e0226ad6-590f-455f-91a4-3c062392aebe"
      },
      "outputs": [
        {
          "name": "stdout",
          "output_type": "stream",
          "text": [
            "15\n"
          ]
        }
      ],
      "source": [
        "# Normal functions\n",
        "def add_1(a, b):\n",
        "    return a + b\n",
        "\n",
        "added_val_1 = add_1(5, 10)\n",
        "print(added_val_1)"
      ]
    },
    {
      "cell_type": "code",
      "execution_count": null,
      "id": "e7b09ddb",
      "metadata": {
        "id": "e7b09ddb",
        "outputId": "c4575dd2-6446-4af2-ac40-a1fc0b0e2ea0"
      },
      "outputs": [
        {
          "name": "stdout",
          "output_type": "stream",
          "text": [
            "15\n"
          ]
        }
      ],
      "source": [
        "# Lambda function\n",
        "add_2 = lambda a, b: a + b\n",
        "\n",
        "added_val_2 = add_2(5, 10)\n",
        "print(added_val_2)"
      ]
    },
    {
      "cell_type": "code",
      "execution_count": null,
      "id": "46cb1d27",
      "metadata": {
        "id": "46cb1d27",
        "outputId": "f1b8863a-7953-42b6-b62a-4547e5f74b32"
      },
      "outputs": [
        {
          "name": "stdout",
          "output_type": "stream",
          "text": [
            "Hello World\n",
            "Hello World\n",
            "Hello New World\n"
          ]
        }
      ],
      "source": [
        "# Another example\n",
        "def greet1():\n",
        "    print(\"Hello World\")\n",
        "\n",
        "greet2 = lambda : print(\"Hello World\")\n",
        "\n",
        "greet3 = lambda name: print(\"Hello \" + name)\n",
        "\n",
        "greet1()\n",
        "greet2()\n",
        "greet3(\"New World\")"
      ]
    },
    {
      "cell_type": "markdown",
      "id": "dc2b3925",
      "metadata": {
        "id": "dc2b3925"
      },
      "source": [
        "#### map()"
      ]
    },
    {
      "cell_type": "markdown",
      "id": "711dc2f5",
      "metadata": {
        "id": "711dc2f5"
      },
      "source": [
        "The map() function in Python does not modify the original iterable in-place. Instead, it applies a specified function to each element of the iterable and returns an iterable containing the results. The original iterable remains unchanged."
      ]
    },
    {
      "cell_type": "code",
      "execution_count": null,
      "id": "d47342b3",
      "metadata": {
        "id": "d47342b3",
        "outputId": "7b59084c-66a8-41cb-b349-cf0fb17ef237"
      },
      "outputs": [
        {
          "name": "stdout",
          "output_type": "stream",
          "text": [
            "[4, 16, 64, 36, 64, 100]\n"
          ]
        }
      ],
      "source": [
        "# Example - with normal Python function\n",
        "numbers = [2, 4, 8, 6, 8, 10]\n",
        "\n",
        "def square(number):\n",
        "    return number ** 2\n",
        "\n",
        "numbersSquare_list = list(map(square, numbers))\n",
        "\n",
        "print(numbersSquare_list)"
      ]
    },
    {
      "cell_type": "code",
      "execution_count": null,
      "id": "f01962f8",
      "metadata": {
        "scrolled": true,
        "id": "f01962f8",
        "outputId": "3aeea413-a12c-498a-d1f6-0e9460a08e8e"
      },
      "outputs": [
        {
          "name": "stdout",
          "output_type": "stream",
          "text": [
            "[4, 16, 64, 36, 64, 100]\n"
          ]
        }
      ],
      "source": [
        "# with Lambda function\n",
        "numbersSquare_list = list(map(lambda x: x**2, numbers))\n",
        "print(numbersSquare_list)"
      ]
    },
    {
      "cell_type": "markdown",
      "id": "6f391693",
      "metadata": {
        "id": "6f391693"
      },
      "source": [
        "#### filter()"
      ]
    },
    {
      "cell_type": "code",
      "execution_count": null,
      "id": "b5a2a771",
      "metadata": {
        "id": "b5a2a771"
      },
      "outputs": [],
      "source": [
        "scores = [66, 90, 68, 59, 76, 60, 88, 74, 81, 65]"
      ]
    },
    {
      "cell_type": "code",
      "execution_count": null,
      "id": "27ecc85a",
      "metadata": {
        "id": "27ecc85a",
        "outputId": "49a3200a-062e-4bad-d481-ca8008f6b3e9"
      },
      "outputs": [
        {
          "name": "stdout",
          "output_type": "stream",
          "text": [
            "Filtered list: [90, 76, 88, 81]\n"
          ]
        }
      ],
      "source": [
        "def is_A_student(score):\n",
        "    return score > 75\n",
        "\n",
        "filtered_scores = filter(is_A_student, scores)\n",
        "\n",
        "over_75 = list(filtered_scores)\n",
        "print(\"Filtered list:\", over_75)"
      ]
    },
    {
      "cell_type": "code",
      "execution_count": null,
      "id": "1cfae862",
      "metadata": {
        "id": "1cfae862",
        "outputId": "8f8a9bbf-5407-489e-89c4-366c8aa2a966"
      },
      "outputs": [
        {
          "name": "stdout",
          "output_type": "stream",
          "text": [
            "Filtered list: [90, 76, 88, 81]\n"
          ]
        }
      ],
      "source": [
        "filtered_scores = filter(lambda x: x > 75, scores)\n",
        "\n",
        "over_75 = list(filtered_scores)\n",
        "print(\"Filtered list:\", over_75)"
      ]
    },
    {
      "cell_type": "markdown",
      "id": "3d83505b",
      "metadata": {
        "id": "3d83505b"
      },
      "source": [
        "## Class Activity"
      ]
    },
    {
      "cell_type": "code",
      "execution_count": null,
      "id": "e26c7cca",
      "metadata": {
        "id": "e26c7cca",
        "outputId": "481cc2eb-b906-4f0b-c258-fae1367fe8f9"
      },
      "outputs": [
        {
          "name": "stdout",
          "output_type": "stream",
          "text": [
            "20 8\n"
          ]
        }
      ],
      "source": [
        "# What is the output?\n",
        "\n",
        "# lambda function with trenary operator\n",
        "func = lambda a, b: b - a if a <= b else a * b\n",
        "\n",
        "print(func(10, 2), func(2, 10))"
      ]
    },
    {
      "cell_type": "code",
      "execution_count": null,
      "id": "ba1b3524",
      "metadata": {
        "scrolled": true,
        "id": "ba1b3524",
        "outputId": "31994198-b09f-4f57-a984-33b2ce54b65e"
      },
      "outputs": [
        {
          "name": "stdout",
          "output_type": "stream",
          "text": [
            "(-3, -9)\n"
          ]
        }
      ],
      "source": [
        "# Write a code to keep negative numbers (use both ordinary and lambda functions)\n",
        "\n",
        "numbers = [1, 0, -3, 6, 5, -9, 24]\n",
        "\n",
        "less_than_zero = list(filter(lambda x: x<0, numbers))\n",
        "\n",
        "print(less_than_zero)"
      ]
    },
    {
      "cell_type": "code",
      "execution_count": null,
      "id": "347a3a29",
      "metadata": {
        "id": "347a3a29",
        "outputId": "7cac3f5f-1640-42d5-863f-a99d9c9c4a70"
      },
      "outputs": [
        {
          "name": "stdout",
          "output_type": "stream",
          "text": [
            "[5, 3, 6]\n"
          ]
        }
      ],
      "source": [
        "# Write a code to find the length of each string\n",
        "\n",
        "strings = [\"apple\", \"fig\", \"orange\"]\n",
        "\n",
        "lengths_list = list(map(lambda s: len(s), strings))\n",
        "# lengths_list = list(map(len, strings))\n",
        "\n",
        "print(lengths_list)"
      ]
    },
    {
      "cell_type": "code",
      "execution_count": null,
      "id": "b560ae09",
      "metadata": {
        "id": "b560ae09",
        "outputId": "19120045-0603-49ff-fc14-479a9dfad2f4"
      },
      "outputs": [
        {
          "name": "stdout",
          "output_type": "stream",
          "text": [
            "[2, 4, 6, 8]\n"
          ]
        }
      ],
      "source": [
        "# Write a code to keep even numbers\n",
        "\n",
        "numbers = [1, 2, 3, 4, 5, 6, 7, 8]\n",
        "\n",
        "even_numbers_list = list(filter(lambda a: a % 2 == 0, numbers))\n",
        "\n",
        "print(even_numbers_list)"
      ]
    },
    {
      "cell_type": "code",
      "execution_count": null,
      "id": "65cc81d0",
      "metadata": {
        "id": "65cc81d0",
        "outputId": "a6df032c-6687-47ab-802a-01a2a4b3c674"
      },
      "outputs": [
        {
          "name": "stdout",
          "output_type": "stream",
          "text": [
            "['a', 'e', 'i', 'o']\n"
          ]
        }
      ],
      "source": [
        "# Write a code to keep vowels\n",
        "\n",
        "letters = ['a', 'b', 'd', 'e', 'i', 'j', 'o']\n",
        "vowels = ['a', 'e', 'i', 'o', 'u']\n",
        "\n",
        "filtered_vowels = list(filter(lambda x: x in vowels, letters))\n",
        "\n",
        "print(filtered_vowels)"
      ]
    },
    {
      "cell_type": "markdown",
      "id": "27bb190a",
      "metadata": {
        "id": "27bb190a"
      },
      "source": [
        "### LeetCode 169"
      ]
    },
    {
      "cell_type": "code",
      "execution_count": null,
      "id": "8dbf3f7f",
      "metadata": {
        "id": "8dbf3f7f"
      },
      "outputs": [],
      "source": [
        "def some_func():\n",
        "    print(2)"
      ]
    },
    {
      "cell_type": "code",
      "execution_count": null,
      "id": "e3acd94c",
      "metadata": {
        "scrolled": true,
        "id": "e3acd94c"
      },
      "outputs": [],
      "source": [
        "def majorityElement(nums):\n",
        "\n",
        "    freq = dict()\n",
        "\n",
        "    for num in nums:\n",
        "        if freq.get(num, None) is None:\n",
        "            freq[num] = 1\n",
        "        else:\n",
        "            freq[num] += 1\n",
        "\n",
        "    for key in freq:\n",
        "        if freq[key] > (len(nums) // 2):\n",
        "            return key"
      ]
    },
    {
      "cell_type": "code",
      "execution_count": null,
      "id": "f8f0c8de",
      "metadata": {
        "id": "f8f0c8de",
        "outputId": "8e1b501b-6faa-45f6-cc73-f2002fb7ad30"
      },
      "outputs": [
        {
          "name": "stdout",
          "output_type": "stream",
          "text": [
            "3\n"
          ]
        }
      ],
      "source": [
        "# Test Case 1\n",
        "nums = [3, 2, 3]\n",
        "print(majorityElement(nums))"
      ]
    },
    {
      "cell_type": "code",
      "execution_count": null,
      "id": "476faad6",
      "metadata": {
        "id": "476faad6",
        "outputId": "f2306ba1-d639-47c7-a405-fdace045909b"
      },
      "outputs": [
        {
          "name": "stdout",
          "output_type": "stream",
          "text": [
            "2\n"
          ]
        }
      ],
      "source": [
        "# Test Case 2\n",
        "nums = [2, 2, 1, 1, 1, 2, 2]\n",
        "print(majorityElement(nums))"
      ]
    },
    {
      "cell_type": "markdown",
      "id": "730c6084",
      "metadata": {
        "id": "730c6084"
      },
      "source": [
        "## Scope of Variables"
      ]
    },
    {
      "cell_type": "code",
      "execution_count": null,
      "id": "562528f0",
      "metadata": {
        "id": "562528f0",
        "outputId": "89473d0b-9a49-403f-bb84-37edd1b72363"
      },
      "outputs": [
        {
          "name": "stdout",
          "output_type": "stream",
          "text": [
            "4\n",
            "5\n",
            "4\n"
          ]
        }
      ],
      "source": [
        "def my_function():\n",
        "    x = 5 # local variable\n",
        "    print(x)\n",
        "\n",
        "x = 4 # global variable\n",
        "print(x)\n",
        "my_function()\n",
        "print(x)"
      ]
    },
    {
      "cell_type": "code",
      "execution_count": null,
      "id": "8b87437b",
      "metadata": {
        "id": "8b87437b",
        "outputId": "608ceaf0-bacb-4b5e-b260-4a1e868bccff"
      },
      "outputs": [
        {
          "name": "stdout",
          "output_type": "stream",
          "text": [
            "9\n",
            "4\n"
          ]
        }
      ],
      "source": [
        "def my_function():\n",
        "    z = 5 # local variable\n",
        "    print(z + y)\n",
        "\n",
        "y = 4 # global variable\n",
        "my_function()\n",
        "print(y)\n",
        "# print(z) # Error: Not defined!"
      ]
    },
    {
      "cell_type": "code",
      "execution_count": null,
      "id": "aef5a730",
      "metadata": {
        "scrolled": true,
        "id": "aef5a730",
        "outputId": "e75bb20f-902b-451a-a6fb-ef9432ffd51c"
      },
      "outputs": [
        {
          "name": "stdout",
          "output_type": "stream",
          "text": [
            "AB\n",
            "AB\n",
            "CD\n",
            "CD\n"
          ]
        }
      ],
      "source": [
        "# This function modifies global variable 's'\n",
        "def f():\n",
        "    global s\n",
        "    print(s)\n",
        "    s = \"CD\" # global variable\n",
        "    print(s)\n",
        "\n",
        "s = \"AB\" # global variable\n",
        "print(s)\n",
        "f()\n",
        "print(s)"
      ]
    },
    {
      "cell_type": "code",
      "execution_count": null,
      "id": "3020f423",
      "metadata": {
        "id": "3020f423",
        "outputId": "5694e4b3-33ba-48cd-9f1f-37ebb2671bf9"
      },
      "outputs": [
        {
          "name": "stdout",
          "output_type": "stream",
          "text": [
            "Maria\n",
            "Peter\n",
            "Nicole\n"
          ]
        }
      ],
      "source": [
        "# Example\n",
        "s1 = \"Maria\" # global variable\n",
        "\n",
        "def f():\n",
        "    s3 = \"Nicole\" # local variable\n",
        "    print(s1)\n",
        "    print(s2)\n",
        "    print(s3)\n",
        "\n",
        "s2 = \"Peter\" # global variable\n",
        "f()"
      ]
    },
    {
      "cell_type": "markdown",
      "id": "69b642f4",
      "metadata": {
        "id": "69b642f4"
      },
      "source": [
        "### Call by Value"
      ]
    },
    {
      "cell_type": "code",
      "execution_count": null,
      "id": "478d227e",
      "metadata": {
        "id": "478d227e",
        "outputId": "f5410282-bab9-4f78-e5ef-2de50cbf8e91"
      },
      "outputs": [
        {
          "name": "stdout",
          "output_type": "stream",
          "text": [
            "Original value: 10\n",
            "\n",
            "Original value after modification: 10\n",
            "\n",
            "Modified value: 11\n"
          ]
        }
      ],
      "source": [
        "# Integer\n",
        "def modify_value(x):\n",
        "    x += 1\n",
        "    return x\n",
        "\n",
        "original_variable = 10\n",
        "\n",
        "print(\"Original value:\", original_variable)\n",
        "\n",
        "result = modify_value(original_variable)\n",
        "\n",
        "print(\"\\nOriginal value after modification:\", original_variable)\n",
        "\n",
        "print(\"\\nModified value:\", result)"
      ]
    },
    {
      "cell_type": "code",
      "execution_count": null,
      "id": "74d1bf24",
      "metadata": {
        "id": "74d1bf24",
        "outputId": "7c059dee-a208-451b-ddf6-7883116f299d"
      },
      "outputs": [
        {
          "name": "stdout",
          "output_type": "stream",
          "text": [
            "Original string: Hello\n",
            "\n",
            "Original string after update: Hello\n",
            "\n",
            "Modified string: Hello World!\n"
          ]
        }
      ],
      "source": [
        "# Strings\n",
        "def modify_string(input_string):\n",
        "    input_string += \" World!\"\n",
        "    return input_string\n",
        "\n",
        "original_string = \"Hello\"\n",
        "\n",
        "print(\"Original string:\", original_string)\n",
        "\n",
        "modified_string = modify_string(original_string)\n",
        "\n",
        "print(\"\\nOriginal string after update:\", original_string)\n",
        "\n",
        "print(\"\\nModified string:\", modified_string)"
      ]
    },
    {
      "cell_type": "markdown",
      "id": "ea828780",
      "metadata": {
        "id": "ea828780"
      },
      "source": [
        "### Call by Reference"
      ]
    },
    {
      "cell_type": "code",
      "execution_count": null,
      "id": "40a6f5ae",
      "metadata": {
        "id": "40a6f5ae",
        "outputId": "7baa9d70-0ea3-4429-ddad-391659cba282"
      },
      "outputs": [
        {
          "name": "stdout",
          "output_type": "stream",
          "text": [
            "Original list: [1, 2, 3]\n",
            "Modified list: [1, 2, 3, 4]\n"
          ]
        }
      ],
      "source": [
        "# Lists\n",
        "def modify_list(lst):\n",
        "    lst.append(4)\n",
        "\n",
        "original_list = [1, 2, 3]\n",
        "\n",
        "print(\"Original list:\", original_list)\n",
        "\n",
        "modify_list(original_list)\n",
        "\n",
        "print(\"Modified list:\", original_list)"
      ]
    },
    {
      "cell_type": "code",
      "execution_count": null,
      "id": "fa55c413",
      "metadata": {
        "id": "fa55c413",
        "outputId": "d9e2c333-5c5b-4bcf-da35-ca614fad1db0"
      },
      "outputs": [
        {
          "name": "stdout",
          "output_type": "stream",
          "text": [
            "Original Dictionary: {'key1': 'value1', 'key2': 'value2'}\n",
            "Modified Dictionary: {'key1': 'value1', 'key2': 'new_value'}\n"
          ]
        }
      ],
      "source": [
        "# Dictionaries\n",
        "def modify_dict(input_dict):\n",
        "    input_dict['key2'] = 'new_value'\n",
        "\n",
        "original_dict = {'key1': 'value1', 'key2': 'value2'}\n",
        "\n",
        "print(\"Original Dictionary:\", original_dict)\n",
        "\n",
        "modify_dict(original_dict)\n",
        "\n",
        "print(\"Modified Dictionary:\", original_dict)"
      ]
    },
    {
      "cell_type": "markdown",
      "id": "3b04ca30",
      "metadata": {
        "id": "3b04ca30"
      },
      "source": [
        "## Class Activity"
      ]
    },
    {
      "cell_type": "markdown",
      "id": "69de4c04",
      "metadata": {
        "id": "69de4c04"
      },
      "source": [
        "### Global vs Local"
      ]
    },
    {
      "cell_type": "markdown",
      "id": "5ea3a086",
      "metadata": {
        "id": "5ea3a086"
      },
      "source": [
        "#### What is the output of this code?"
      ]
    },
    {
      "cell_type": "code",
      "execution_count": null,
      "id": "ad56077c",
      "metadata": {
        "id": "ad56077c",
        "outputId": "d4fe539b-d644-4a9c-ad7c-f410013b4429"
      },
      "outputs": [
        {
          "name": "stdout",
          "output_type": "stream",
          "text": [
            "1112133\n"
          ]
        }
      ],
      "source": [
        "# What is the output?\n",
        "\n",
        "a = 1 # global variable\n",
        "\n",
        "def f():\n",
        "    print(a, end=\"\")\n",
        "\n",
        "def g():\n",
        "    a = 2 # local to g()\n",
        "    print(a, end=\"\")\n",
        "\n",
        "def h():\n",
        "    global a\n",
        "    a = 3 # local to h()\n",
        "    print(a, end=\"\")\n",
        "\n",
        "print(a, end=\"\")\n",
        "f()\n",
        "print(a, end=\"\")\n",
        "g()\n",
        "print(a, end=\"\")\n",
        "h()\n",
        "print(a)"
      ]
    },
    {
      "cell_type": "markdown",
      "id": "c175d8ae",
      "metadata": {
        "id": "c175d8ae"
      },
      "source": [
        "#### What is the output of this code?"
      ]
    },
    {
      "cell_type": "code",
      "execution_count": null,
      "id": "2e431c96",
      "metadata": {
        "id": "2e431c96",
        "outputId": "7570afdb-53ef-4713-9c32-073879a689bd"
      },
      "outputs": [
        {
          "name": "stdout",
          "output_type": "stream",
          "text": [
            "30 40 30 40 30\n"
          ]
        }
      ],
      "source": [
        "x = 10 # global var\n",
        "\n",
        "def outer_function():\n",
        "\n",
        "    y = 20 # local to outer / global to inner\n",
        "\n",
        "    def inner_function():\n",
        "        global x\n",
        "        nonlocal y\n",
        "\n",
        "        x = 30 # overwrites globally\n",
        "        y = 40 # overwrites locally\n",
        "\n",
        "        print(x, end=\" \")\n",
        "        print(y, end=\" \")\n",
        "\n",
        "    inner_function()\n",
        "    print(x, end=\" \")\n",
        "    print(y, end=\" \")\n",
        "\n",
        "outer_function()\n",
        "print(x)"
      ]
    },
    {
      "cell_type": "markdown",
      "id": "838fa983",
      "metadata": {
        "id": "838fa983"
      },
      "source": [
        "### Call by Value or Reference"
      ]
    },
    {
      "cell_type": "markdown",
      "id": "6834c558",
      "metadata": {
        "id": "6834c558"
      },
      "source": [
        "#### What is the output of this code?"
      ]
    },
    {
      "cell_type": "code",
      "execution_count": null,
      "id": "ea10ed6e",
      "metadata": {
        "id": "ea10ed6e",
        "outputId": "8099ddcb-d998-48c5-8148-0e1208a73142"
      },
      "outputs": [
        {
          "ename": "TypeError",
          "evalue": "unsupported operand type(s) for +=: 'bool' and 'str'",
          "output_type": "error",
          "traceback": [
            "\u001b[0;31m---------------------------------------------------------------------------\u001b[0m",
            "\u001b[0;31mTypeError\u001b[0m                                 Traceback (most recent call last)",
            "Cell \u001b[0;32mIn[244], line 5\u001b[0m\n\u001b[1;32m      3\u001b[0m     b \u001b[38;5;241m+\u001b[39m\u001b[38;5;241m=\u001b[39m \u001b[38;5;241m4\u001b[39m\n\u001b[1;32m      4\u001b[0m     c[\u001b[38;5;124m'\u001b[39m\u001b[38;5;124ma\u001b[39m\u001b[38;5;124m'\u001b[39m] \u001b[38;5;241m=\u001b[39m \u001b[38;5;241m3\u001b[39m\n\u001b[0;32m----> 5\u001b[0m d \u001b[38;5;241m+\u001b[39m\u001b[38;5;241m=\u001b[39m \u001b[38;5;124m\"\u001b[39m\u001b[38;5;124mWorld\u001b[39m\u001b[38;5;124m\"\u001b[39m\n\u001b[1;32m      7\u001b[0m var1 \u001b[38;5;241m=\u001b[39m [\u001b[38;5;241m-\u001b[39m\u001b[38;5;241m1\u001b[39m]   \u001b[38;5;66;03m# mutable\u001b[39;00m\n\u001b[1;32m      8\u001b[0m var2 \u001b[38;5;241m=\u001b[39m \u001b[38;5;241m0\u001b[39m      \u001b[38;5;66;03m# immutable\u001b[39;00m\n",
            "\u001b[0;31mTypeError\u001b[0m: unsupported operand type(s) for +=: 'bool' and 'str'"
          ]
        }
      ],
      "source": [
        "def modifier(a, b, c, d):\n",
        "    a.append(3)\n",
        "    b += 4\n",
        "    c['a'] = 3\n",
        "    d += \"World\"\n",
        "\n",
        "var1 = [-1]   # mutable\n",
        "var2 = 0      # immutable\n",
        "var3 = {}     # mutable\n",
        "var4 = \"Hey \" # immutable\n",
        "\n",
        "modifier(var1, var2, var3, var4)\n",
        "\n",
        "# [-1, 3] 0 {'a':3} \"Hey \"\n",
        "\n",
        "print(var1, var2, var3, var4)"
      ]
    },
    {
      "cell_type": "markdown",
      "id": "e3c7c87e",
      "metadata": {
        "id": "e3c7c87e"
      },
      "source": [
        "### LeetCode 1"
      ]
    },
    {
      "cell_type": "code",
      "execution_count": null,
      "id": "9a96d7ef",
      "metadata": {
        "id": "9a96d7ef"
      },
      "outputs": [],
      "source": [
        "def twoSum(nums, target):\n",
        "    dict1 = {}\n",
        "    for i in range(len(nums)):\n",
        "        dict1[nums[i]] = i\n",
        "    for i in range(len(nums)):\n",
        "        complement = target - nums[i]\n",
        "        if complement in dict1 and dict1[complement] != i:\n",
        "            return [i, dict1[complement]]"
      ]
    },
    {
      "cell_type": "code",
      "execution_count": null,
      "id": "b55feadb",
      "metadata": {
        "id": "b55feadb"
      },
      "outputs": [],
      "source": [
        "def twoSum(nums, target):\n",
        "    dict1 = {}\n",
        "    for i in range(len(nums)):\n",
        "        complement = target - nums[i]\n",
        "        if complement in dict1:\n",
        "            return [i, dict1[complement]]\n",
        "        dict1[nums[i]] = i"
      ]
    },
    {
      "cell_type": "code",
      "execution_count": null,
      "id": "844f6230",
      "metadata": {
        "id": "844f6230",
        "outputId": "ae02fd3d-96a8-4cd5-ebb3-3cc635d46f07"
      },
      "outputs": [
        {
          "name": "stdout",
          "output_type": "stream",
          "text": [
            "[1, 0]\n"
          ]
        }
      ],
      "source": [
        "# Test Case 1\n",
        "nums = [2, 7, 11, 15]\n",
        "target = 9\n",
        "print(twoSum(nums, target))"
      ]
    },
    {
      "cell_type": "code",
      "execution_count": null,
      "id": "843671ce",
      "metadata": {
        "id": "843671ce",
        "outputId": "ed066d7e-5808-4d45-9efb-e68caf4f32dd"
      },
      "outputs": [
        {
          "name": "stdout",
          "output_type": "stream",
          "text": [
            "[2, 1]\n"
          ]
        }
      ],
      "source": [
        "# Test Case 2\n",
        "nums = [3, 2, 4]\n",
        "target = 6\n",
        "print(twoSum(nums, target))"
      ]
    },
    {
      "cell_type": "code",
      "execution_count": null,
      "id": "783824c7",
      "metadata": {
        "id": "783824c7",
        "outputId": "5bfbce3d-a4ee-4268-d6ea-9364500d8f40"
      },
      "outputs": [
        {
          "name": "stdout",
          "output_type": "stream",
          "text": [
            "[1, 0]\n"
          ]
        }
      ],
      "source": [
        "# Test Case 3\n",
        "nums = [3, 3]\n",
        "target = 6\n",
        "print(twoSum(nums, target))"
      ]
    }
  ],
  "metadata": {
    "kernelspec": {
      "display_name": "Python 3 (ipykernel)",
      "language": "python",
      "name": "python3"
    },
    "language_info": {
      "codemirror_mode": {
        "name": "ipython",
        "version": 3
      },
      "file_extension": ".py",
      "mimetype": "text/x-python",
      "name": "python",
      "nbconvert_exporter": "python",
      "pygments_lexer": "ipython3",
      "version": "3.10.9"
    },
    "colab": {
      "provenance": [],
      "include_colab_link": true
    }
  },
  "nbformat": 4,
  "nbformat_minor": 5
}